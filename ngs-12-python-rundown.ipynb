{
 "metadata": {
  "name": "ngs-12-python-rundown"
 },
 "nbformat": 3,
 "worksheets": [
  {
   "cells": [
    {
     "cell_type": "markdown",
     "source": [
      "# Python"
     ]
    },
    {
     "cell_type": "code",
     "input": [
      "a = 5",
      "b = 'hello, world'",
      "c = '5'",
      "print a",
      "print b",
      "print c",
      "",
      "a = \"five\"",
      "d = \"someone else's problem\"",
      "",
      "e = 10.5",
      "print e",
      "",
      "f = \"\"\"this is a triple quote.",
      "",
      "It actually supports multiple lines",
      "\"\"\""
     ],
     "language": "python",
     "outputs": [
      {
       "output_type": "stream",
       "stream": "stdout",
       "text": [
        "5",
        "hello, world",
        "5",
        "10.5",
        ""
       ]
      }
     ],
     "prompt_number": 5
    },
    {
     "cell_type": "code",
     "input": [
      "# list",
      "x = [a, b, c, d, 20, 30, 40]",
      "print x",
      "print x[0]",
      "print x[4]"
     ],
     "language": "python",
     "outputs": [
      {
       "output_type": "stream",
       "stream": "stdout",
       "text": [
        "['five', 'hello, world', '5', \"someone else's problem\", 20, 30, 40]",
        "five",
        "20",
        ""
       ]
      }
     ],
     "prompt_number": 9
    },
    {
     "cell_type": "code",
     "input": [
      "y = [10, 20, 30]",
      "z = [15, 25, 35, 45]",
      "x = [y, z]",
      "print x",
      "print x[0]",
      "print x[0][2]"
     ],
     "language": "python",
     "outputs": [
      {
       "output_type": "stream",
       "stream": "stdout",
       "text": [
        "[[10, 20, 30], [15, 25, 35, 45]]",
        "[10, 20, 30]",
        "30",
        ""
       ]
      }
     ],
     "prompt_number": 17
    },
    {
     "cell_type": "code",
     "input": [
      "print 5*5",
      "print 30/2",
      "print 10+10",
      "print 52-5",
      "a = 10",
      "print a*40"
     ],
     "language": "python",
     "outputs": [
      {
       "output_type": "stream",
       "stream": "stdout",
       "text": [
        "25",
        "15",
        "20",
        "47",
        "400",
        ""
       ]
      }
     ],
     "prompt_number": 19
    },
    {
     "cell_type": "code",
     "input": [
      "a = True",
      "",
      "if a:",
      "    print 'a is True'",
      "else:",
      "    print 'a is False'",
      "",
      "b = False",
      "if not b:",
      "    print 'b is False'",
      "else:",
      "    print 'b is True'",
      ""
     ],
     "language": "python",
     "outputs": [
      {
       "output_type": "stream",
       "stream": "stdout",
       "text": [
        "a is True",
        "b is False",
        ""
       ]
      }
     ],
     "prompt_number": 24
    },
    {
     "cell_type": "code",
     "input": [
      "x = 0",
      "y = 1",
      "",
      "a = \"\"",
      "b = \"something\"",
      "",
      "if a:",
      "    print 'a evaluates to True'",
      "if b:",
      "    print 'b evaluates to True'",
      "if x:",
      "    print 'x evaluates to True'",
      "if y:",
      "    print 'y evaluates to True'",
      "    ",
      "if x == 0:",
      "    print 'x is zero'",
      "",
      ""
     ],
     "language": "python",
     "outputs": [
      {
       "output_type": "stream",
       "stream": "stdout",
       "text": [
        "b evaluates to True",
        "y evaluates to True",
        "x is zero",
        ""
       ]
      }
     ],
     "prompt_number": 27
    },
    {
     "cell_type": "code",
     "input": [
      "x = 5",
      "if x > 5:",
      "    print 'x is greater than 5'",
      "if x <= 5:",
      "    print 'x is less than or equal to 5'"
     ],
     "language": "python",
     "outputs": [
      {
       "output_type": "stream",
       "stream": "stdout",
       "text": [
        "x is less than or equal to 5",
        ""
       ]
      }
     ],
     "prompt_number": 29
    },
    {
     "cell_type": "code",
     "input": [
      "x = []",
      "y = ['not empty', 1, 2, 3]",
      "z = [5, 6, 7]",
      "",
      "if x:",
      "    print 'x is True'",
      "if y:",
      "    print 'y is True'",
      "if z:",
      "    print 'z is True'"
     ],
     "language": "python",
     "outputs": [
      {
       "output_type": "stream",
       "stream": "stdout",
       "text": [
        "y is True",
        "z is True",
        ""
       ]
      }
     ],
     "prompt_number": 28
    },
    {
     "cell_type": "code",
     "input": [
      "5 / 2.0"
     ],
     "language": "python",
     "outputs": [
      {
       "output_type": "pyout",
       "prompt_number": 31,
       "text": [
        "2.5"
       ]
      }
     ],
     "prompt_number": 31
    },
    {
     "cell_type": "code",
     "input": [
      "x = [ 'five', 10, 2.5 ]",
      "for a in x:",
      "    print a",
      "",
      "for a in range(4, 10):",
      "    print a*2"
     ],
     "language": "python",
     "outputs": [
      {
       "output_type": "stream",
       "stream": "stdout",
       "text": [
        "five",
        "10",
        "2.5",
        "8",
        "10",
        "12",
        "14",
        "16",
        "18",
        ""
       ]
      }
     ],
     "prompt_number": 34
    },
    {
     "cell_type": "code",
     "input": [
      "x = ['5', 'mark', 'neal']",
      "print x",
      "print len(x)",
      "x.append('jorge')",
      "print x",
      "print len(x)",
      "",
      "print x[2]",
      "",
      "x = ['5', 'mark', 'neal', 'jorge']",
      "y = []",
      "for a in x:",
      "    if not a.startswith('j'):",
      "        y.append(a)",
      "print y"
     ],
     "language": "python",
     "outputs": [
      {
       "output_type": "stream",
       "stream": "stdout",
       "text": [
        "['5', 'mark', 'neal']",
        "3",
        "['5', 'mark', 'neal', 'jorge']",
        "4",
        "neal",
        "['5', 'mark', 'neal']",
        ""
       ]
      }
     ],
     "prompt_number": 43
    },
    {
     "cell_type": "code",
     "input": [
      "x = ['5', 'mark', 'neal', 'jorge']",
      "y = []",
      "for a in x:",
      "    print \"I am at\", a",
      "    if not a.startswith('j'):",
      "        print \"apparently here a does not start with j\", a",
      "        y.append(a)",
      "        print y",
      "    else:",
      "        print 'rejecting', a",
      "print y"
     ],
     "language": "python",
     "outputs": [
      {
       "output_type": "stream",
       "stream": "stdout",
       "text": [
        "I am at 5",
        "apparently here a does not start with j 5",
        "['5']",
        "I am at mark",
        "apparently here a does not start with j mark",
        "['5', 'mark']",
        "I am at neal",
        "apparently here a does not start with j neal",
        "['5', 'mark', 'neal']",
        "I am at jorge",
        "rejecting jorge",
        "['5', 'mark', 'neal']",
        ""
       ]
      }
     ],
     "prompt_number": 46
    },
    {
     "cell_type": "code",
     "input": [
      "this_a_really_complicated_variable_name = 5",
      ""
     ],
     "language": "python",
     "outputs": [],
     "prompt_number": 47
    },
    {
     "cell_type": "code",
     "input": [
      "a = \"some string\"",
      "if a.startswith('ome str', 1):",
      "    print 'yes it does'"
     ],
     "language": "python",
     "outputs": [
      {
       "output_type": "stream",
       "stream": "stdout",
       "text": [
        "yes it does",
        ""
       ]
      }
     ],
     "prompt_number": 53
    },
    {
     "cell_type": "code",
     "input": [
      "# you can also Python what functions are available on a list",
      "dir(x)",
      "help(x)"
     ],
     "language": "python",
     "outputs": [
      {
       "output_type": "stream",
       "stream": "stdout",
       "text": [
        "Help on list object:",
        "",
        "class list(object)",
        " |  list() -> new empty list",
        " |  list(iterable) -> new list initialized from iterable's items",
        " |  ",
        " |  Methods defined here:",
        " |  ",
        " |  __add__(...)",
        " |      x.__add__(y) <==> x+y",
        " |  ",
        " |  __contains__(...)",
        " |      x.__contains__(y) <==> y in x",
        " |  ",
        " |  __delitem__(...)",
        " |      x.__delitem__(y) <==> del x[y]",
        " |  ",
        " |  __delslice__(...)",
        " |      x.__delslice__(i, j) <==> del x[i:j]",
        " |      ",
        " |      Use of negative indices is not supported.",
        " |  ",
        " |  __eq__(...)",
        " |      x.__eq__(y) <==> x==y",
        " |  ",
        " |  __ge__(...)",
        " |      x.__ge__(y) <==> x>=y",
        " |  ",
        " |  __getattribute__(...)",
        " |      x.__getattribute__('name') <==> x.name",
        " |  ",
        " |  __getitem__(...)",
        " |      x.__getitem__(y) <==> x[y]",
        " |  ",
        " |  __getslice__(...)",
        " |      x.__getslice__(i, j) <==> x[i:j]",
        " |      ",
        " |      Use of negative indices is not supported.",
        " |  ",
        " |  __gt__(...)",
        " |      x.__gt__(y) <==> x>y",
        " |  ",
        " |  __iadd__(...)",
        " |      x.__iadd__(y) <==> x+=y",
        " |  ",
        " |  __imul__(...)",
        " |      x.__imul__(y) <==> x*=y",
        " |  ",
        " |  __init__(...)",
        " |      x.__init__(...) initializes x; see help(type(x)) for signature",
        " |  ",
        " |  __iter__(...)",
        " |      x.__iter__() <==> iter(x)",
        " |  ",
        " |  __le__(...)",
        " |      x.__le__(y) <==> x<=y",
        " |  ",
        " |  __len__(...)",
        " |      x.__len__() <==> len(x)",
        " |  ",
        " |  __lt__(...)",
        " |      x.__lt__(y) <==> x<y",
        " |  ",
        " |  __mul__(...)",
        " |      x.__mul__(n) <==> x*n",
        " |  ",
        " |  __ne__(...)",
        " |      x.__ne__(y) <==> x!=y",
        " |  ",
        " |  __repr__(...)",
        " |      x.__repr__() <==> repr(x)",
        " |  ",
        " |  __reversed__(...)",
        " |      L.__reversed__() -- return a reverse iterator over the list",
        " |  ",
        " |  __rmul__(...)",
        " |      x.__rmul__(n) <==> n*x",
        " |  ",
        " |  __setitem__(...)",
        " |      x.__setitem__(i, y) <==> x[i]=y",
        " |  ",
        " |  __setslice__(...)",
        " |      x.__setslice__(i, j, y) <==> x[i:j]=y",
        " |      ",
        " |      Use  of negative indices is not supported.",
        " |  ",
        " |  __sizeof__(...)",
        " |      L.__sizeof__() -- size of L in memory, in bytes",
        " |  ",
        " |  append(...)",
        " |      L.append(object) -- append object to end",
        " |  ",
        " |  count(...)",
        " |      L.count(value) -> integer -- return number of occurrences of value",
        " |  ",
        " |  extend(...)",
        " |      L.extend(iterable) -- extend list by appending elements from the iterable",
        " |  ",
        " |  index(...)",
        " |      L.index(value, [start, [stop]]) -> integer -- return first index of value.",
        " |      Raises ValueError if the value is not present.",
        " |  ",
        " |  insert(...)",
        " |      L.insert(index, object) -- insert object before index",
        " |  ",
        " |  pop(...)",
        " |      L.pop([index]) -> item -- remove and return item at index (default last).",
        " |      Raises IndexError if list is empty or index is out of range.",
        " |  ",
        " |  remove(...)",
        " |      L.remove(value) -- remove first occurrence of value.",
        " |      Raises ValueError if the value is not present.",
        " |  ",
        " |  reverse(...)",
        " |      L.reverse() -- reverse *IN PLACE*",
        " |  ",
        " |  sort(...)",
        " |      L.sort(cmp=None, key=None, reverse=False) -- stable sort *IN PLACE*;",
        " |      cmp(x, y) -> -1, 0, 1",
        " |  ",
        " |  ----------------------------------------------------------------------",
        " |  Data and other attributes defined here:",
        " |  ",
        " |  __hash__ = None",
        " |  ",
        " |  __new__ = <built-in method __new__ of type object>",
        " |      T.__new__(S, ...) -> a new object with type S, a subtype of T",
        "",
        ""
       ]
      }
     ],
     "prompt_number": 58
    },
    {
     "cell_type": "code",
     "input": [
      "import math",
      "print math.factorial(10)"
     ],
     "language": "python",
     "outputs": [
      {
       "output_type": "stream",
       "stream": "stdout",
       "text": [
        "3628800",
        ""
       ]
      }
     ],
     "prompt_number": 59
    },
    {
     "cell_type": "markdown",
     "source": [
      "# Other Python resources",
      "",
      "Introductory Python tutorial:",
      "http://docs.python.org/tutorial/index.html",
      "",
      "Head First Python",
      "http://www.headfirstlabs.com/books/hfpython/",
      "",
      "Software Carpentry:",
      "http://software-carpentry.org/",
      "",
      "Python Standard Library:",
      "http://docs.python.org/library/index.html",
      "",
      "Python Cookbook:",
      "http://code.activestate.com/recipes/langs/python/",
      "",
      "Dive Into Python:",
      "http://www.diveintopython.net/",
      "",
      "Intermediate and Advanced Software Carpentry:",
      "http://ivory.idyll.org/articles/advanced-swc/"
     ]
    },
    {
     "cell_type": "markdown",
     "source": [
      "# Bioinformatics resources",
      "",
      "Q&A site: http://www.biostars.org/",
      "",
      "seqanswers.com"
     ]
    },
    {
     "cell_type": "code",
     "input": [
      "cd /mnt",
      ""
     ],
     "language": "python",
     "outputs": [
      {
       "output_type": "stream",
       "stream": "stdout",
       "text": [
        "/mnt"
       ]
      },
      {
       "output_type": "stream",
       "stream": "stdout",
       "text": [
        "",
        ""
       ]
      }
     ],
     "prompt_number": 61
    },
    {
     "cell_type": "code",
     "input": [
      "ls"
     ],
     "language": "python",
     "outputs": [
      {
       "output_type": "stream",
       "stream": "stdout",
       "text": [
        "\u001b[0m\u001b[01;34mblast-2.2.24\u001b[0m/                   mouse.protein.faa.psi",
        "blast-2.2.24-ia32-linux.tar.gz  mouse.protein.faa.psq",
        "formatdb.log                    out.txt",
        "\u001b[01;34mlost+found\u001b[0m/                     zebrafish.protein.faa",
        "mm-first.fa                     zebrafish.protein.faa.phr",
        "mouse.protein.faa               zebrafish.protein.faa.pin",
        "mouse.protein.faa.phr           zebrafish.protein.faa.pnd",
        "mouse.protein.faa.pin           zebrafish.protein.faa.pni",
        "mouse.protein.faa.pnd           zebrafish.protein.faa.psd",
        "mouse.protein.faa.pni           zebrafish.protein.faa.psi",
        "mouse.protein.faa.psd           zebrafish.protein.faa.psq",
        ""
       ]
      }
     ],
     "prompt_number": 62
    },
    {
     "cell_type": "code",
     "input": [
      "!head -11 mouse.protein.faa >mm-first.fa",
      "!cat mm-first.fa"
     ],
     "language": "python",
     "outputs": [
      {
       "output_type": "stream",
       "stream": "stdout",
       "text": [
        ">gi|83029092|ref|XP_357633.3| PREDICTED: similar to Ig kappa chain V-V region L7 precursor [Mus musculus]",
        "MRSLPASELSLPYHQDFRPDSSCPGLTDNHLLCEPTQKPRYPDLGRKRSGENRHRYRDVCISFIRRSFSALCHNPQKLRE",
        "NLKMVSTSQLLGLLLFWTSASRCDIVMTQSPATLSVTPGDRVSLSCRASQSISDYLHWYQQKSHESPRLLIKYASQSISG",
        "IPSRFSGSGSGSDFTLSINSVEPEDVGVYYCQNGHSFPPTMMQTIAKTSRKAEVRG",
        ">gi|70778726|ref|NP_067474.2| WD repeat domain 8 [Mus musculus]",
        "MNFSESFKLSGLLCRFSPDGKYLASCVQYRLVIRDVTTLQILQLYTCLDQIQHIEWSADSLFILCAMYRRGLVQVWSLEQ",
        "PEWHCKIDEGSAGLVASCWSPDGRHILNTTEFHLRITVWSLCTKSVSYIKYPKACQQGLTFTRDGRYLALAERRDCRDYV",
        "SIFVCSDWQLLRHFDTDTQDLTGIEWAPNGCVLAAWDTCLEYKVLLYSLDGRLLSAYCAYEWSLGIKSVAWSPSSQFLAI",
        "GSYDGKVRLLNHVTWKMITEFGHPATINNPKTVVYKEAEKSPLLGLGHLSFPPPRAMAGALSTSESKYEIASGPVSLQTL",
        "KPVADRANPRMGVGMLAFSSDSYFLASRNDNVPNAVWIWDIQKLKLFVVLEHMSPVRSFQWDPQQPRLAICTGGSKVYLW",
        "SPAGCVSVQVPGEGDFPVLGLCWHLSGDSLALLSKDHFCLCFLETKERVGTAYEQRDGMPRT",
        ""
       ]
      }
     ],
     "prompt_number": 64
    },
    {
     "cell_type": "code",
     "input": [
      "!head -9 zebrafish.protein.faa  > zfin-first.fa"
     ],
     "language": "python",
     "outputs": [],
     "prompt_number": 67
    },
    {
     "cell_type": "code",
     "input": [
      "ls"
     ],
     "language": "python",
     "outputs": [
      {
       "output_type": "stream",
       "stream": "stdout",
       "text": [
        "\u001b[0m\u001b[01;34mblast-2.2.24\u001b[0m/                   mouse.protein.faa.psq",
        "blast-2.2.24-ia32-linux.tar.gz  out.txt",
        "formatdb.log                    zebrafish.protein.faa",
        "\u001b[01;34mlost+found\u001b[0m/                     zebrafish.protein.faa.phr",
        "mm-first.fa                     zebrafish.protein.faa.pin",
        "mouse.protein.faa               zebrafish.protein.faa.pnd",
        "mouse.protein.faa.phr           zebrafish.protein.faa.pni",
        "mouse.protein.faa.pin           zebrafish.protein.faa.psd",
        "mouse.protein.faa.pnd           zebrafish.protein.faa.psi",
        "mouse.protein.faa.pni           zebrafish.protein.faa.psq",
        "mouse.protein.faa.psd           zfin-first.fa",
        "mouse.protein.faa.psi",
        ""
       ]
      }
     ],
     "prompt_number": 68
    },
    {
     "cell_type": "code",
     "input": [
      "import os",
      "for filename in ['mm-first.fa', 'zfin-first.fa']:",
      "    !echo {filename}.out",
      "    !blastall -i {filename} -o {filename}.out -d zebrafish.protein.faa -e 1e-10 -p blastp",
      "    #os.system('blastall -i %s -o %s.out -d zebrafish.protein.faa -p blastp' % (filename, filename))",
      ""
     ],
     "language": "python",
     "outputs": [
      {
       "output_type": "stream",
       "stream": "stdout",
       "text": [
        "mm-first.fa.out",
        ""
       ]
      },
      {
       "output_type": "stream",
       "stream": "stdout",
       "text": [
        "zfin-first.fa.out",
        ""
       ]
      }
     ],
     "prompt_number": 83
    },
    {
     "cell_type": "code",
     "input": [
      ""
     ],
     "language": "python",
     "outputs": []
    }
   ]
  }
 ]
}