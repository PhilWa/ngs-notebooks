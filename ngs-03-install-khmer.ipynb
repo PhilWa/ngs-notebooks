{
 "metadata": {
  "name": "ngs-03-install-khmer"
 },
 "nbformat": 3,
 "worksheets": [
  {
   "cells": [
    {
     "cell_type": "markdown",
     "source": [
      "# Installing khmer",
      "",
      "khmer is a package that, like screed, was developed by the Brown Lab.  It's for k-mer counting and other nefarious purposes.",
      "",
      "See: http://readthedocs.org/docs/khmer/en/latest/"
     ]
    },
    {
     "cell_type": "code",
     "input": [
      "cd /usr/local/src"
     ],
     "language": "python",
     "outputs": []
    },
    {
     "cell_type": "code",
     "input": [
      "!git clone git://github.com/ged-lab/khmer.git"
     ],
     "language": "python",
     "outputs": []
    },
    {
     "cell_type": "code",
     "input": [
      "!cd khmer && make test"
     ],
     "language": "python",
     "outputs": []
    },
    {
     "cell_type": "code",
     "input": [
      "!easy_install khmer/python"
     ],
     "language": "python",
     "outputs": []
    },
    {
     "cell_type": "code",
     "input": [
      ""
     ],
     "language": "python",
     "outputs": []
    }
   ]
  }
 ]
}