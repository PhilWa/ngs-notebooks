{
 "metadata": {
  "name": "ngs-03-install-khmer"
 },
 "nbformat": 3,
 "worksheets": [
  {
   "cells": [
    {
     "cell_type": "markdown",
     "source": [
      "# Installing khmer",
      "",
      "khmer is a package that, like screed, was developed by the Brown Lab.  It's for k-mer counting and other nefarious purposes.",
      "",
      "See: http://readthedocs.org/docs/khmer/en/latest/"
     ]
    },
    {
     "cell_type": "code",
     "input": [
      "cd /usr/local/src"
     ],
     "language": "python",
     "outputs": [
      {
       "output_type": "stream",
       "stream": "stdout",
       "text": [
        "/usr/local/src",
        ""
       ]
      }
     ],
     "prompt_number": 1
    },
    {
     "cell_type": "code",
     "input": [
      "!git clone git://github.com/ged-lab/khmer.git"
     ],
     "language": "python",
     "outputs": [
      {
       "output_type": "stream",
       "stream": "stdout",
       "text": [
        "Cloning into khmer...",
        ""
       ]
      },
      {
       "output_type": "stream",
       "stream": "stdout",
       "text": [
        "remote: Counting objects: 7432, done.\u001b[K",
        ""
       ]
      },
      {
       "output_type": "stream",
       "stream": "stdout",
       "text": [
        "remote: Compressing objects:   0% (1/2349)   \u001b[K",
        "remote: Compressing objects:   1% (24/2349)   \u001b[K",
        "remote: Compressing objects:   2% (47/2349)   \u001b[K",
        "remote: Compressing objects:   3% (71/2349)   \u001b[K",
        "remote: Compressing objects:   4% (94/2349)   \u001b[K"
       ]
      },
      {
       "output_type": "stream",
       "stream": "stdout",
       "text": [
        "remote: Compressing objects:   5% (118/2349)   \u001b[K",
        "remote: Compressing objects:   6% (141/2349)   \u001b[K",
        "remote: Compressing objects:   7% (165/2349)   \u001b[K",
        "remote: Compressing objects:   8% (188/2349)   \u001b[K",
        "remote: Compressing objects:   9% (212/2349)   \u001b[K",
        "remote: Compressing objects:  10% (235/2349)   \u001b[K",
        "remote: Compressing objects:  11% (259/2349)   \u001b[K",
        "remote: Compressing objects:  12% (282/2349)   \u001b[K"
       ]
      },
      {
       "output_type": "stream",
       "stream": "stdout",
       "text": [
        "remote: Compressing objects:  13% (306/2349)   \u001b[K"
       ]
      },
      {
       "output_type": "stream",
       "stream": "stdout",
       "text": [
        "remote: Compressing objects:  14% (329/2349)   \u001b[K"
       ]
      },
      {
       "output_type": "stream",
       "stream": "stdout",
       "text": [
        "remote: Compressing objects:  15% (353/2349)   \u001b[K",
        "remote: Compressing objects:  16% (376/2349)   \u001b[K",
        "remote: Compressing objects:  17% (400/2349)   \u001b[K",
        "remote: Compressing objects:  18% (423/2349)   \u001b[K",
        "remote: Compressing objects:  19% (447/2349)   \u001b[K",
        "remote: Compressing objects:  20% (470/2349)   \u001b[K",
        "remote: Compressing objects:  21% (494/2349)   \u001b[K",
        "remote: Compressing objects:  22% (517/2349)   \u001b[K",
        "remote: Compressing objects:  23% (541/2349)   \u001b[K",
        "remote: Compressing objects:  24% (564/2349)   \u001b[K"
       ]
      },
      {
       "output_type": "stream",
       "stream": "stdout",
       "text": [
        "remote: Compressing objects:  25% (588/2349)   \u001b[K"
       ]
      },
      {
       "output_type": "stream",
       "stream": "stdout",
       "text": [
        "remote: Compressing objects:  26% (611/2349)   \u001b[K",
        "remote: Compressing objects:  27% (635/2349)   \u001b[K",
        "remote: Compressing objects:  28% (658/2349)   \u001b[K",
        "remote: Compressing objects:  29% (682/2349)   \u001b[K",
        "remote: Compressing objects:  30% (705/2349)   \u001b[K",
        "remote: Compressing objects:  31% (729/2349)   \u001b[K",
        "remote: Compressing objects:  32% (752/2349)   \u001b[K",
        "remote: Compressing objects:  33% (776/2349)   \u001b[K",
        "remote: Compressing objects:  34% (799/2349)   \u001b[K",
        "remote: Compressing objects:  35% (823/2349)   \u001b[K",
        "remote: Compressing objects:  36% (846/2349)   \u001b[K",
        "remote: Compressing objects:  37% (870/2349)   \u001b[K",
        "remote: Compressing objects:  38% (893/2349)   \u001b[K",
        "remote: Compressing objects:  39% (917/2349)   \u001b[K",
        "remote: Compressing objects:  40% (940/2349)   \u001b[K",
        "remote: Compressing objects:  41% (964/2349)   \u001b[K",
        "remote: Compressing objects:  42% (987/2349)   \u001b[K",
        "remote: Compressing objects:  43% (1011/2349)   \u001b[K",
        "remote: Compressing objects:  44% (1034/2349)   \u001b[K",
        "remote: Compressing objects:  45% (1058/2349)   \u001b[K",
        "remote: Compressing objects:  46% (1081/2349)   \u001b[K",
        "remote: Compressing objects:  47% (1105/2349)   \u001b[K",
        "remote: Compressing objects:  48% (1128/2349)   \u001b[K",
        "remote: Compressing objects:  49% (1152/2349)   \u001b[K",
        "remote: Compressing objects:  50% (1175/2349)   \u001b[K",
        "remote: Compressing objects:  51% (1198/2349)   \u001b[K",
        "remote: Compressing objects:  52% (1222/2349)   \u001b[K"
       ]
      },
      {
       "output_type": "stream",
       "stream": "stdout",
       "text": [
        "remote: Compressing objects:  53% (1245/2349)   \u001b[K",
        "remote: Compressing objects:  54% (1269/2349)   \u001b[K",
        "remote: Compressing objects:  55% (1292/2349)   \u001b[K",
        "remote: Compressing objects:  56% (1316/2349)   \u001b[K",
        "remote: Compressing objects:  57% (1339/2349)   \u001b[K",
        "remote: Compressing objects:  58% (1363/2349)   \u001b[K",
        "remote: Compressing objects:  59% (1386/2349)   \u001b[K",
        "remote: Compressing objects:  60% (1410/2349)   \u001b[K",
        "remote: Compressing objects:  61% (1433/2349)   \u001b[K",
        "remote: Compressing objects:  62% (1457/2349)   \u001b[K",
        "remote: Compressing objects:  63% (1480/2349)   \u001b[K",
        "remote: Compressing objects:  64% (1504/2349)   \u001b[K",
        "remote: Compressing objects:  65% (1527/2349)   \u001b[K",
        "remote: Compressing objects:  66% (1551/2349)   \u001b[K",
        "remote: Compressing objects:  67% (1574/2349)   \u001b[K",
        "remote: Compressing objects:  68% (1598/2349)   \u001b[K",
        "remote: Compressing objects:  69% (1621/2349)   \u001b[K",
        "remote: Compressing objects:  70% (1645/2349)   \u001b[K",
        "remote: Compressing objects:  71% (1668/2349)   \u001b[K",
        "remote: Compressing objects:  72% (1692/2349)   \u001b[K",
        "remote: Compressing objects:  73% (1715/2349)   \u001b[K",
        "remote: Compressing objects:  74% (1739/2349)   \u001b[K",
        "remote: Compressing objects:  75% (1762/2349)   \u001b[K",
        "remote: Compressing objects:  76% (1786/2349)   \u001b[K",
        "remote: Compressing objects:  77% (1809/2349)   \u001b[K",
        "remote: Compressing objects:  78% (1833/2349)   \u001b[K",
        "remote: Compressing objects:  79% (1856/2349)   \u001b[K",
        "remote: Compressing objects:  80% (1880/2349)   \u001b[K",
        "remote: Compressing objects:  81% (1903/2349)   \u001b[K",
        "remote: Compressing objects:  82% (1927/2349)   \u001b[K",
        "remote: Compressing objects:  83% (1950/2349)   \u001b[K",
        "remote: Compressing objects:  84% (1974/2349)   \u001b[K",
        "remote: Compressing objects:  85% (1997/2349)   \u001b[K",
        "remote: Compressing objects:  86% (2021/2349)   \u001b[K",
        "remote: Compressing objects:  87% (2044/2349)   \u001b[K",
        "remote: Compressing objects:  88% (2068/2349)   \u001b[K",
        "remote: Compressing objects:  89% (2091/2349)   \u001b[K",
        "remote: Compressing objects:  90% (2115/2349)   \u001b[K",
        "remote: Compressing objects:  91% (2138/2349)   \u001b[K",
        "remote: Compressing objects:  92% (2162/2349)   \u001b[K",
        "remote: Compressing objects:  93% (2185/2349)   \u001b[K",
        "remote: Compressing objects:  94% (2209/2349)   \u001b[K",
        "remote: Compressing objects:  95% (2232/2349)   \u001b[K",
        "remote: Compressing objects:  96% (2256/2349)   \u001b[K",
        "remote: Compressing objects:  97% (2279/2349)   \u001b[K",
        "remote: Compressing objects:  98% (2303/2349)   \u001b[K",
        "remote: Compressing objects:  99% (2326/2349)   \u001b[K",
        "remote: Compressing objects: 100% (2349/2349)   \u001b[K",
        "remote: Compressing objects: 100% (2349/2349), done.\u001b[K",
        "Receiving objects:   0% (1/7432)   ",
        "Receiving objects:   1% (75/7432)   ",
        "Receiving objects:   2% (149/7432)   ",
        "Receiving objects:   3% (223/7432)   ",
        "Receiving objects:   4% (298/7432)   ",
        "Receiving objects:   5% (372/7432)   ",
        "Receiving objects:   6% (446/7432)   "
       ]
      },
      {
       "output_type": "stream",
       "stream": "stdout",
       "text": [
        "Receiving objects:   7% (521/7432)   ",
        "Receiving objects:   8% (595/7432)   ",
        "Receiving objects:   9% (669/7432)   ",
        "Receiving objects:  10% (744/7432)   ",
        "Receiving objects:  11% (818/7432)   ",
        "Receiving objects:  12% (892/7432)   ",
        "Receiving objects:  13% (967/7432)   ",
        "Receiving objects:  14% (1041/7432)   ",
        "Receiving objects:  15% (1115/7432)   ",
        "Receiving objects:  16% (1190/7432)   ",
        "Receiving objects:  17% (1264/7432)   ",
        "Receiving objects:  18% (1338/7432)   ",
        "Receiving objects:  19% (1413/7432)   ",
        "Receiving objects:  20% (1487/7432)   ",
        "Receiving objects:  21% (1561/7432)   ",
        "Receiving objects:  22% (1636/7432)   ",
        "Receiving objects:  23% (1710/7432)   "
       ]
      },
      {
       "output_type": "stream",
       "stream": "stdout",
       "text": [
        "Receiving objects:  23% (1716/7432), 15.35 MiB | 15.29 MiB/s   "
       ]
      },
      {
       "output_type": "stream",
       "stream": "stdout",
       "text": [
        "Receiving objects:  23% (1717/7432), 25.18 MiB | 12.55 MiB/s   "
       ]
      },
      {
       "output_type": "stream",
       "stream": "stdout",
       "text": [
        "Receiving objects:  23% (1731/7432), 41.64 MiB | 13.79 MiB/s   "
       ]
      },
      {
       "output_type": "stream",
       "stream": "stdout",
       "text": [
        "Receiving objects:  24% (1784/7432), 41.64 MiB | 13.79 MiB/s   ",
        "Receiving objects:  25% (1858/7432), 41.64 MiB | 13.79 MiB/s   ",
        "Receiving objects:  26% (1933/7432), 41.64 MiB | 13.79 MiB/s   ",
        "Receiving objects:  27% (2007/7432), 41.64 MiB | 13.79 MiB/s   ",
        "Receiving objects:  28% (2081/7432), 41.64 MiB | 13.79 MiB/s   ",
        "Receiving objects:  29% (2156/7432), 41.64 MiB | 13.79 MiB/s   ",
        "Receiving objects:  30% (2230/7432), 41.64 MiB | 13.79 MiB/s   ",
        "Receiving objects:  31% (2304/7432), 41.64 MiB | 13.79 MiB/s   ",
        "Receiving objects:  32% (2379/7432), 41.64 MiB | 13.79 MiB/s   ",
        "Receiving objects:  33% (2453/7432), 41.64 MiB | 13.79 MiB/s   ",
        "Receiving objects:  34% (2527/7432), 41.64 MiB | 13.79 MiB/s   ",
        "Receiving objects:  35% (2602/7432), 41.64 MiB | 13.79 MiB/s   ",
        "Receiving objects:  36% (2676/7432), 41.64 MiB | 13.79 MiB/s   ",
        "Receiving objects:  37% (2750/7432), 41.64 MiB | 13.79 MiB/s   ",
        "Receiving objects:  38% (2825/7432), 41.64 MiB | 13.79 MiB/s   ",
        "Receiving objects:  39% (2899/7432), 41.64 MiB | 13.79 MiB/s   ",
        "Receiving objects:  40% (2973/7432), 41.64 MiB | 13.79 MiB/s   ",
        "Receiving objects:  41% (3048/7432), 41.64 MiB | 13.79 MiB/s   ",
        "Receiving objects:  42% (3122/7432), 41.64 MiB | 13.79 MiB/s   ",
        "Receiving objects:  43% (3196/7432), 41.64 MiB | 13.79 MiB/s   ",
        "Receiving objects:  44% (3271/7432), 41.64 MiB | 13.79 MiB/s   "
       ]
      },
      {
       "output_type": "stream",
       "stream": "stdout",
       "text": [
        "Receiving objects:  45% (3345/7432), 41.64 MiB | 13.79 MiB/s   ",
        "Receiving objects:  46% (3419/7432), 41.64 MiB | 13.79 MiB/s   ",
        "Receiving objects:  47% (3494/7432), 41.64 MiB | 13.79 MiB/s   ",
        "Receiving objects:  48% (3568/7432), 41.64 MiB | 13.79 MiB/s   ",
        "Receiving objects:  49% (3642/7432), 41.64 MiB | 13.79 MiB/s   ",
        "Receiving objects:  50% (3716/7432), 41.64 MiB | 13.79 MiB/s   ",
        "Receiving objects:  51% (3791/7432), 41.64 MiB | 13.79 MiB/s   "
       ]
      },
      {
       "output_type": "stream",
       "stream": "stdout",
       "text": [
        "Receiving objects:  52% (3865/7432), 41.64 MiB | 13.79 MiB/s   ",
        "Receiving objects:  53% (3939/7432), 41.64 MiB | 13.79 MiB/s   ",
        "Receiving objects:  54% (4014/7432), 41.64 MiB | 13.79 MiB/s   ",
        "Receiving objects:  55% (4088/7432), 41.64 MiB | 13.79 MiB/s   ",
        "Receiving objects:  56% (4162/7432), 41.64 MiB | 13.79 MiB/s   ",
        "Receiving objects:  57% (4237/7432), 41.64 MiB | 13.79 MiB/s   ",
        "Receiving objects:  58% (4311/7432), 41.64 MiB | 13.79 MiB/s   ",
        "Receiving objects:  59% (4385/7432), 41.64 MiB | 13.79 MiB/s   ",
        "Receiving objects:  60% (4460/7432), 48.84 MiB | 13.87 MiB/s   "
       ]
      },
      {
       "output_type": "stream",
       "stream": "stdout",
       "text": [
        "Receiving objects:  61% (4534/7432), 48.84 MiB | 13.87 MiB/s   ",
        "Receiving objects:  62% (4608/7432), 48.84 MiB | 13.87 MiB/s   "
       ]
      },
      {
       "output_type": "stream",
       "stream": "stdout",
       "text": [
        "Receiving objects:  62% (4648/7432), 50.20 MiB | 12.48 MiB/s   "
       ]
      },
      {
       "output_type": "stream",
       "stream": "stdout",
       "text": [
        "Receiving objects:  62% (4648/7432), 51.40 MiB | 9.81 MiB/s   "
       ]
      },
      {
       "output_type": "stream",
       "stream": "stdout",
       "text": [
        "Receiving objects:  62% (4648/7432), 52.67 MiB | 6.46 MiB/s   "
       ]
      },
      {
       "output_type": "stream",
       "stream": "stdout",
       "text": [
        "Receiving objects:  62% (4648/7432), 53.86 MiB | 4.33 MiB/s   "
       ]
      },
      {
       "output_type": "stream",
       "stream": "stdout",
       "text": [
        "Receiving objects:  62% (4648/7432), 55.12 MiB | 1.36 MiB/s   "
       ]
      },
      {
       "output_type": "stream",
       "stream": "stdout",
       "text": [
        "Receiving objects:  62% (4649/7432), 55.76 MiB | 1.20 MiB/s   "
       ]
      },
      {
       "output_type": "stream",
       "stream": "stdout",
       "text": [
        "Receiving objects:  63% (4683/7432), 56.14 MiB | 572 KiB/s   ",
        "Receiving objects:  64% (4757/7432), 56.14 MiB | 572 KiB/s   ",
        "Receiving objects:  65% (4831/7432), 56.14 MiB | 572 KiB/s   ",
        "Receiving objects:  66% (4906/7432), 56.14 MiB | 572 KiB/s   ",
        "Receiving objects:  67% (4980/7432), 56.14 MiB | 572 KiB/s   ",
        "Receiving objects:  68% (5054/7432), 56.14 MiB | 572 KiB/s   ",
        "Receiving objects:  69% (5129/7432), 56.14 MiB | 572 KiB/s   ",
        "Receiving objects:  70% (5203/7432), 56.14 MiB | 572 KiB/s   ",
        "Receiving objects:  71% (5277/7432), 56.14 MiB | 572 KiB/s   ",
        "Receiving objects:  72% (5352/7432), 56.14 MiB | 572 KiB/s   ",
        "Receiving objects:  73% (5426/7432), 56.14 MiB | 572 KiB/s   "
       ]
      },
      {
       "output_type": "stream",
       "stream": "stdout",
       "text": [
        "Receiving objects:  74% (5500/7432), 56.14 MiB | 572 KiB/s   ",
        "Receiving objects:  75% (5574/7432), 56.14 MiB | 572 KiB/s   ",
        "Receiving objects:  76% (5649/7432), 56.14 MiB | 572 KiB/s   "
       ]
      },
      {
       "output_type": "stream",
       "stream": "stdout",
       "text": [
        "Receiving objects:  77% (5723/7432), 56.14 MiB | 572 KiB/s   ",
        "Receiving objects:  78% (5797/7432), 56.14 MiB | 572 KiB/s   ",
        "Receiving objects:  79% (5872/7432), 56.14 MiB | 572 KiB/s   ",
        "Receiving objects:  80% (5946/7432), 56.14 MiB | 572 KiB/s   ",
        "Receiving objects:  81% (6020/7432), 56.14 MiB | 572 KiB/s   ",
        "Receiving objects:  82% (6095/7432), 56.14 MiB | 572 KiB/s   ",
        "Receiving objects:  83% (6169/7432), 56.14 MiB | 572 KiB/s   ",
        "Receiving objects:  84% (6243/7432), 56.14 MiB | 572 KiB/s   ",
        "Receiving objects:  85% (6318/7432), 56.14 MiB | 572 KiB/s   ",
        "Receiving objects:  86% (6392/7432), 56.14 MiB | 572 KiB/s   ",
        "Receiving objects:  87% (6466/7432), 56.14 MiB | 572 KiB/s   ",
        "Receiving objects:  88% (6541/7432), 56.14 MiB | 572 KiB/s   ",
        "Receiving objects:  89% (6615/7432), 56.14 MiB | 572 KiB/s   ",
        "Receiving objects:  90% (6689/7432), 56.14 MiB | 572 KiB/s   ",
        "Receiving objects:  91% (6764/7432), 56.14 MiB | 572 KiB/s   ",
        "Receiving objects:  92% (6838/7432), 56.14 MiB | 572 KiB/s   ",
        "Receiving objects:  93% (6912/7432), 56.14 MiB | 572 KiB/s   ",
        "Receiving objects:  94% (6987/7432), 56.14 MiB | 572 KiB/s   ",
        "Receiving objects:  95% (7061/7432), 56.14 MiB | 572 KiB/s   ",
        "Receiving objects:  96% (7135/7432), 56.14 MiB | 572 KiB/s   ",
        "Receiving objects:  97% (7210/7432), 56.14 MiB | 572 KiB/s   ",
        "Receiving objects:  98% (7284/7432), 56.14 MiB | 572 KiB/s   ",
        "Receiving objects:  99% (7358/7432), 56.14 MiB | 572 KiB/s   ",
        "remote: Total 7432 (delta 5180), reused 7256 (delta 5021)\u001b[K",
        "Receiving objects: 100% (7432/7432), 56.14 MiB | 572 KiB/s   ",
        "Receiving objects: 100% (7432/7432), 62.33 MiB | 531 KiB/s, done.",
        ""
       ]
      },
      {
       "output_type": "stream",
       "stream": "stdout",
       "text": [
        "Resolving deltas:   0% (0/5180)   ",
        "Resolving deltas:   2% (149/5180)   ",
        "Resolving deltas:   3% (166/5180)   ",
        "Resolving deltas:   5% (287/5180)   ",
        "Resolving deltas:   6% (341/5180)   ",
        "Resolving deltas:   7% (412/5180)   ",
        "Resolving deltas:   8% (457/5180)   ",
        "Resolving deltas:  10% (531/5180)   ",
        "Resolving deltas:  12% (634/5180)   ",
        "Resolving deltas:  13% (703/5180)   ",
        "Resolving deltas:  16% (829/5180)   ",
        "Resolving deltas:  22% (1152/5180)   ",
        "Resolving deltas:  29% (1506/5180)   ",
        "Resolving deltas:  30% (1565/5180)   ",
        "Resolving deltas:  31% (1644/5180)   ",
        "Resolving deltas:  32% (1658/5180)   "
       ]
      },
      {
       "output_type": "stream",
       "stream": "stdout",
       "text": [
        "Resolving deltas:  34% (1778/5180)   ",
        "Resolving deltas:  36% (1887/5180)   ",
        "Resolving deltas:  37% (1956/5180)   ",
        "Resolving deltas:  38% (2005/5180)   ",
        "Resolving deltas:  40% (2110/5180)   ",
        "Resolving deltas:  41% (2125/5180)   ",
        "Resolving deltas:  42% (2178/5180)   ",
        "Resolving deltas:  43% (2271/5180)   ",
        "Resolving deltas:  44% (2282/5180)   ",
        "Resolving deltas:  45% (2368/5180)   ",
        "Resolving deltas:  46% (2397/5180)   ",
        "Resolving deltas:  47% (2457/5180)   ",
        "Resolving deltas:  49% (2549/5180)   ",
        "Resolving deltas:  50% (2623/5180)   ",
        "Resolving deltas:  51% (2669/5180)   ",
        "Resolving deltas:  53% (2774/5180)   ",
        "Resolving deltas:  55% (2867/5180)   ",
        "Resolving deltas:  56% (2902/5180)   ",
        "Resolving deltas:  57% (2954/5180)   ",
        "Resolving deltas:  58% (3005/5180)   "
       ]
      },
      {
       "output_type": "stream",
       "stream": "stdout",
       "text": [
        "Resolving deltas:  58% (3021/5180)   "
       ]
      },
      {
       "output_type": "stream",
       "stream": "stdout",
       "text": [
        "Resolving deltas:  59% (3071/5180)   ",
        "Resolving deltas:  60% (3115/5180)   ",
        "Resolving deltas:  61% (3171/5180)   ",
        "Resolving deltas:  62% (3239/5180)   ",
        "Resolving deltas:  63% (3270/5180)   "
       ]
      },
      {
       "output_type": "stream",
       "stream": "stdout",
       "text": [
        "Resolving deltas:  64% (3316/5180)   ",
        "Resolving deltas:  65% (3390/5180)   ",
        "Resolving deltas:  67% (3476/5180)   "
       ]
      },
      {
       "output_type": "stream",
       "stream": "stdout",
       "text": [
        "Resolving deltas:  69% (3618/5180)   ",
        "Resolving deltas:  70% (3637/5180)   ",
        "Resolving deltas:  71% (3692/5180)   ",
        "Resolving deltas:  72% (3733/5180)   ",
        "Resolving deltas:  73% (3782/5180)   "
       ]
      },
      {
       "output_type": "stream",
       "stream": "stdout",
       "text": [
        "Resolving deltas:  77% (4004/5180)   ",
        "Resolving deltas:  78% (4043/5180)   ",
        "Resolving deltas:  79% (4093/5180)   ",
        "Resolving deltas:  80% (4148/5180)   ",
        "Resolving deltas:  81% (4197/5180)   ",
        "Resolving deltas:  82% (4248/5180)   ",
        "Resolving deltas:  83% (4302/5180)   ",
        "Resolving deltas:  84% (4356/5180)   ",
        "Resolving deltas:  85% (4404/5180)   ",
        "Resolving deltas:  86% (4458/5180)   ",
        "Resolving deltas:  87% (4508/5180)   ",
        "Resolving deltas:  88% (4568/5180)   ",
        "Resolving deltas:  89% (4611/5180)   ",
        "Resolving deltas:  90% (4673/5180)   "
       ]
      },
      {
       "output_type": "stream",
       "stream": "stdout",
       "text": [
        "Resolving deltas:  91% (4736/5180)   ",
        "Resolving deltas:  92% (4783/5180)   ",
        "Resolving deltas:  94% (4895/5180)   "
       ]
      },
      {
       "output_type": "stream",
       "stream": "stdout",
       "text": [
        "Resolving deltas:  97% (5036/5180)   ",
        "Resolving deltas:  98% (5080/5180)   ",
        "Resolving deltas:  99% (5157/5180)   ",
        "Resolving deltas: 100% (5180/5180)   ",
        "Resolving deltas: 100% (5180/5180), done.",
        ""
       ]
      }
     ],
     "prompt_number": 2
    },
    {
     "cell_type": "code",
     "input": [
      "!cd khmer && make test"
     ],
     "language": "python",
     "outputs": [
      {
       "output_type": "stream",
       "stream": "stdout",
       "text": [
        "cd lib && make",
        "make[1]: Entering directory `/usr/local/src/khmer/lib'",
        "cd zlib-1.2.3; ./configure --shared; make; rm minigzip.o; rm example.o",
        "Checking for gcc...",
        ""
       ]
      },
      {
       "output_type": "stream",
       "stream": "stdout",
       "text": [
        "Checking for shared library support...",
        ""
       ]
      },
      {
       "output_type": "stream",
       "stream": "stdout",
       "text": [
        "Building shared library libz.so.1.2.3 with gcc.",
        ""
       ]
      },
      {
       "output_type": "stream",
       "stream": "stdout",
       "text": [
        "Checking for unistd.h... Yes.",
        ""
       ]
      },
      {
       "output_type": "stream",
       "stream": "stdout",
       "text": [
        "Checking whether to use vs[n]printf() or s[n]printf()... using vs[n]printf()",
        ""
       ]
      },
      {
       "output_type": "stream",
       "stream": "stdout",
       "text": [
        "Checking for vsnprintf() in stdio.h... Yes.",
        ""
       ]
      },
      {
       "output_type": "stream",
       "stream": "stdout",
       "text": [
        "Checking for return value of vsnprintf()... Yes.",
        ""
       ]
      },
      {
       "output_type": "stream",
       "stream": "stdout",
       "text": [
        "Checking for errno.h... Yes.",
        ""
       ]
      },
      {
       "output_type": "stream",
       "stream": "stdout",
       "text": [
        "Checking for mmap support... Yes.",
        "make[2]: Entering directory `/usr/local/src/khmer/lib/zlib-1.2.3'",
        "gcc -O3 -fPIC -DUSE_MMAP   -c -o example.o example.c",
        ""
       ]
      },
      {
       "output_type": "stream",
       "stream": "stdout",
       "text": [
        "gcc -O3 -fPIC -DUSE_MMAP   -c -o adler32.o adler32.c",
        ""
       ]
      },
      {
       "output_type": "stream",
       "stream": "stdout",
       "text": [
        "gcc -O3 -fPIC -DUSE_MMAP   -c -o compress.o compress.c",
        ""
       ]
      },
      {
       "output_type": "stream",
       "stream": "stdout",
       "text": [
        "gcc -O3 -fPIC -DUSE_MMAP   -c -o crc32.o crc32.c",
        ""
       ]
      },
      {
       "output_type": "stream",
       "stream": "stdout",
       "text": [
        "gcc -O3 -fPIC -DUSE_MMAP   -c -o gzio.o gzio.c",
        ""
       ]
      },
      {
       "output_type": "stream",
       "stream": "stdout",
       "text": [
        "gcc -O3 -fPIC -DUSE_MMAP   -c -o uncompr.o uncompr.c",
        ""
       ]
      },
      {
       "output_type": "stream",
       "stream": "stdout",
       "text": [
        "gcc -O3 -fPIC -DUSE_MMAP   -c -o deflate.o deflate.c",
        ""
       ]
      },
      {
       "output_type": "stream",
       "stream": "stdout",
       "text": [
        "gcc -O3 -fPIC -DUSE_MMAP   -c -o trees.o trees.c",
        ""
       ]
      },
      {
       "output_type": "stream",
       "stream": "stdout",
       "text": [
        "gcc -O3 -fPIC -DUSE_MMAP   -c -o zutil.o zutil.c",
        ""
       ]
      },
      {
       "output_type": "stream",
       "stream": "stdout",
       "text": [
        "gcc -O3 -fPIC -DUSE_MMAP   -c -o inflate.o inflate.c",
        ""
       ]
      },
      {
       "output_type": "stream",
       "stream": "stdout",
       "text": [
        "gcc -O3 -fPIC -DUSE_MMAP   -c -o infback.o infback.c",
        ""
       ]
      },
      {
       "output_type": "stream",
       "stream": "stdout",
       "text": [
        "gcc -O3 -fPIC -DUSE_MMAP   -c -o inftrees.o inftrees.c",
        ""
       ]
      },
      {
       "output_type": "stream",
       "stream": "stdout",
       "text": [
        "gcc -O3 -fPIC -DUSE_MMAP   -c -o inffast.o inffast.c",
        ""
       ]
      },
      {
       "output_type": "stream",
       "stream": "stdout",
       "text": [
        "gcc -shared -Wl,-soname,libz.so.1 -o libz.so.1.2.3 adler32.o compress.o crc32.o gzio.o uncompr.o deflate.o trees.o zutil.o inflate.o infback.o inftrees.o inffast.o",
        ""
       ]
      },
      {
       "output_type": "stream",
       "stream": "stdout",
       "text": [
        "rm -f libz.so libz.so.1",
        "ln -s libz.so.1.2.3 libz.so",
        "ln -s libz.so.1.2.3 libz.so.1",
        "gcc -O3 -fPIC -DUSE_MMAP -o example example.o -L. libz.so.1.2.3",
        "gcc -O3 -fPIC -DUSE_MMAP   -c -o minigzip.o minigzip.c",
        ""
       ]
      },
      {
       "output_type": "stream",
       "stream": "stdout",
       "text": [
        "gcc -O3 -fPIC -DUSE_MMAP -o minigzip minigzip.o -L. libz.so.1.2.3",
        ""
       ]
      },
      {
       "output_type": "stream",
       "stream": "stdout",
       "text": [
        "make[2]: Leaving directory `/usr/local/src/khmer/lib/zlib-1.2.3'",
        "g++ -g -fPIC -Wall -O2 -DNO_UNIQUE_RC=0   -c -o parsers.o parsers.cc",
        ""
       ]
      },
      {
       "output_type": "stream",
       "stream": "stdout",
       "text": [
        "g++ -g -fPIC -Wall -O2 -DNO_UNIQUE_RC=0   -c -o ktable.o ktable.cc",
        ""
       ]
      },
      {
       "output_type": "stream",
       "stream": "stdout",
       "text": [
        "g++ -g -fPIC -Wall -O2 -DNO_UNIQUE_RC=0   -c -o hashtable.o hashtable.cc",
        ""
       ]
      },
      {
       "output_type": "stream",
       "stream": "stdout",
       "text": [
        "g++ -g -fPIC -Wall -O2 -DNO_UNIQUE_RC=0   -c -o hashbits.o hashbits.cc",
        ""
       ]
      },
      {
       "output_type": "stream",
       "stream": "stdout",
       "text": [
        "hashbits.cc: In member function \u2018unsigned int khmer::Hashbits::traverse_from_kmer(khmer::HashIntoType, unsigned int, khmer::SeenSet&) const\u2019:",
        "hashbits.cc:1278:16: warning: variable \u2018kmer\u2019 set but not used [-Wunused-but-set-variable]",
        ""
       ]
      },
      {
       "output_type": "stream",
       "stream": "stdout",
       "text": [
        "g++ -g -fPIC -Wall -O2 -DNO_UNIQUE_RC=0   -c -o subset.o subset.cc",
        ""
       ]
      },
      {
       "output_type": "stream",
       "stream": "stdout",
       "text": [
        "subset.cc: In member function \u2018khmer::PartitionID khmer::SubsetPartition::assign_partition_id(khmer::HashIntoType, khmer::SeenSet&)\u2019:",
        "subset.cc:544:28: warning: variable \u2018pi\u2019 set but not used [-Wunused-but-set-variable]",
        ""
       ]
      },
      {
       "output_type": "stream",
       "stream": "stdout",
       "text": [
        "g++ -g -fPIC -Wall -O2 -DNO_UNIQUE_RC=0   -c -o counting.o counting.cc",
        ""
       ]
      },
      {
       "output_type": "stream",
       "stream": "stdout",
       "text": [
        "make[1]: Leaving directory `/usr/local/src/khmer/lib'",
        "cd python && python setup.py build_ext -i",
        ""
       ]
      },
      {
       "output_type": "stream",
       "stream": "stdout",
       "text": [
        "running build_ext",
        "building 'khmer._khmermodule' extension",
        "creating build",
        "creating build/temp.linux-x86_64-2.7",
        "gcc -pthread -fno-strict-aliasing -DNDEBUG -g -fwrapv -O2 -Wall -Wstrict-prototypes -fPIC -I../lib -I/usr/include/python2.7 -c _khmermodule.cc -o build/temp.linux-x86_64-2.7/_khmermodule.o -g",
        "cc1plus: warning: command line option \u2018-Wstrict-prototypes\u2019 is valid for Ada/C/ObjC but not for C++ [enabled by default]",
        ""
       ]
      },
      {
       "output_type": "stream",
       "stream": "stdout",
       "text": [
        "In file included from /usr/include/python2.7/Python.h:8:0,",
        "                 from _khmermodule.cc:7:",
        "/usr/include/python2.7/pyconfig.h:1158:0: warning: \"_POSIX_C_SOURCE\" redefined [enabled by default]",
        "/usr/include/features.h:163:0: note: this is the location of the previous definition",
        "/usr/include/python2.7/pyconfig.h:1180:0: warning: \"_XOPEN_SOURCE\" redefined [enabled by default]",
        "/usr/include/features.h:165:0: note: this is the location of the previous definition",
        ""
       ]
      },
      {
       "output_type": "stream",
       "stream": "stdout",
       "text": [
        "g++ -pthread -shared -Wl,-O1 -Wl,-Bsymbolic-functions -Wl,-Bsymbolic-functions build/temp.linux-x86_64-2.7/_khmermodule.o ../lib/ktable.o ../lib/hashtable.o ../lib/parsers.o ../lib/hashbits.o ../lib/counting.o ../lib/subset.o ../lib/zlib-1.2.3/adler32.o ../lib/zlib-1.2.3/compress.o ../lib/zlib-1.2.3/crc32.o ../lib/zlib-1.2.3/deflate.o ../lib/zlib-1.2.3/gzio.o ../lib/zlib-1.2.3/infback.o ../lib/zlib-1.2.3/inffast.o ../lib/zlib-1.2.3/inflate.o ../lib/zlib-1.2.3/inftrees.o ../lib/zlib-1.2.3/trees.o ../lib/zlib-1.2.3/uncompr.o ../lib/zlib-1.2.3/zutil.o -L../lib -o /usr/local/src/khmer/python/khmer/_khmermodule.so",
        ""
       ]
      },
      {
       "output_type": "stream",
       "stream": "stdout",
       "text": [
        "nosetests",
        ""
       ]
      },
      {
       "output_type": "stream",
       "stream": "stdout",
       "text": [
        "......"
       ]
      },
      {
       "output_type": "stream",
       "stream": "stdout",
       "text": [
        "."
       ]
      },
      {
       "output_type": "stream",
       "stream": "stdout",
       "text": [
        ".."
       ]
      },
      {
       "output_type": "stream",
       "stream": "stdout",
       "text": [
        "."
       ]
      },
      {
       "output_type": "stream",
       "stream": "stdout",
       "text": [
        "."
       ]
      },
      {
       "output_type": "stream",
       "stream": "stdout",
       "text": [
        ".."
       ]
      },
      {
       "output_type": "stream",
       "stream": "stdout",
       "text": [
        "...."
       ]
      },
      {
       "output_type": "stream",
       "stream": "stdout",
       "text": [
        "."
       ]
      },
      {
       "output_type": "stream",
       "stream": "stdout",
       "text": [
        "."
       ]
      },
      {
       "output_type": "stream",
       "stream": "stdout",
       "text": [
        "........"
       ]
      },
      {
       "output_type": "stream",
       "stream": "stdout",
       "text": [
        "."
       ]
      },
      {
       "output_type": "stream",
       "stream": "stdout",
       "text": [
        "."
       ]
      },
      {
       "output_type": "stream",
       "stream": "stdout",
       "text": [
        "..."
       ]
      },
      {
       "output_type": "stream",
       "stream": "stdout",
       "text": [
        "........................."
       ]
      },
      {
       "output_type": "stream",
       "stream": "stdout",
       "text": [
        "...................."
       ]
      },
      {
       "output_type": "stream",
       "stream": "stdout",
       "text": [
        "..........."
       ]
      },
      {
       "output_type": "stream",
       "stream": "stdout",
       "text": [
        "............."
       ]
      },
      {
       "output_type": "stream",
       "stream": "stdout",
       "text": [
        "..."
       ]
      },
      {
       "output_type": "stream",
       "stream": "stdout",
       "text": [
        "."
       ]
      },
      {
       "output_type": "stream",
       "stream": "stdout",
       "text": [
        ".."
       ]
      },
      {
       "output_type": "stream",
       "stream": "stdout",
       "text": [
        "..."
       ]
      },
      {
       "output_type": "stream",
       "stream": "stdout",
       "text": [
        "............"
       ]
      },
      {
       "output_type": "stream",
       "stream": "stdout",
       "text": [
        "..."
       ]
      },
      {
       "output_type": "stream",
       "stream": "stdout",
       "text": [
        ".............."
       ]
      },
      {
       "output_type": "stream",
       "stream": "stdout",
       "text": [
        ".........."
       ]
      },
      {
       "output_type": "stream",
       "stream": "stdout",
       "text": [
        "."
       ]
      },
      {
       "output_type": "stream",
       "stream": "stdout",
       "text": [
        ".."
       ]
      },
      {
       "output_type": "stream",
       "stream": "stdout",
       "text": [
        ".........................."
       ]
      },
      {
       "output_type": "stream",
       "stream": "stdout",
       "text": [
        ".."
       ]
      },
      {
       "output_type": "stream",
       "stream": "stdout",
       "text": [
        "."
       ]
      },
      {
       "output_type": "stream",
       "stream": "stdout",
       "text": [
        "."
       ]
      },
      {
       "output_type": "stream",
       "stream": "stdout",
       "text": [
        "."
       ]
      },
      {
       "output_type": "stream",
       "stream": "stdout",
       "text": [
        "."
       ]
      },
      {
       "output_type": "stream",
       "stream": "stdout",
       "text": [
        ".."
       ]
      },
      {
       "output_type": "stream",
       "stream": "stdout",
       "text": [
        ".."
       ]
      },
      {
       "output_type": "stream",
       "stream": "stdout",
       "text": [
        "."
       ]
      },
      {
       "output_type": "stream",
       "stream": "stdout",
       "text": [
        "..."
       ]
      },
      {
       "output_type": "stream",
       "stream": "stdout",
       "text": [
        "."
       ]
      },
      {
       "output_type": "stream",
       "stream": "stdout",
       "text": [
        "."
       ]
      },
      {
       "output_type": "stream",
       "stream": "stdout",
       "text": [
        "."
       ]
      },
      {
       "output_type": "stream",
       "stream": "stdout",
       "text": [
        ".."
       ]
      },
      {
       "output_type": "stream",
       "stream": "stdout",
       "text": [
        "."
       ]
      },
      {
       "output_type": "stream",
       "stream": "stdout",
       "text": [
        "."
       ]
      },
      {
       "output_type": "stream",
       "stream": "stdout",
       "text": [
        "."
       ]
      },
      {
       "output_type": "stream",
       "stream": "stdout",
       "text": [
        "..."
       ]
      },
      {
       "output_type": "stream",
       "stream": "stdout",
       "text": [
        "."
       ]
      },
      {
       "output_type": "stream",
       "stream": "stdout",
       "text": [
        "."
       ]
      },
      {
       "output_type": "stream",
       "stream": "stdout",
       "text": [
        "."
       ]
      },
      {
       "output_type": "stream",
       "stream": "stdout",
       "text": [
        ".."
       ]
      },
      {
       "output_type": "stream",
       "stream": "stdout",
       "text": [
        ".."
       ]
      },
      {
       "output_type": "stream",
       "stream": "stdout",
       "text": [
        "."
       ]
      },
      {
       "output_type": "stream",
       "stream": "stdout",
       "text": [
        "."
       ]
      },
      {
       "output_type": "stream",
       "stream": "stdout",
       "text": [
        "."
       ]
      },
      {
       "output_type": "stream",
       "stream": "stdout",
       "text": [
        "."
       ]
      },
      {
       "output_type": "stream",
       "stream": "stdout",
       "text": [
        ".."
       ]
      },
      {
       "output_type": "stream",
       "stream": "stdout",
       "text": [
        "."
       ]
      },
      {
       "output_type": "stream",
       "stream": "stdout",
       "text": [
        "..."
       ]
      },
      {
       "output_type": "stream",
       "stream": "stdout",
       "text": [
        ".."
       ]
      },
      {
       "output_type": "stream",
       "stream": "stdout",
       "text": [
        ".",
        "----------------------------------------------------------------------",
        "Ran 223 tests in 23.972s",
        "",
        "OK",
        ""
       ]
      }
     ],
     "prompt_number": 3
    },
    {
     "cell_type": "code",
     "input": [
      "!easy_install khmer/python"
     ],
     "language": "python",
     "outputs": [
      {
       "output_type": "stream",
       "stream": "stdout",
       "text": [
        "Processing python",
        "Running setup.py -q bdist_egg --dist-dir /usr/local/src/khmer/python/egg-dist-tmp-QdCnCQ",
        "cc1plus: warning: command line option \u2018-Wstrict-prototypes\u2019 is valid for Ada/C/ObjC but not for C++ [enabled by default]",
        ""
       ]
      },
      {
       "output_type": "stream",
       "stream": "stdout",
       "text": [
        "In file included from /usr/include/python2.7/Python.h:8:0,",
        "                 from _khmermodule.cc:7:",
        "/usr/include/python2.7/pyconfig.h:1158:0: warning: \"_POSIX_C_SOURCE\" redefined [enabled by default]",
        "/usr/include/features.h:163:0: note: this is the location of the previous definition",
        "/usr/include/python2.7/pyconfig.h:1180:0: warning: \"_XOPEN_SOURCE\" redefined [enabled by default]",
        "/usr/include/features.h:165:0: note: this is the location of the previous definition",
        ""
       ]
      },
      {
       "output_type": "stream",
       "stream": "stdout",
       "text": [
        "zip_safe flag not set; analyzing archive contents...",
        ""
       ]
      },
      {
       "output_type": "stream",
       "stream": "stdout",
       "text": [
        "Adding khmer 0.4 to easy-install.pth file",
        "",
        "Installed /usr/local/lib/python2.7/dist-packages/khmer-0.4-py2.7-linux-x86_64.egg",
        "Processing dependencies for khmer==0.4",
        "Finished processing dependencies for khmer==0.4",
        ""
       ]
      }
     ],
     "prompt_number": 4
    },
    {
     "cell_type": "code",
     "input": [
      ""
     ],
     "language": "python",
     "outputs": [],
     "prompt_number": 4
    }
   ]
  }
 ]
}