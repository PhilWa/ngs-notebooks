{
 "metadata": {
  "name": "ngs-44-kmer-distributions"
 },
 "nbformat": 3,
 "worksheets": [
  {
   "cells": [
    {
     "cell_type": "code",
     "input": [
      "cd /mnt"
     ],
     "language": "python",
     "outputs": [
      {
       "output_type": "stream",
       "stream": "stdout",
       "text": [
        "/mnt",
        ""
       ]
      }
     ],
     "prompt_number": 1
    },
    {
     "cell_type": "markdown",
     "source": [
      "## First, grab some code from the digital normalization paper for making simulated genomes & reads."
     ]
    },
    {
     "cell_type": "code",
     "input": [
      "!git clone git://github.com/ged-lab/2012-paper-diginorm.git"
     ],
     "language": "python",
     "outputs": [
      {
       "output_type": "stream",
       "stream": "stdout",
       "text": [
        "Cloning into 2012-paper-diginorm...",
        ""
       ]
      },
      {
       "output_type": "stream",
       "stream": "stdout",
       "text": [
        "remote: Counting objects: 327, done.\u001b[K",
        "remote: Compressing objects:   0% (1/132)   \u001b[K",
        "remote: Compressing objects:   1% (2/132)   \u001b[K",
        "remote: Compressing objects:   2% (3/132)   \u001b[K",
        "remote: Compressing objects:   3% (4/132)   \u001b[K",
        "remote: Compressing objects:   4% (6/132)   \u001b[K",
        "remote: Compressing objects:   5% (7/132)   \u001b[K",
        "remote: Compressing objects:   6% (8/132)   \u001b[K",
        "remote: Compressing objects:   7% (10/132)   \u001b[K",
        "remote: Compressing objects:   8% (11/132)   \u001b[K",
        "remote: Compressing objects:   9% (12/132)   \u001b[K",
        "remote: Compressing objects:  10% (14/132)   \u001b[K",
        "remote: Compressing objects:  11% (15/132)   \u001b[K",
        "remote: Compressing objects:  12% (16/132)   \u001b[K"
       ]
      },
      {
       "output_type": "stream",
       "stream": "stdout",
       "text": [
        "remote: Compressing objects:  13% (18/132)   \u001b[K",
        "remote: Compressing objects:  14% (19/132)   \u001b[K",
        "remote: Compressing objects:  15% (20/132)   \u001b[K",
        "remote: Compressing objects:  16% (22/132)   \u001b[K",
        "remote: Compressing objects:  17% (23/132)   \u001b[K",
        "remote: Compressing objects:  18% (24/132)   \u001b[K",
        "remote: Compressing objects:  19% (26/132)   \u001b[K",
        "remote: Compressing objects:  20% (27/132)   \u001b[K",
        "remote: Compressing objects:  21% (28/132)   \u001b[K",
        "remote: Compressing objects:  22% (30/132)   \u001b[K",
        "remote: Compressing objects:  23% (31/132)   \u001b[K"
       ]
      },
      {
       "output_type": "stream",
       "stream": "stdout",
       "text": [
        "remote: Compressing objects:  24% (32/132)   \u001b[K",
        "remote: Compressing objects:  25% (33/132)   \u001b[K"
       ]
      },
      {
       "output_type": "stream",
       "stream": "stdout",
       "text": [
        "remote: Compressing objects:  26% (35/132)   \u001b[K",
        "remote: Compressing objects:  27% (36/132)   \u001b[K",
        "remote: Compressing objects:  28% (37/132)   \u001b[K",
        "remote: Compressing objects:  29% (39/132)   \u001b[K",
        "remote: Compressing objects:  30% (40/132)   \u001b[K",
        "remote: Compressing objects:  31% (41/132)   \u001b[K",
        "remote: Compressing objects:  32% (43/132)   \u001b[K",
        "remote: Compressing objects:  33% (44/132)   \u001b[K",
        "remote: Compressing objects:  34% (45/132)   \u001b[K",
        "remote: Compressing objects:  35% (47/132)   \u001b[K",
        "remote: Compressing objects:  36% (48/132)   \u001b[K",
        "remote: Compressing objects:  37% (49/132)   \u001b[K",
        "remote: Compressing objects:  38% (51/132)   \u001b[K",
        "remote: Compressing objects:  39% (52/132)   \u001b[K",
        "remote: Compressing objects:  40% (53/132)   \u001b[K",
        "remote: Compressing objects:  41% (55/132)   \u001b[K",
        "remote: Compressing objects:  42% (56/132)   \u001b[K",
        "remote: Compressing objects:  43% (57/132)   \u001b[K",
        "remote: Compressing objects:  44% (59/132)   \u001b[K",
        "remote: Compressing objects:  45% (60/132)   \u001b[K",
        "remote: Compressing objects:  46% (61/132)   \u001b[K",
        "remote: Compressing objects:  47% (63/132)   \u001b[K",
        "remote: Compressing objects:  48% (64/132)   \u001b[K",
        "remote: Compressing objects:  49% (65/132)   \u001b[K",
        "remote: Compressing objects:  50% (66/132)   \u001b[K",
        "remote: Compressing objects:  51% (68/132)   \u001b[K",
        "remote: Compressing objects:  52% (69/132)   \u001b[K",
        "remote: Compressing objects:  53% (70/132)   \u001b[K",
        "remote: Compressing objects:  54% (72/132)   \u001b[K",
        "remote: Compressing objects:  55% (73/132)   \u001b[K",
        "remote: Compressing objects:  56% (74/132)   \u001b[K",
        "remote: Compressing objects:  57% (76/132)   \u001b[K",
        "remote: Compressing objects:  58% (77/132)   \u001b[K",
        "remote: Compressing objects:  59% (78/132)   \u001b[K",
        "remote: Compressing objects:  60% (80/132)   \u001b[K",
        "remote: Compressing objects:  61% (81/132)   \u001b[K",
        "remote: Compressing objects:  62% (82/132)   \u001b[K",
        "remote: Compressing objects:  63% (84/132)   \u001b[K",
        "remote: Compressing objects:  64% (85/132)   \u001b[K",
        "remote: Compressing objects:  65% (86/132)   \u001b[K",
        "remote: Compressing objects:  66% (88/132)   \u001b[K",
        "remote: Compressing objects:  67% (89/132)   \u001b[K",
        "remote: Compressing objects:  68% (90/132)   \u001b[K",
        "remote: Compressing objects:  69% (92/132)   \u001b[K",
        "remote: Compressing objects:  70% (93/132)   \u001b[K",
        "remote: Compressing objects:  71% (94/132)   \u001b[K",
        "remote: Compressing objects:  72% (96/132)   \u001b[K",
        "remote: Compressing objects:  73% (97/132)   \u001b[K",
        "remote: Compressing objects:  74% (98/132)   \u001b[K",
        "remote: Compressing objects:  75% (99/132)   \u001b[K",
        "remote: Compressing objects:  76% (101/132)   \u001b[K",
        "remote: Compressing objects:  77% (102/132)   \u001b[K",
        "remote: Compressing objects:  78% (103/132)   \u001b[K",
        "remote: Compressing objects:  79% (105/132)   \u001b[K",
        "remote: Compressing objects:  80% (106/132)   \u001b[K",
        "remote: Compressing objects:  81% (107/132)   \u001b[K",
        "remote: Compressing objects:  82% (109/132)   \u001b[K",
        "remote: Compressing objects:  83% (110/132)   \u001b[K",
        "remote: Compressing objects:  84% (111/132)   \u001b[K",
        "remote: Compressing objects:  85% (113/132)   \u001b[K",
        "remote: Compressing objects:  86% (114/132)   \u001b[K",
        "remote: Compressing objects:  87% (115/132)   \u001b[K",
        "remote: Compressing objects:  88% (117/132)   \u001b[K",
        "remote: Compressing objects:  89% (118/132)   \u001b[K"
       ]
      },
      {
       "output_type": "stream",
       "stream": "stdout",
       "text": [
        "remote: Compressing objects:  90% (119/132)   \u001b[K",
        "remote: Compressing objects:  91% (121/132)   \u001b[K",
        "remote: Compressing objects:  92% (122/132)   \u001b[K",
        "remote: Compressing objects:  93% (123/132)   \u001b[K",
        "remote: Compressing objects:  94% (125/132)   \u001b[K",
        "remote: Compressing objects:  95% (126/132)   \u001b[K",
        "remote: Compressing objects:  96% (127/132)   \u001b[K",
        "remote: Compressing objects:  97% (129/132)   \u001b[K",
        "remote: Compressing objects:  98% (130/132)   \u001b[K",
        "remote: Compressing objects:  99% (131/132)   \u001b[K",
        "remote: Compressing objects: 100% (132/132)   \u001b[K",
        "remote: Compressing objects: 100% (132/132), done.\u001b[K",
        "Receiving objects:   0% (1/327)   ",
        "Receiving objects:   1% (4/327)   ",
        "Receiving objects:   2% (7/327)   ",
        "Receiving objects:   3% (10/327)   ",
        "Receiving objects:   4% (14/327)   ",
        "Receiving objects:   5% (17/327)   ",
        "Receiving objects:   6% (20/327)   ",
        "Receiving objects:   7% (23/327)   ",
        "Receiving objects:   8% (27/327)   ",
        "Receiving objects:   9% (30/327)   ",
        "Receiving objects:  10% (33/327)   ",
        "Receiving objects:  11% (36/327)   ",
        "Receiving objects:  12% (40/327)   ",
        "Receiving objects:  13% (43/327)   ",
        "Receiving objects:  14% (46/327)   ",
        "Receiving objects:  15% (50/327)   ",
        "Receiving objects:  16% (53/327)   ",
        "Receiving objects:  17% (56/327)   ",
        "Receiving objects:  18% (59/327)   ",
        "Receiving objects:  19% (63/327)   ",
        "Receiving objects:  20% (66/327)   ",
        "Receiving objects:  21% (69/327)   ",
        "Receiving objects:  22% (72/327)   ",
        "Receiving objects:  23% (76/327)   ",
        "Receiving objects:  24% (79/327)   ",
        "Receiving objects:  25% (82/327)   ",
        "Receiving objects:  26% (86/327)   ",
        "Receiving objects:  27% (89/327)   ",
        "Receiving objects:  28% (92/327)   ",
        "Receiving objects:  29% (95/327)   ",
        "Receiving objects:  30% (99/327)   ",
        "Receiving objects:  31% (102/327)   ",
        "Receiving objects:  32% (105/327)   "
       ]
      },
      {
       "output_type": "stream",
       "stream": "stdout",
       "text": [
        "Receiving objects:  33% (108/327)   ",
        "Receiving objects:  34% (112/327)   ",
        "Receiving objects:  35% (115/327)   ",
        "Receiving objects:  36% (118/327)   ",
        "Receiving objects:  37% (121/327)   ",
        "Receiving objects:  38% (125/327)   ",
        "Receiving objects:  39% (128/327)   ",
        "Receiving objects:  40% (131/327)   ",
        "Receiving objects:  41% (135/327)   ",
        "Receiving objects:  42% (138/327)   ",
        "Receiving objects:  43% (141/327)   ",
        "Receiving objects:  44% (144/327)   ",
        "Receiving objects:  45% (148/327)   ",
        "Receiving objects:  46% (151/327)   ",
        "Receiving objects:  47% (154/327)   ",
        "Receiving objects:  48% (157/327)   ",
        "Receiving objects:  49% (161/327)   ",
        "Receiving objects:  50% (164/327)   ",
        "Receiving objects:  51% (167/327)   ",
        "Receiving objects:  52% (171/327)   ",
        "Receiving objects:  53% (174/327)   ",
        "Receiving objects:  54% (177/327)   ",
        "Receiving objects:  55% (180/327)   ",
        "Receiving objects:  56% (184/327)   ",
        "Receiving objects:  57% (187/327)   ",
        "Receiving objects:  58% (190/327)   ",
        "Receiving objects:  59% (193/327)   ",
        "Receiving objects:  60% (197/327)   ",
        "Receiving objects:  61% (200/327)   ",
        "Receiving objects:  62% (203/327)   ",
        "Receiving objects:  63% (207/327)   ",
        "Receiving objects:  64% (210/327)   ",
        "Receiving objects:  65% (213/327)   ",
        "Receiving objects:  66% (216/327)   ",
        "Receiving objects:  67% (220/327)   ",
        "Receiving objects:  68% (223/327)   ",
        "Receiving objects:  69% (226/327)   ",
        "Receiving objects:  70% (229/327)   ",
        "Receiving objects:  71% (233/327)   ",
        "Receiving objects:  72% (236/327)   ",
        "Receiving objects:  73% (239/327)   ",
        "Receiving objects:  74% (242/327)   ",
        "Receiving objects:  75% (246/327)   ",
        "Receiving objects:  76% (249/327)   ",
        "Receiving objects:  77% (252/327)   ",
        "Receiving objects:  78% (256/327)   ",
        "Receiving objects:  79% (259/327)   ",
        "Receiving objects:  80% (262/327)   ",
        "Receiving objects:  81% (265/327)   ",
        "Receiving objects:  82% (269/327)   ",
        "Receiving objects:  83% (272/327)   ",
        "Receiving objects:  84% (275/327)   ",
        "Receiving objects:  85% (278/327)   ",
        "Receiving objects:  86% (282/327)   ",
        "Receiving objects:  87% (285/327)   ",
        "Receiving objects:  88% (288/327)   ",
        "Receiving objects:  89% (292/327)   ",
        "Receiving objects:  90% (295/327)   ",
        "Receiving objects:  91% (298/327)   ",
        "Receiving objects:  92% (301/327)   "
       ]
      },
      {
       "output_type": "stream",
       "stream": "stdout",
       "text": [
        "remote: Total 327 (delta 205), reused 312 (delta 190)\u001b[K",
        "Receiving objects:  93% (305/327)   ",
        "Receiving objects:  94% (308/327)   ",
        "Receiving objects:  95% (311/327)   ",
        "Receiving objects:  96% (314/327)   ",
        "Receiving objects:  97% (318/327)   ",
        "Receiving objects:  98% (321/327)   ",
        "Receiving objects:  99% (324/327)   ",
        "Receiving objects: 100% (327/327)   ",
        "Receiving objects: 100% (327/327), 1.61 MiB, done.",
        "Resolving deltas:   0% (0/205)   ",
        "Resolving deltas:  19% (39/205)   ",
        "Resolving deltas:  21% (44/205)   ",
        "Resolving deltas:  24% (50/205)   ",
        "Resolving deltas:  33% (68/205)   ",
        "Resolving deltas:  34% (71/205)   ",
        "Resolving deltas:  36% (75/205)   ",
        "Resolving deltas:  38% (78/205)   ",
        "Resolving deltas:  39% (81/205)   ",
        "Resolving deltas:  44% (92/205)   ",
        "Resolving deltas:  69% (142/205)   ",
        "Resolving deltas:  71% (146/205)   ",
        "Resolving deltas:  77% (159/205)   ",
        "Resolving deltas:  80% (166/205)   ",
        "Resolving deltas:  81% (168/205)   ",
        "Resolving deltas:  83% (171/205)   ",
        "Resolving deltas:  84% (173/205)   ",
        "Resolving deltas:  96% (197/205)   ",
        "Resolving deltas:  99% (204/205)   ",
        "Resolving deltas: 100% (205/205)   ",
        "Resolving deltas: 100% (205/205), done.",
        ""
       ]
      }
     ],
     "prompt_number": 2
    },
    {
     "cell_type": "code",
     "input": [
      "mkdir kmer"
     ],
     "language": "python",
     "outputs": [],
     "prompt_number": 3
    },
    {
     "cell_type": "code",
     "input": [
      "cd kmer"
     ],
     "language": "python",
     "outputs": [
      {
       "output_type": "stream",
       "stream": "stdout",
       "text": [
        "/mnt/kmer"
       ]
      },
      {
       "output_type": "stream",
       "stream": "stdout",
       "text": [
        "",
        ""
       ]
      }
     ],
     "prompt_number": 4
    },
    {
     "cell_type": "markdown",
     "source": [
      "## Now, make a random genome of length 8kb (4 x 2000)"
     ]
    },
    {
     "cell_type": "code",
     "input": [
      "import random",
      "random.seed(1)",
      "",
      "x = [\"A\"] + [\"G\"] + [\"C\"] + [\"T\"]",
      "x = x*2000",
      "random.shuffle(x)",
      "x = \"\".join(x)",
      "x"
     ],
     "language": "python",
     "outputs": [
      {
       "output_type": "pyout",
       "prompt_number": 5,
       "text": [
        "'CCACCCTTGGGTCCTTCCTGATGTGGCCACCCCAACCACCACATGTATTTACGAAGCTATCACCCTGGTTTAGGTAGCAATTTCCAACGGCCTAATAACCTTTCCTCGAGCATCGCCTTGGCTGTTACACACAGCGAGCAGCCTAGTCGTCCAGGTTTGGACGGTAGCGCGTTTGAATTTACCACAAAGAATCTGGTGAGCGATTTACTTAACATCATAGCGCTATGGACGCCTCATTCAGCCACAACCGAGTTTGACCAGGTCCACAGCTAGACCACCATTATCACATCGTTGTCTCACAAGTCTTGCAGCAACGTCAGTTGGGAAGTTGTAAGGTGAAGAAGACAAGCCGCCATGTGACACGGAGCTACTCTGTCAATCGTTGCGTCTATATAGACGAATTAGTAAGGAGTTCTTGTGGCGGGCTGTCTAGTTGCGGGGGACTGCTACCGGCGCGGCCTTCCCTCGAATGGGGATACTCTCCTCCTTTCTTGGTTACCCCTAACCCAAGACTGCGAGGCAGGCAATTCCACCTGCCCTCGTTGGAAGGTTAATTGGTAGGTATACCTGAGACAGATTGCACCGTATAGCACTTGTCATAGCAGGAGCGAGTAGGTAATATTCTTAAACCGTACGTACCAGAATGACATAACCCAATGTAGTGTGGCAGATTAAGCATGACACATCAGTGAGGGGCAATACGCACTTCATACTTGATTGTAGGGTTTTATTTGCCGGATTGGGATTAACTGAGTGTTACCACAACGCTAGTCCCGAAAAAAGGGAAGTGCACGTAGCCTCGTGTGCACCGATATTTTATAACCGAGGGAGGCAGCCTGTACATTGAGTCCAGCCTTGAAAAGGCTAGTTGAGTCCTTTCTACCGAATTTGTCTGACGGCGAAAAGGGCTCCTCTAACGCTCGTACGTATAGGAGTGCTGGTGATTCCAAAAACCAATCATTGTCACAACCGCCGTTGGCCTGCGCTGCGTTAGGCGTCATAACTCACTTCGCGGCGTGCTGTGTCATAGCCGAATCCTCCAATCTTTAAGAATGCGCGCTAATTTCCATCCCAGAGGGTGTTGGAGATGCACGAATAATAAAAGGTCGCGAGTCCAAACAAAGTTTACCGTTCGGTCGAGACGGTCAAGACTGCCACTAAAGAAGTCAATATTTCCTCGCCCTTCGACAATGGTTCGTGACAGGGCTATTGAGCAGTGGTGACCGCAGATTGATACAAGAAAACGCCACTCTAGCCAGACACGACCCGGTGCCCACCGTATGCAGGGCTGGGGGGAATGTTGAGGGATCGTGAAAGAAAATCACCTTGCCCCAGAACCGCAGTCAATTGTGCTCATTGAAACGTATCTGTCCAAAACTTAACGCCGACAGGGGTCGTCGCATAACGCCGCTAATAATCCGGGGCCACGGAGAGGCTGGGTCTGTATCTACCACCGACTAGAGAAGCGGGCATATGTGTCTTGTTTCGATCTTTCGTCGGTTATGTACTGTGAATTAAGCAAAAGCAAGCAGTAAGTGCGCGGAAGTGTATCCCCCGCCCCTGCTGTTACAACTCCTGATCTCGGTTCAGCATACGTATTCGCGGAAGTAAGCTACTAGGTTTACCATACGGGTTAGTGAAGGTACGTTTAATATATCCTTAATCGCTTGCAGCGAGTGGACACAGAAGCAAGGTCCGAGCATAACGGAGGATCAAGTATTAGAAGCTCAGGAAAAAAAGTACGCATCGATATATAGGGAAGGTGTCTTGCTTGCCGTGTTTCAGATTGCCAAGGAACCAGGAGTGCCCCATTTTCACCACTCTCTTGGAACTGTCAAGTCACTTATGCCGCCTTGCTCCCCGAAACGCGCATAAAAGGTGACAAAAGACGCGTGTAAAGGGCGCCAATGCACCAACGTTTTCTCCGGAGCTTGTCACCCATCGCCGAGGGCCAGTCGCCAACTCACCATCATCTTCATGAGGATTCACGCCCCGTACGGGGAGAGCGCACGGGAGCGGCCTGTTGCCGGTCTTACTCTTCACGATGTCGATTATAAGAAGGAGCTTGGAAGCTTGTGGCTTTGAGGTATGACAGACAATTTTGGATGCAAGTGTTAGCCATACAGGCTTTCAAGTGTTAATTCGTGTAGCGGGCAGTGAAAACGAAAGGTACGAGGGGTTATCTAGAATGAGTAGGGAAATTTGTATAAAGAGCAGTTGAAAGTTTGTGATGCTAATGTGACTGGGATCCGACCGAGCGGCTCATGGCAGAGAACGAATAAGTAAACTAAAGGGACCTGCATGACAGGAATGAGCAACTGACCAATCTTATGTTTAGCGTAATATTCTTTTGCCCCTGCATGAGATTCTGGTGTACTAGCACCGCTTATAGCCCGGTAGGACATCATCCATGGTCTGGCATCCAGGGAGGAGTCAACTACTCTAAGACCACCGCTCGGGCACCATCAGTATACTAATGTTGCACGAACAACAGTCGATCCCGGAACATGCACAGGGGTCTCCCTCGGTCCGTATCGGACATATTGAACGACTATCGGGGATGACCATTGCGTCCCAAGAGCACTATACCAGTTCCAATGTTGTCGGGGCACAGCCGCAGAACGGACTAGTAGCTTTCGGCAAAGAATCCCTAGACCTCACGACGCCTCCGACTGGGACCATTTGGCCTATAAAAAACATGTCAGCCACAATGGCTGCGACATGAATGGGTCGTAGAACTTTGCGTAGTAGCACATGGTAGTAGATCACACAGCCGGGTTCAGTGGCCCTATTTGACTGTTAACCCTCTGTTAAGTGTTCCCGAACACTAGTTCGGCTGTATTGACACTTGGGAATACGTTTGTAGGTTGAGCATTACGGTAGTTGTCCTTTACTGCCGGAGCAGAGGATCCTTCTATGTGTATCGTTCTGAATACTTGCTAAAAGATATAGACTTTTTCCTTTCACCGGGAGTGGTGCCTTGCAGCTAGCAGTGTGTCTTGGTCCTATGTGCAACTCTGCAAAGCCTCACGTGGCAGCAGGTATAGTCAGGAAAAGAGACAAGCACTGTCGGCACACCTACCTCGATATAAATGTACGCCAGTTGATGTGTGTCGCAGTGTAACAGGCAAAAGTACGTAAACGGCGTCGAACGGAGAAGCTGAGACCGCCTGTGTTTGATAGTACCTGCCGGCCTCTACCTGCTGAACTAGAAGGTAGCAACTACCTGTTCGTAAGCCCTCAGAGGTCCCAAACCGCCAAATCGTTAGTTTACAGCCCTATGCGCGGTTAGCCAGACGGGGACAGTGTGCTGTTTCCTTCCGCCATCTTTTTGCTTGATCGCCACGGGACCAAATCTTGGGGGCCTGGATCATATATACTTTACGGTACACAAACACTTGCATTCGGAGCATTAAACCAGAGTTGATCTGAAGTACAGGTGTACACTGTTTCCCGCTATTGCACCGGCGAGCGAGGCTGGCTCTCGGCCCGCATATTCATAAGTTTGGTCGAGGGCCCGTCGGTCATTCATCTTATTCTAGGTCCAAGAACGGGTAGCCACGGGGATTTCGCATATGTCTAGCATCGTTCCGTCGGCAAGCTCAAGGACCGCCTATAGTTCCCAAACATAACCTGAGTCGTTGCTCATAACATAAAGTAGAGATTGCGGTCTTACCATCTAATAACTTGTTTATCTTGACCTGGGGGACATGCCCAAAGTCCTTCAGGGTTTCGCCGACTGCTGATTACAAGCTATCCCATCCCAGTAAGACTAGATGCAGGTAGGAGTTTAAATCGGTGTCTTTTTCAACGAGAAGTCTGGGTCGTGCCTGCCGCCCCCGGATTTGATAAGCTCCTGTGCCTCAAAGGGGTTACTTGAGGCTACCTTATTTTGCACCGACCTTGAGCGTCCTAACGTGGCGGGTCAATATACTGAACGTTCTAATTCGCGACATAGTGTCAACCGACTGTAGTGCGGGAGTTTAGGACTTATACTCTAGCGCCATCGTGCATTGAAGCCAACTTAGCCATCTTCAAAAACTACCCCAAAGAGTTCGAGAGAAACGCCACGCCCTTAACCACTTCTAACGCAAAGGAGTCATTATCCCTCCCCTGTTCCGGCACTGGCTTCATTTTAAGCGCCTGTCTCTATCTGGGGTGCTCGTCCGGAGCAACATAAGGGTGTGTGACGAGAGTTAAGCCCCCTAACCTTGAGACAATGTATTTCAGCTCTACCGGTCCGGTAACCCTGTAGGATGGCACGCTGTGTGTCCGGGTGCCTTTTAAGAACTCGCGAGATTTCCTCTCACAGCTAGACTTGCAGATAATTGGTTGGCCCCGAGTCTGCGCATTTTGATAGGGTATGCTACTCTTAACTGCAAGGATTTACGAGTTCCGATACGTGCCCCTCTTTACTTGTTCAGGGGGCATACCCGTTGCTACGCCGCTAGAATTGCCCCTCAAGGAGAAGAATCCGCCAGTGCATATCGAGTTAGATTAAACGTAATCAGGGCACCGGAGGAACTATACGTGCTGCTCACACGGGCCGTCCGAGCGTATGCCGTTCAATGGTCCATCTTCTGATAACATGGCGCAATCTAGGATGGCGGCATCTGTCCTTCGGTTTACTAGCCAGGAGGCGCTGGAGACGTGTCGATCGAAAAAGCCTAGTATTCCCGCGGGGCCCTGGAATAAGAGGCTCCCTTGAGCCGTTAGGACGGTAAAACGGACGCCCCTTTCGACTCATAGTTGTAGCGGGGAGGCACGCTGGGCCGGAGTGCACGACTACTAAGGACAATAAGCTACCTGTTGGCGCAGTTTGAGCGTCGCTCTGCAAGGCTGATGAGCACCGTCCAGCGGTACCTCCGATTCGTCCAGTTTTGACCGAAATAACACCGATTCACTCAAGTACTCGGATTAAATTAGACTCTAACTTCCGAACATGCCCTCGGAGTTGCAAAACATCTTTGGATCCAATAAGGATTTGTAGGACCCGACCACTAGGACCATCTGAAAAACGAAATTGAGGAAGACCGCTCAGTCGGTAATCGTACCCACTAAAAATGTGGGCGACAGTTCAGCCCTCCGGTTTCCCTATCCTATGATCTGTTGCAAGTTGGTGTAGATTAATCCAGCAGGGACAGATTGCGTACCTCACGGTAGGCATGGAAAAGTGCTTCACTAAGGGGAAGTTTCCTGGATATTGAAGGCCGTATGGCAATAGTCGAAGTGAAGAGAAACCTCCCCGTCCACCTTAGCCACACCCGAAAGTGAGGGTCCTGAACTTGTCGTTTGCGGATTGGCTAGCAGACGACATAGGGCTGCAGTGACGGTCGTGTCGGGGCCAGCCGCGGGTTTTTTGGCTTGCCTCGGATAGTAGTGTCGTAGAAAGCGCACGAGCGGCTGTGGCTCCAAAGTAAGAAGGCAAAGCGGTATAACACAATCACACTATCACCATTAACAGGGACTTAAACCGAGAAAGTTCATTTGTCATGAACCCCAGTTTCAACGTTTCCTACCGTCTCCTATACCTCTTCTTGAGGCATGTCAGTGAGCGATTGACCTTTACCCTGGTGATTATTGTCACACGGTTTGGGGTACTTAACTTGCCACATATTACTTCGGAACTCTTCCAATCAGAAGGAAAGGTCACTTGGGTTCTAGATAGTAAGTCAACCAGTATTGGATGATGAGTCAAGATCTGGTAAGTCCGACCGAGCGGGTCGACCGCTGTAGGTATCCCTTACTTCCCGACAGTTTGGCACATGGTCCTCCCGATCTAACTCGGACTGCCCAGGGTTAAGCAAAATATCTGGATGGACAGAACATAGACGTACTGACACTTCGGGTCTAATTAACGTAGCGTATGTTGCTACTGTCGATACAGCAATCTGGCTAGTCTGGACTAGCGGACAGGGTACCAATCCACGGGTCGTAGCAAAACATTCTAACACAGAAAGATGATAGTCTTTGCTCGGGCTTTCAAGATGAGCGGATGCCATGCGAGCAAAAGAGGTAATAGCCAGAGTAGCCGTGAGAAAGAAAGGTTCTGCCGACGTGCATAGTGCATAGAAAGTTAGTACAACCGTATCCTTCGCCGCTCTGACCATGCTCCCAAAGGTAAGCTTACTCGGGCTACGCCGTAATAAGACACGCTTATTGTAAGCGTTTGTGGCAACTGTATCGGATAGCCGTTGTCTAGAGGGCTGCTACGCGGCTATTGACCGACCGCTAGGTATGGATTCCGGTATGGGGGCGAACAATAGATCCGTCCATAACCCTACCGCTACAATGGACACTTCGGATCGGTGGTCATGTTTCTGGCAGGTACATTGATCTGCGGAGGACAGTTGGGATTCGTAAAATACGAACCGTCGTCGCAGATCCTACATTATTCTCGAGCACGCGGAGACGACTAGCACCTAGATCCCACGCAGTCGGGCTGACCGATATTGCTCTTCAAGAGGGCCTGCGATCGTGTCCCTATCCTTCGGAGAGCGCTACGGGACAAGTGCCACAAGGTGAATCATTGGCCCGGTCTCACCACCGATGAAAATGGCACTCCCCCTATCCGGTATATTCATAGTACTTTTAGGCGTGGTAAGCAACACATCTCTAGAAGAAAGGTAGAACAGTGCTTTAGACCCTAGATTCTAGACCCCTGTATTGGGCACCCCGTGTGTAGAAAAGCGGTTACGTCAAAAACCCTTCTTTGACCATAATCCCCCGCTCCGACTCGATGCGCACCGCTACGGGAATGTCCCCTGCAAGTTGAGGCGACGGGGCAAATAAAGAGCTGCTTCGAGTAGTGTGAGCTGGTCGCCAGTATTGCCTCTGTTGGATATAGAAACCGGTCCCCTTCTAAATAATGTTCGCGATATCAGGGCGGGCCCTATAATTTAGCAACCACATCTGTACAGCCATCTACGTTAGTTTAAATAGTCAGAGCCATCTTGGAGTCTATAACATAGCACTCCGAGCGGTCACTATAACCTTACTGACAACATCGGACAAACCTGTCCACCGATTCAATGACGTTCGCTGTAGATTTAGAGGGATGTAAATGCGCAGTAATTGAGTGTCTTACAGCCCTTCTGTTGTCAAGGTGCCATAGACTTTATTTCGGCTGTTCTGTGCAACTCGTTCGCTGTACGAACGATCCACACCGGCCGGTCTATCGGACGGGACTCTGATGGTTCACCGTTATAAACATGATCTGGACCCGTTCCTCCCCGACTTACCCAGTGGTCGGTTATAACCAGCGGTTCTTTAACTAGTCTGACACCCCTGATTATATGGTCAAGCTCCCAGGAGGCGTTAATTCGTTTAATAGTCAATTCACACAACCCTGTTACAATATCCTCCGTAAACAACAGCAGTTTCTCAAATGTGCAATAGTGAGAGAATTGCTTGGCGCGCAAAGCATGAAACGAGGCGCATTCACGCCAGACTTCCCGTCTCAACGGTCCACAACTCGGACCGGAGGCTCTTCAAGTCTTACTCGCATCTCGACTTAAGAGGCCTTACTTCACCGCCGGTTCCTGGTATAATCGGTACTGGCTATCATTACGGCTCACTGGCAAATTGTTCCCCGTCCTGATGTAGGTCTGAAACTCCCCGGGTCGGCTTTTGTGTATGGGCCGTACGTTGCTAACCCCGGGTTCTCACTTATTAATTTACGTGGTTTTGTTACACAGCACCTCGTTGCCGCAGACTATGGCGTGTAGTTCTCCGAACGGCGCTCTTCTGTTGCGTATTATCATGTTTGATTAGCCCAGACAGCTGCGTACTCTGCGGTGGCGACTTTCGTCTAAAGGCATCGTTGATCCCCACATCCGGCGGATTGAGATCTGCACGTGGATTTCCATTCGGAGCTTCATCCCAAGCACATGTAAGCGATCTTTGCTGGCTCGACTCTGCTCGCAATACTCATGTGGAAGCAACTCAGCTGAGAGATCAATGTCTAGTTGACTTCTAATTATCCGAAGGGCCAAGGTACC'"
       ]
      }
     ],
     "prompt_number": 5
    },
    {
     "cell_type": "code",
     "input": [
      "fp = open('genome.fa', 'w')",
      "fp.write('>genome\\n')",
      "fp.write(x)",
      "fp.close()"
     ],
     "language": "python",
     "outputs": [],
     "prompt_number": 6
    },
    {
     "cell_type": "markdown",
     "source": [
      "## Make reads with a 1% error rate to a coverage of about 200"
     ]
    },
    {
     "cell_type": "code",
     "input": [
      "!python /mnt/2012-paper-diginorm/pipeline/make-reads.py genome.fa > reads.fa"
     ],
     "language": "python",
     "outputs": [
      {
       "output_type": "stream",
       "stream": "stdout",
       "text": [
        "10073 of 16000 reads mutated; 16150 total mutations",
        ""
       ]
      }
     ],
     "prompt_number": 7
    },
    {
     "cell_type": "code",
     "input": [
      "!head reads.fa"
     ],
     "language": "python",
     "outputs": [
      {
       "output_type": "stream",
       "stream": "stdout",
       "text": [
        ">read0",
        "AATTTCCATCCCAGAGGGTGTTGGAGATGCACGAATAATAAAAGgTCGCGAGTCCAAACAAAGTTTACCGTTCGGTCGtGACGGTCAAGACTGCCACTAA",
        ">read1",
        "GGATGGCACGCTGTGTGTCCGGGTGCCTTTTAAGAACTCGCGAGATTTCCTCTCACAGCTAGACTTGCAGATAATTGGTTGGCCCCGaGTCTGCGCATTT",
        ">read2",
        "GCGACATGAATGGGTCGTAGAACTTTGCGTAGTAGCACATGGTAGTAGATCACACAGCCGGGTTCAGTGGCCCTATTTGACTGTTAACCCTCTGTTAAGT",
        ">read3",
        "GTTGTTCGTGCAACATTAGTATACTGATGGTGCCCGAGCGGTGGTCTTAGAGgAGTTGACTCCTCCCTGGATGCCAGACCATGGATGATGTCCTACCGGG",
        ">read4",
        "TGTTCCCCGTCCTGATGTcGGTCTGAAgCTCCCCGGGTCGGCTTcTGTGTATGGGCCGTACGTTGCTAACCCCGGGTTCTCACTTATTAATTTACGTGGT",
        ""
       ]
      }
     ],
     "prompt_number": 8
    },
    {
     "cell_type": "markdown",
     "source": [
      "## Now, use khmer to load all the 20-mers in the reads into a counting data structure.",
      "",
      "The counting data structure is saved as counts.kh.  Other parameters explained in:",
      "",
      "http://readthedocs.org/docs/khmer/en/latest/scripts.html"
     ]
    },
    {
     "cell_type": "code",
     "input": [
      "!python /usr/local/src/khmer/scripts/load-into-counting.py -x 1e8 -N 4 -k 20 counts.kh reads.fa"
     ],
     "language": "python",
     "outputs": [
      {
       "output_type": "stream",
       "stream": "stdout",
       "text": [
        "",
        "PARAMETERS:",
        " - kmer size =    20 \t\t(-k)",
        " - n hashes =     4 \t\t(-N)",
        " - min hashsize = 1e+08 \t(-x)",
        "",
        "Estimated memory usage is 4e+08 bytes (n_hashes x min_hashsize)",
        "--------",
        "Saving hashtable to counts.kh",
        "Loading kmers from sequences in ['reads.fa']",
        "making hashtable",
        ""
       ]
      },
      {
       "output_type": "stream",
       "stream": "stdout",
       "text": [
        "consuming input reads.fa",
        ""
       ]
      },
      {
       "output_type": "stream",
       "stream": "stdout",
       "text": [
        "saving counts.kh",
        ""
       ]
      },
      {
       "output_type": "stream",
       "stream": "stdout",
       "text": [
        "fp rate estimated to be 0.000",
        "DONE.",
        ""
       ]
      }
     ],
     "prompt_number": 9
    },
    {
     "cell_type": "markdown",
     "source": [
      "## Get the abundance distribution of the k-mers in the reads"
     ]
    },
    {
     "cell_type": "code",
     "input": [
      "!python /usr/local/src/khmer/scripts/abundance-dist.py -s counts.kh reads.fa reads.dist"
     ],
     "language": "python",
     "outputs": [
      {
       "output_type": "stream",
       "stream": "stdout",
       "text": [
        "hashtable from counts.kh",
        ""
       ]
      },
      {
       "output_type": "stream",
       "stream": "stdout",
       "text": [
        "K: 20",
        "HT sizes: [100000007, 100000037, 100000039, 100000049]",
        "outputting to reads.dist",
        "preparing hist...",
        ""
       ]
      }
     ],
     "prompt_number": 10
    },
    {
     "cell_type": "markdown",
     "source": [
      "## The output is in 'reads.dist'",
      "",
      "Column 0 is the k-mer count; column 1 is the number of k-mers with that count; column 2 is the running total of column 1; and column 3 is the fraction of totla in column 2."
     ]
    },
    {
     "cell_type": "code",
     "input": [
      "!head reads.dist"
     ],
     "language": "python",
     "outputs": [
      {
       "output_type": "stream",
       "stream": "stdout",
       "text": [
        "0 0 0 0.0",
        "1 22862 22862 0.588",
        "2 6802 29664 0.762",
        "3 1152 30816 0.792",
        "4 118 30934 0.795",
        "5 11 30945 0.795",
        "6 0 30945 0.795",
        "7 0 30945 0.795",
        "8 0 30945 0.795",
        "9 0 30945 0.795",
        ""
       ]
      }
     ],
     "prompt_number": 11
    },
    {
     "cell_type": "markdown",
     "source": [
      "## Now, plot the abundance distribution"
     ]
    },
    {
     "cell_type": "code",
     "input": [
      "x = []",
      "y = []",
      "for line in open('reads.dist'):",
      "    count, num, total, frac = line.split()",
      "    x.append(int(count))",
      "    y.append(int(num))"
     ],
     "language": "python",
     "outputs": [],
     "prompt_number": 12
    },
    {
     "cell_type": "markdown",
     "source": [
      "## Reads with errors have many k-mers with abundance=1."
     ]
    },
    {
     "cell_type": "code",
     "input": [
      "plot(x, y)"
     ],
     "language": "python",
     "outputs": [
      {
       "output_type": "pyout",
       "prompt_number": 13,
       "text": [
        "[<matplotlib.lines.Line2D at 0x319add0>]"
       ]
      },
      {
       "output_type": "display_data",
       "png": "[encoded data removed]"
      }
     ],
     "prompt_number": 13
    },
    {
     "cell_type": "markdown",
     "source": [
      "## There will also be a bunch of high-count k-mers correlated with coverage"
     ]
    },
    {
     "cell_type": "code",
     "input": [
      "plot(x, y)",
      "axis(ymax=1000)"
     ],
     "language": "python",
     "outputs": [
      {
       "output_type": "pyout",
       "prompt_number": 14,
       "text": [
        "(0.0, 200.0, 0.0, 1000)"
       ]
      },
      {
       "output_type": "display_data",
       "png": "[encoded data removed]"
      }
     ],
     "prompt_number": 14
    },
    {
     "cell_type": "markdown",
     "source": [
      "## Trim reads at k-mers with an abundance of 1, using filter-abund."
     ]
    },
    {
     "cell_type": "code",
     "input": [
      "!python /usr/local/src/khmer/scripts/filter-abund.py -C 2 counts.kh reads.fa"
     ],
     "language": "python",
     "outputs": [
      {
       "output_type": "stream",
       "stream": "stdout",
       "text": [
        "file with ht: counts.kh",
        "loading hashtable",
        ""
       ]
      },
      {
       "output_type": "stream",
       "stream": "stdout",
       "text": [
        "K: 20",
        "filtering reads.fa",
        "starting threads",
        "starting writer",
        "loading...",
        "... filtering 0",
        ""
       ]
      },
      {
       "output_type": "stream",
       "stream": "stdout",
       "text": [
        "done loading in sequences",
        ""
       ]
      },
      {
       "output_type": "stream",
       "stream": "stdout",
       "text": [
        "DONE writing.",
        "processed 9752 / wrote 8793 / removed 959",
        "processed 975183 bp / wrote 737554 bp / removed 237629 bp",
        "discarded 24.4%",
        "output in reads.fa.abundfilt",
        ""
       ]
      }
     ],
     "prompt_number": 15
    },
    {
     "cell_type": "markdown",
     "source": [
      "## Count the k-mers in the newly trimmed reads"
     ]
    },
    {
     "cell_type": "code",
     "input": [
      "!python /usr/local/src/khmer/scripts/load-into-counting.py -x 1e8 -N 4 -k 20 counts-filt.kh reads.fa.abundfilt"
     ],
     "language": "python",
     "outputs": [
      {
       "output_type": "stream",
       "stream": "stdout",
       "text": [
        "",
        "PARAMETERS:",
        " - kmer size =    20 \t\t(-k)",
        " - n hashes =     4 \t\t(-N)",
        " - min hashsize = 1e+08 \t(-x)",
        "",
        "Estimated memory usage is 4e+08 bytes (n_hashes x min_hashsize)",
        "--------",
        "Saving hashtable to counts-filt.kh",
        "Loading kmers from sequences in ['reads.fa.abundfilt']",
        "making hashtable",
        ""
       ]
      },
      {
       "output_type": "stream",
       "stream": "stdout",
       "text": [
        "consuming input reads.fa.abundfilt",
        ""
       ]
      },
      {
       "output_type": "stream",
       "stream": "stdout",
       "text": [
        "saving counts-filt.kh",
        ""
       ]
      },
      {
       "output_type": "stream",
       "stream": "stdout",
       "text": [
        "fp rate estimated to be 0.000",
        "DONE.",
        ""
       ]
      }
     ],
     "prompt_number": 16
    },
    {
     "cell_type": "code",
     "input": [
      "!python /usr/local/src/khmer/scripts/abundance-dist.py -s counts-filt.kh reads.fa.abundfilt reads.abundfilt.dist"
     ],
     "language": "python",
     "outputs": [
      {
       "output_type": "stream",
       "stream": "stdout",
       "text": [
        "hashtable from counts-filt.kh",
        ""
       ]
      },
      {
       "output_type": "stream",
       "stream": "stdout",
       "text": [
        "K: 20",
        "HT sizes: [100000007, 100000037, 100000039, 100000049]",
        "outputting to reads.abundfilt.dist",
        "preparing hist...",
        ""
       ]
      }
     ],
     "prompt_number": 17
    },
    {
     "cell_type": "markdown",
     "source": [
      "## Compare the raw and abundance-filtered reads"
     ]
    },
    {
     "cell_type": "code",
     "input": [
      "x2 = []",
      "y2 = []",
      "for line in open('reads.abundfilt.dist'):",
      "    count, num, total, frac = line.split()",
      "    x2.append(int(count))",
      "    y2.append(int(num))"
     ],
     "language": "python",
     "outputs": [],
     "prompt_number": 18
    },
    {
     "cell_type": "code",
     "input": [
      "plot(x, y)",
      "plot(x2, y2)",
      "axis(xmax=20)"
     ],
     "language": "python",
     "outputs": [
      {
       "output_type": "pyout",
       "prompt_number": 19,
       "text": [
        "(0.0, 20, 0.0, 25000.0)"
       ]
      },
      {
       "output_type": "display_data",
       "png": "[encoded data removed]"
      }
     ],
     "prompt_number": 19
    },
    {
     "cell_type": "markdown",
     "source": [
      "## Show the abundance distributions of raw vs filtered reads, at high abundance"
     ]
    },
    {
     "cell_type": "code",
     "input": [
      "plot(x, y)",
      "plot(x2, y2)",
      "axis(ymax=500)",
      "legend(['unfiltered reads', 'filter @ 1 reads'])",
      "title('k-mer abundance distribution')",
      "xlabel('k-mer count')",
      "ylabel('number of k-mers with that count')"
     ],
     "language": "python",
     "outputs": [
      {
       "output_type": "pyout",
       "prompt_number": 20,
       "text": [
        "<matplotlib.text.Text at 0x31aea50>"
       ]
      },
      {
       "output_type": "display_data",
       "png": "[encoded data removed]"
      }
     ],
     "prompt_number": 20
    },
    {
     "cell_type": "markdown",
     "source": [
      "## Now let's look at mapping-based measures of coverage",
      "",
      "### First, install bowtie"
     ]
    },
    {
     "cell_type": "code",
     "input": [
      "!curl -O -L http://sourceforge.net/projects/bowtie-bio/files/bowtie/0.12.7/bowtie-0.12.7-linux-x86_64.zip",
      "!unzip bowtie-0.12.7-linux-x86_64.zip",
      "!cp bowtie-0.12.7/bowtie* /usr/local/bin"
     ],
     "language": "python",
     "outputs": [
      {
       "output_type": "stream",
       "stream": "stdout",
       "text": [
        "  % Total  "
       ]
      },
      {
       "output_type": "stream",
       "stream": "stdout",
       "text": [
        "  % Received % Xferd  Average Speed   Time    Time     Time  Current",
        "                                 Dload  Upload   Total   Spent    Left  Speed",
        "",
        "  0     0    0     0    0     0      0      0 --:--:-- --:--:-- --:--:--     0"
       ]
      },
      {
       "output_type": "stream",
       "stream": "stdout",
       "text": [
        "",
        "  0   387    0     0    0     0      0      0 --:--:-- --:--:-- --:--:--     0",
        ""
       ]
      },
      {
       "output_type": "stream",
       "stream": "stdout",
       "text": [
        "",
        "  0   457    0     0    0     0      0      0 --:--:-- --:--:-- --:--:--     0",
        ""
       ]
      },
      {
       "output_type": "stream",
       "stream": "stdout",
       "text": [
        "",
        "  0     0    0     0    0     0      0      0 --:--:-- --:--:-- --:--:--     0",
        ""
       ]
      },
      {
       "output_type": "stream",
       "stream": "stdout",
       "text": [
        "",
        "  0     0    0     0    0     0      0      0 --:--:-- --:--:-- --:--:--     0"
       ]
      },
      {
       "output_type": "stream",
       "stream": "stdout",
       "text": [
        "",
        " 75 10.0M   75 7789k    0     0  5074k      0  0:00:02  0:00:01  0:00:01 8147k"
       ]
      },
      {
       "output_type": "stream",
       "stream": "stdout",
       "text": [
        "",
        "100 10.0M  100 10.0M    0     0  5811k      0  0:00:01  0:00:01 --:--:-- 8642k",
        ""
       ]
      },
      {
       "output_type": "stream",
       "stream": "stdout",
       "text": [
        "Archive:  bowtie-0.12.7-linux-x86_64.zip",
        ""
       ]
      },
      {
       "output_type": "stream",
       "stream": "stdout",
       "text": [
        "   creating: bowtie-0.12.7/",
        "   creating: bowtie-0.12.7/scripts/",
        "  inflating: bowtie-0.12.7/scripts/build_test.sh  ",
        "  inflating: bowtie-0.12.7/scripts/make_a_thaliana_tair.sh  ",
        "  inflating: bowtie-0.12.7/scripts/make_b_taurus_UMD3.sh  ",
        "  inflating: bowtie-0.12.7/scripts/make_canFam2.sh  ",
        "  inflating: bowtie-0.12.7/scripts/make_c_elegans_ws200.sh  ",
        "  inflating: bowtie-0.12.7/scripts/make_d_melanogaster_fb5_22.sh  ",
        "  inflating: bowtie-0.12.7/scripts/make_e_coli.sh  ",
        "  inflating: bowtie-0.12.7/scripts/make_galGal3.sh  ",
        "  inflating: bowtie-0.12.7/scripts/make_hg18.sh  ",
        "  inflating: bowtie-0.12.7/scripts/make_hg19.sh  ",
        "  inflating: bowtie-0.12.7/scripts/make_h_sapiens_ncbi36.sh  ",
        "  inflating: bowtie-0.12.7/scripts/make_h_sapiens_ncbi37.sh  ",
        "  inflating: bowtie-0.12.7/scripts/make_mm8.sh  ",
        "  inflating: bowtie-0.12.7/scripts/make_mm9.sh  ",
        "  inflating: bowtie-0.12.7/scripts/make_m_musculus_ncbi37.sh  ",
        "  inflating: bowtie-0.12.7/scripts/make_rn4.sh  ",
        "  inflating: bowtie-0.12.7/scripts/make_s_cerevisiae.sh  ",
        "  inflating: bowtie-0.12.7/scripts/random_bowtie_tests_p.sh  ",
        "  inflating: bowtie-0.12.7/scripts/random_bowtie_tests.sh  ",
        "  inflating: bowtie-0.12.7/scripts/best_verify.pl  ",
        "  inflating: bowtie-0.12.7/scripts/bs_mapability.pl  ",
        "  inflating: bowtie-0.12.7/scripts/colorize_fasta.pl  ",
        "  inflating: bowtie-0.12.7/scripts/colorize_fastq.pl  ",
        "  inflating: bowtie-0.12.7/scripts/convert_quals.pl  ",
        "  inflating: bowtie-0.12.7/scripts/fastq_to_tabbed.pl  ",
        "  inflating: bowtie-0.12.7/scripts/gen_2b_occ_lookup.pl  ",
        "  inflating: bowtie-0.12.7/scripts/gen_dnamasks2colormask.pl  ",
        "  inflating: bowtie-0.12.7/scripts/gen_occ_lookup.pl  ",
        "  inflating: bowtie-0.12.7/scripts/gen_solqual_lookup.pl  ",
        "  inflating: bowtie-0.12.7/scripts/mapability.pl  ",
        "  inflating: bowtie-0.12.7/scripts/pe_verify.pl  ",
        "  inflating: bowtie-0.12.7/scripts/random_bowtie_tests.pl  ",
        "  inflating: bowtie-0.12.7/scripts/reconcile_alignments_pe.pl  ",
        "  inflating: bowtie-0.12.7/scripts/reconcile_alignments.pl  ",
        "   creating: bowtie-0.12.7/scripts/test.pl/",
        "   creating: bowtie-0.12.7/indexes/",
        "  inflating: bowtie-0.12.7/indexes/e_coli.1.ebwt  ",
        "  inflating: bowtie-0.12.7/indexes/e_coli.2.ebwt  ",
        "  inflating: bowtie-0.12.7/indexes/e_coli.3.ebwt  ",
        "  inflating: bowtie-0.12.7/indexes/e_coli.4.ebwt  "
       ]
      },
      {
       "output_type": "stream",
       "stream": "stdout",
       "text": [
        "",
        "  inflating: bowtie-0.12.7/indexes/e_coli.README  ",
        "  inflating: bowtie-0.12.7/indexes/e_coli.rev.1.ebwt  ",
        "  inflating: bowtie-0.12.7/indexes/e_coli.rev.2.ebwt  ",
        "   creating: bowtie-0.12.7/genomes/",
        "  inflating: bowtie-0.12.7/genomes/NC_008253.fna  "
       ]
      },
      {
       "output_type": "stream",
       "stream": "stdout",
       "text": [
        "",
        "   creating: bowtie-0.12.7/reads/",
        "  inflating: bowtie-0.12.7/reads/e_coli_1000.fa  ",
        "  inflating: bowtie-0.12.7/reads/e_coli_1000.fq  ",
        "  inflating: bowtie-0.12.7/reads/e_coli_1000.raw  ",
        "  inflating: bowtie-0.12.7/reads/e_coli_1000_1.fa  ",
        "  inflating: bowtie-0.12.7/reads/e_coli_1000_1.fq  ",
        "  inflating: bowtie-0.12.7/reads/e_coli_1000_2.fa  ",
        "  inflating: bowtie-0.12.7/reads/e_coli_1000_2.fq  ",
        "  inflating: bowtie-0.12.7/reads/e_coli_10000snp.fa  ",
        "  inflating: bowtie-0.12.7/reads/e_coli_10000snp.fq  ",
        "   creating: bowtie-0.12.7/doc/",
        "  inflating: bowtie-0.12.7/doc/manual.html  ",
        "  inflating: bowtie-0.12.7/doc/README  ",
        "  inflating: bowtie-0.12.7/doc/style.css  ",
        "  inflating: bowtie-0.12.7/AUTHORS   ",
        "  inflating: bowtie-0.12.7/COPYING   ",
        "  inflating: bowtie-0.12.7/NEWS      ",
        "  inflating: bowtie-0.12.7/MANUAL    ",
        "  inflating: bowtie-0.12.7/MANUAL.markdown  ",
        "  inflating: bowtie-0.12.7/TUTORIAL  ",
        " extracting: bowtie-0.12.7/VERSION   ",
        "  inflating: bowtie-0.12.7/bowtie-build  "
       ]
      },
      {
       "output_type": "stream",
       "stream": "stdout",
       "text": [
        "",
        "  inflating: bowtie-0.12.7/bowtie    ",
        "  inflating: bowtie-0.12.7/bowtie-inspect  ",
        "  inflating: bowtie-0.12.7/bowtie-build-debug  ",
        ""
       ]
      },
      {
       "output_type": "stream",
       "stream": "stdout",
       "text": [
        "  inflating: bowtie-0.12.7/bowtie-debug  "
       ]
      },
      {
       "output_type": "stream",
       "stream": "stdout",
       "text": [
        "",
        "  inflating: bowtie-0.12.7/bowtie-inspect-debug  "
       ]
      },
      {
       "output_type": "stream",
       "stream": "stdout",
       "text": [
        "",
        ""
       ]
      }
     ],
     "prompt_number": 21
    },
    {
     "cell_type": "markdown",
     "source": [
      "### Index the reference genome"
     ]
    },
    {
     "cell_type": "code",
     "input": [
      "!bowtie-build genome.fa genome"
     ],
     "language": "python",
     "outputs": [
      {
       "output_type": "stream",
       "stream": "stdout",
       "text": [
        "Settings:",
        "  Output files: \"genome.*.ebwt\"",
        "  Line rate: 6 (line is 64 bytes)",
        "  Lines per side: 1 (side is 64 bytes)",
        "  Offset rate: 5 (one in 32)",
        "  FTable chars: 10",
        "  Strings: unpacked",
        "  Max bucket size: default",
        "  Max bucket size, sqrt multiplier: default",
        "  Max bucket size, len divisor: 4",
        "  Difference-cover sample period: 1024",
        "  Endianness: little",
        "  Actual local endianness: little",
        "  Sanity checking: disabled",
        "  Assertions: disabled",
        "  Random seed: 0",
        "  Sizeofs: void*:8, int:4, long:8, size_t:8",
        "Input files DNA, FASTA:",
        "  genome.fa",
        "Reading reference sizes",
        "  Time reading reference sizes: 00:00:00",
        "Calculating joined length",
        "Writing header",
        "Reserving space for joined string",
        "Joining reference sequences",
        "  Time to join reference sequences: 00:00:00",
        "bmax according to bmaxDivN setting: 2000",
        "Using parameters --bmax 1500 --dcv 1024",
        "  Doing ahead-of-time memory usage test",
        ""
       ]
      },
      {
       "output_type": "stream",
       "stream": "stdout",
       "text": [
        "  Passed!  Constructing with these parameters: --bmax 1500 --dcv 1024",
        "Constructing suffix-array element generator",
        "Building DifferenceCoverSample",
        "  Building sPrime",
        "  Building sPrimeOrder",
        "  V-Sorting samples",
        "  V-Sorting samples time: 00:00:00",
        "  Allocating rank array",
        "  Ranking v-sort output",
        "  Ranking v-sort output time: 00:00:00",
        "  Invoking Larsson-Sadakane on ranks",
        "  Invoking Larsson-Sadakane on ranks time: 00:00:00",
        "  Sanity-checking and returning",
        "Building samples",
        "Reserving space for 12 sample suffixes",
        "Generating random suffixes",
        "QSorting 12 sample offsets, eliminating duplicates",
        "QSorting sample offsets, eliminating duplicates time: 00:00:00",
        "Multikey QSorting 12 samples",
        "  (Using difference cover)",
        "  Multikey QSorting samples time: 00:00:00",
        "Calculating bucket sizes",
        "  Binary sorting into buckets",
        "  10%",
        "  20%",
        "  30%",
        "  40%",
        "  50%",
        "  60%",
        "  70%",
        "  80%",
        "  90%",
        "  100%",
        "  Binary sorting into buckets time: 00:00:00",
        "Splitting and merging",
        "  Splitting and merging time: 00:00:00",
        "Split 1, merged 6; iterating...",
        "  Binary sorting into buckets",
        "  10%",
        "  20%",
        "  30%",
        "  40%",
        "  50%",
        "  60%",
        "  70%",
        "  80%",
        "  90%",
        "  100%",
        "  Binary sorting into buckets time: 00:00:00",
        "Splitting and merging",
        "  Splitting and merging time: 00:00:00",
        "Split 1, merged 1; iterating...",
        "  Binary sorting into buckets",
        "  10%",
        "  20%",
        "  30%",
        "  40%",
        "  50%",
        "  60%",
        "  70%",
        "  80%",
        "  90%",
        "  100%",
        "  Binary sorting into buckets time: 00:00:00",
        "Splitting and merging",
        "  Splitting and merging time: 00:00:00",
        "Avg bucket size: 1142 (target: 1499)",
        "Converting suffix-array elements to index image",
        "Allocating ftab, absorbFtab",
        "Entering Ebwt loop",
        "Getting block 1 of 7",
        "  Reserving size (1500) for bucket",
        "  Calculating Z arrays",
        "  Calculating Z arrays time: 00:00:00",
        "  Entering block accumulator loop:",
        "  10%",
        "  20%",
        "  30%",
        "  40%",
        "  50%",
        "  60%",
        "  70%",
        "  80%",
        "  90%",
        "  100%",
        "  Block accumulator loop time: 00:00:00",
        "  Sorting block of length 1010",
        "  (Using difference cover)",
        "  Sorting block time: 00:00:00",
        "Returning block of 1011",
        "Getting block 2 of 7",
        "  Reserving size (1500) for bucket",
        "  Calculating Z arrays",
        "  Calculating Z arrays time: 00:00:00",
        "  Entering block accumulator loop:",
        "  10%",
        "  20%",
        "  30%",
        "  40%",
        "  50%",
        "  60%",
        "  70%",
        "  80%",
        "  90%",
        "  100%",
        "  Block accumulator loop time: 00:00:00",
        "  Sorting block of length 923",
        "  (Using difference cover)",
        "  Sorting block time: 00:00:00",
        "Returning block of 924",
        "Getting block 3 of 7",
        "  Reserving size (1500) for bucket",
        "  Calculating Z arrays",
        "  Calculating Z arrays time: 00:00:00",
        "  Entering block accumulator loop:",
        "  10%",
        "  20%",
        "  30%",
        "  40%",
        "  50%",
        "  60%",
        "  70%",
        "  80%",
        "  90%",
        "  100%",
        "  Block accumulator loop time: 00:00:00",
        "  Sorting block of length 1221",
        "  (Using difference cover)",
        "  Sorting block time: 00:00:00",
        "Returning block of 1222",
        "Getting block 4 of 7",
        "  Reserving size (1500) for bucket",
        "  Calculating Z arrays",
        "  Calculating Z arrays time: 00:00:00",
        "  Entering block accumulator loop:",
        "  10%",
        "  20%",
        "  30%",
        "  40%",
        "  50%",
        "  60%",
        "  70%",
        "  80%",
        "  90%",
        "  100%",
        "  Block accumulator loop time: 00:00:00",
        "  Sorting block of length 1275",
        "  (Using difference cover)",
        "  Sorting block time: 00:00:00",
        "Returning block of 1276",
        "Getting block 5 of 7",
        "  Reserving size (1500) for bucket",
        "  Calculating Z arrays",
        "  Calculating Z arrays time: 00:00:00",
        "  Entering block accumulator loop:",
        "  10%",
        "  20%",
        "  30%",
        "  40%",
        "  50%",
        "  60%",
        "  70%",
        "  80%",
        "  90%",
        "  100%",
        "  Block accumulator loop time: 00:00:00",
        "  Sorting block of length 1285",
        "  (Using difference cover)",
        "  Sorting block time: 00:00:00",
        "Returning block of 1286",
        "Getting block 6 of 7",
        "  Reserving size (1500) for bucket",
        "  Calculating Z arrays",
        "  Calculating Z arrays time: 00:00:00",
        "  Entering block accumulator loop:",
        "  10%",
        "  20%",
        "  30%",
        "  40%",
        "  50%",
        "  60%",
        "  70%",
        "  80%",
        "  90%",
        "  100%",
        "  Block accumulator loop time: 00:00:00",
        "  Sorting block of length 878",
        "  (Using difference cover)",
        "  Sorting block time: 00:00:00",
        "Returning block of 879",
        "Getting block 7 of 7",
        "  Reserving size (1500) for bucket",
        "  Calculating Z arrays",
        "  Calculating Z arrays time: 00:00:00",
        "  Entering block accumulator loop:",
        "  10%",
        "  20%",
        "  30%",
        "  40%",
        ""
       ]
      },
      {
       "output_type": "stream",
       "stream": "stdout",
       "text": [
        "  50%",
        "  60%",
        "  70%",
        "  80%",
        "  90%",
        "  100%",
        "  Block accumulator loop time: 00:00:00",
        "  Sorting block of length 1402",
        "  (Using difference cover)",
        "  Sorting block time: 00:00:00",
        "Returning block of 1403",
        "Exited Ebwt loop",
        "fchr[A]: 0",
        "fchr[C]: 2000",
        "fchr[G]: 4000",
        "fchr[T]: 6000",
        "fchr[$]: 8000",
        "Exiting Ebwt::buildToDisk()",
        "Returning from initFromVector",
        "Wrote 4196776 bytes to primary EBWT file: genome.1.ebwt",
        "Wrote 1008 bytes to secondary EBWT file: genome.2.ebwt",
        "Re-opening _in1 and _in2 as input streams",
        "Returning from Ebwt constructor",
        "Headers:",
        "    len: 8000",
        "    bwtLen: 8001",
        "    sz: 2000",
        "    bwtSz: 2001",
        "    lineRate: 6",
        "    linesPerSide: 1",
        "    offRate: 5",
        "    offMask: 0xffffffe0",
        "    isaRate: -1",
        "    isaMask: 0xffffffff",
        "    ftabChars: 10",
        "    eftabLen: 20",
        "    eftabSz: 80",
        "    ftabLen: 1048577",
        "    ftabSz: 4194308",
        "    offsLen: 251",
        "    offsSz: 1004",
        "    isaLen: 0",
        "    isaSz: 0",
        "    lineSz: 64",
        "    sideSz: 64",
        "    sideBwtSz: 56",
        "    sideBwtLen: 224",
        "    numSidePairs: 18",
        "    numSides: 36",
        "    numLines: 36",
        "    ebwtTotLen: 2304",
        "    ebwtTotSz: 2304",
        "    reverse: 0",
        "Total time for call to driver() for forward index: 00:00:00",
        "Reading reference sizes",
        "  Time reading reference sizes: 00:00:00",
        "Calculating joined length",
        "Writing header",
        "Reserving space for joined string",
        "Joining reference sequences",
        "  Time to join reference sequences: 00:00:00",
        "bmax according to bmaxDivN setting: 2000",
        "Using parameters --bmax 1500 --dcv 1024",
        "  Doing ahead-of-time memory usage test",
        ""
       ]
      },
      {
       "output_type": "stream",
       "stream": "stdout",
       "text": [
        "  Passed!  Constructing with these parameters: --bmax 1500 --dcv 1024",
        ""
       ]
      },
      {
       "output_type": "stream",
       "stream": "stdout",
       "text": [
        "Constructing suffix-array element generator",
        "Building DifferenceCoverSample",
        "  Building sPrime",
        "  Building sPrimeOrder",
        "  V-Sorting samples",
        "  V-Sorting samples time: 00:00:00",
        "  Allocating rank array",
        "  Ranking v-sort output",
        "  Ranking v-sort output time: 00:00:00",
        "  Invoking Larsson-Sadakane on ranks",
        "  Invoking Larsson-Sadakane on ranks time: 00:00:00",
        "  Sanity-checking and returning",
        "Building samples",
        "Reserving space for 12 sample suffixes",
        "Generating random suffixes",
        "QSorting 12 sample offsets, eliminating duplicates",
        "QSorting sample offsets, eliminating duplicates time: 00:00:00",
        "Multikey QSorting 12 samples",
        "  (Using difference cover)",
        "  Multikey QSorting samples time: 00:00:00",
        "Calculating bucket sizes",
        "  Binary sorting into buckets",
        "  10%",
        "  20%",
        "  30%",
        "  40%",
        "  50%",
        "  60%",
        "  70%",
        "  80%",
        "  90%",
        "  100%",
        "  Binary sorting into buckets time: 00:00:00",
        "Splitting and merging",
        "  Splitting and merging time: 00:00:00",
        "Avg bucket size: 1142 (target: 1499)",
        "Converting suffix-array elements to index image",
        "Allocating ftab, absorbFtab",
        ""
       ]
      },
      {
       "output_type": "stream",
       "stream": "stdout",
       "text": [
        "Entering Ebwt loop",
        "Getting block 1 of 7",
        "  Reserving size (1500) for bucket",
        "  Calculating Z arrays",
        "  Calculating Z arrays time: 00:00:00",
        "  Entering block accumulator loop:",
        "  10%",
        "  20%",
        "  30%",
        "  40%",
        "  50%",
        "  60%",
        "  70%",
        "  80%",
        "  90%",
        "  100%",
        "  Block accumulator loop time: 00:00:00",
        "  Sorting block of length 1191",
        "  (Using difference cover)",
        "  Sorting block time: 00:00:00",
        "Returning block of 1192",
        "Getting block 2 of 7",
        "  Reserving size (1500) for bucket",
        "  Calculating Z arrays",
        "  Calculating Z arrays time: 00:00:00",
        "  Entering block accumulator loop:",
        "  10%",
        "  20%",
        "  30%",
        "  40%",
        "  50%",
        "  60%",
        "  70%",
        "  80%",
        "  90%",
        "  100%",
        "  Block accumulator loop time: 00:00:00",
        "  Sorting block of length 1426",
        "  (Using difference cover)",
        "  Sorting block time: 00:00:00",
        "Returning block of 1427",
        "Getting block 3 of 7",
        "  Reserving size (1500) for bucket",
        "  Calculating Z arrays",
        "  Calculating Z arrays time: 00:00:00",
        "  Entering block accumulator loop:",
        "  10%",
        "  20%",
        "  30%",
        "  40%",
        "  50%",
        "  60%",
        "  70%",
        "  80%",
        "  90%",
        "  100%",
        "  Block accumulator loop time: 00:00:00",
        "  Sorting block of length 1111",
        "  (Using difference cover)",
        "  Sorting block time: 00:00:00",
        "Returning block of 1112",
        "Getting block 4 of 7",
        "  Reserving size (1500) for bucket",
        "  Calculating Z arrays",
        "  Calculating Z arrays time: 00:00:00",
        "  Entering block accumulator loop:",
        "  10%",
        "  20%",
        "  30%",
        "  40%",
        "  50%",
        "  60%",
        "  70%",
        "  80%",
        "  90%",
        "  100%",
        "  Block accumulator loop time: 00:00:00",
        "  Sorting block of length 1357",
        "  (Using difference cover)",
        "  Sorting block time: 00:00:00",
        "Returning block of 1358",
        "Getting block 5 of 7",
        "  Reserving size (1500) for bucket",
        "  Calculating Z arrays",
        "  Calculating Z arrays time: 00:00:00",
        "  Entering block accumulator loop:",
        "  10%",
        "  20%",
        "  30%",
        "  40%",
        "  50%",
        "  60%",
        "  70%",
        "  80%",
        "  90%",
        "  100%",
        "  Block accumulator loop time: 00:00:00",
        "  Sorting block of length 1252",
        "  (Using difference cover)",
        "  Sorting block time: 00:00:00",
        "Returning block of 1253",
        "Getting block 6 of 7",
        "  Reserving size (1500) for bucket",
        "  Calculating Z arrays",
        "  Calculating Z arrays time: 00:00:00",
        "  Entering block accumulator loop:",
        "  10%",
        "  20%",
        "  30%",
        "  40%",
        "  50%",
        "  60%",
        "  70%",
        "  80%",
        "  90%",
        "  100%",
        "  Block accumulator loop time: 00:00:00",
        "  Sorting block of length 1449",
        "  (Using difference cover)",
        "  Sorting block time: 00:00:00",
        "Returning block of 1450",
        "Getting block 7 of 7",
        "  Reserving size (1500) for bucket",
        "  Calculating Z arrays",
        "  Calculating Z arrays time: 00:00:00",
        "  Entering block accumulator loop:",
        "  10%",
        "  20%",
        "  30%",
        "  40%",
        "  50%",
        "  60%",
        "  70%",
        "  80%",
        "  90%",
        "  100%",
        "  Block accumulator loop time: 00:00:00",
        "  Sorting block of length 208",
        "  (Using difference cover)",
        "  Sorting block time: 00:00:00",
        "Returning block of 209",
        "Exited Ebwt loop",
        "fchr[A]: 0",
        "fchr[C]: 2000",
        "fchr[G]: 4000",
        "fchr[T]: 6000",
        "fchr[$]: 8000",
        ""
       ]
      },
      {
       "output_type": "stream",
       "stream": "stdout",
       "text": [
        "Exiting Ebwt::buildToDisk()",
        "Returning from initFromVector",
        "Wrote 4196776 bytes to primary EBWT file: genome.rev.1.ebwt",
        "Wrote 1008 bytes to secondary EBWT file: genome.rev.2.ebwt",
        "Re-opening _in1 and _in2 as input streams",
        "Returning from Ebwt constructor",
        "Headers:",
        "    len: 8000",
        "    bwtLen: 8001",
        "    sz: 2000",
        "    bwtSz: 2001",
        "    lineRate: 6",
        "    linesPerSide: 1",
        "    offRate: 5",
        "    offMask: 0xffffffe0",
        "    isaRate: -1",
        "    isaMask: 0xffffffff",
        "    ftabChars: 10",
        "    eftabLen: 20",
        "    eftabSz: 80",
        "    ftabLen: 1048577",
        "    ftabSz: 4194308",
        "    offsLen: 251",
        "    offsSz: 1004",
        "    isaLen: 0",
        "    isaSz: 0",
        "    lineSz: 64",
        "    sideSz: 64",
        "    sideBwtSz: 56",
        "    sideBwtLen: 224",
        "    numSidePairs: 18",
        "    numSides: 36",
        "    numLines: 36",
        "    ebwtTotLen: 2304",
        "    ebwtTotSz: 2304",
        "    reverse: 0",
        "Total time for backward call to driver() for mirror index: 00:00:00",
        ""
       ]
      }
     ],
     "prompt_number": 22
    },
    {
     "cell_type": "markdown",
     "source": [
      "## Map the raw and abundance filtered reads to the reference genome"
     ]
    },
    {
     "cell_type": "code",
     "input": [
      "!bowtie -f -a --strata --best genome reads.fa > reads.map",
      "!bowtie -f -a --strata --best genome reads.fa.abundfilt > reads.map.abundfilt"
     ],
     "language": "python",
     "outputs": [
      {
       "output_type": "stream",
       "stream": "stdout",
       "text": [
        "# reads processed: 16000",
        "# reads with at least one reported alignment: 15332 (95.83%)",
        "# reads that failed to align: 668 (4.17%)",
        "Reported 15332 alignments to 1 output stream(s)",
        ""
       ]
      },
      {
       "output_type": "stream",
       "stream": "stdout",
       "text": [
        "# reads processed: 8793",
        "# reads with at least one reported alignment: 8791 (99.98%)",
        "# reads that failed to align: 2 (0.02%)",
        "Reported 8791 alignments to 1 output stream(s)",
        ""
       ]
      }
     ],
     "prompt_number": 23
    },
    {
     "cell_type": "code",
     "input": [
      "!head -3 reads.map"
     ],
     "language": "python",
     "outputs": [
      {
       "output_type": "stream",
       "stream": "stdout",
       "text": [
        "read0\t+\tgenome\t1061\tAATTTCCATCCCAGAGGGTGTTGGAGATGCACGAATAATAAAAGGTCGCGAGTCCAAACAAAGTTTACCGTTCGGTCGTGACGGTCAAGACTGCCACTAA\tIIIIIIIIIIIIIIIIIIIIIIIIIIIIIIIIIIIIIIIIIIIIIIIIIIIIIIIIIIIIIIIIIIIIIIIIIIIIIIIIIIIIIIIIIIIIIIIIIIII\t0\t78:A>T",
        "read1\t+\tgenome\t4254\tGGATGGCACGCTGTGTGTCCGGGTGCCTTTTAAGAACTCGCGAGATTTCCTCTCACAGCTAGACTTGCAGATAATTGGTTGGCCCCGAGTCTGCGCATTT\tIIIIIIIIIIIIIIIIIIIIIIIIIIIIIIIIIIIIIIIIIIIIIIIIIIIIIIIIIIIIIIIIIIIIIIIIIIIIIIIIIIIIIIIIIIIIIIIIIIII\t0\t",
        "read2\t+\tgenome\t2716\tGCGACATGAATGGGTCGTAGAACTTTGCGTAGTAGCACATGGTAGTAGATCACACAGCCGGGTTCAGTGGCCCTATTTGACTGTTAACCCTCTGTTAAGT\tIIIIIIIIIIIIIIIIIIIIIIIIIIIIIIIIIIIIIIIIIIIIIIIIIIIIIIIIIIIIIIIIIIIIIIIIIIIIIIIIIIIIIIIIIIIIIIIIIIII\t0\t",
        ""
       ]
      }
     ],
     "prompt_number": 24
    },
    {
     "cell_type": "markdown",
     "source": [
      "## Build a function to read in the mapping output file"
     ]
    },
    {
     "cell_type": "code",
     "input": [
      "# define a function that we can use to read in the mapping output file",
      "def read_mapping_file(filename):",
      "    for line in open(filename):",
      "        _, orient, refname, pos, read, _, _, mismatches = line.split('\\t')[:8]",
      "        pos = int(pos)",
      "        mismatches = mismatches.split(',')",
      "        x = []",
      "        for posn in mismatches:",
      "            posn = posn.strip()",
      "            if posn:",
      "                posn = posn.split(':')[0]",
      "                posn = int(posn)",
      "                x.append(posn)",
      "        yield orient, refname, pos, read, x"
     ],
     "language": "python",
     "outputs": [],
     "prompt_number": 25
    },
    {
     "cell_type": "markdown",
     "source": [
      "## Count mismatches between reads and genome, by position within read"
     ]
    },
    {
     "cell_type": "code",
     "input": [
      "d = {}",
      "",
      "for (orient, refname, pos, read, mismatches) in read_mapping_file('reads.map'):",
      "    for posn in mismatches:",
      "        d[posn] = d.get(posn, 0) + 1",
      "        ",
      "e = {}",
      "",
      "for (orient, refname, pos, read, mismatches) in read_mapping_file('reads.map.abundfilt'):",
      "    for posn in mismatches:",
      "        e[posn] = e.get(posn, 0) + 1"
     ],
     "language": "python",
     "outputs": [],
     "prompt_number": 26
    },
    {
     "cell_type": "code",
     "input": [
      "items = d.items()",
      "items.sort()",
      "",
      "x = []",
      "y = []",
      "for (a, b) in items:",
      "    x.append(a)",
      "    y.append(b)",
      "",
      "    items = d.items()",
      "items.sort()",
      "",
      "xf = []",
      "yf = []",
      "for (a, b) in items:",
      "    xf.append(a)",
      "    yf.append(b)",
      ""
     ],
     "language": "python",
     "outputs": [],
     "prompt_number": 27
    },
    {
     "cell_type": "markdown",
     "source": [
      "## Graph reference-read mismatches by position within read"
     ]
    },
    {
     "cell_type": "code",
     "input": [
      "plot(x, y, 'r--', linewidth=5, )",
      "plot(xf, yf)",
      "#axis(ymax=4000)",
      "axis(xmin=0, ymin=0)"
     ],
     "language": "python",
     "outputs": [
      {
       "output_type": "pyout",
       "prompt_number": 28,
       "text": [
        "(0, 100.0, 0, 130.0)"
       ]
      },
      {
       "output_type": "display_data",
       "png": "[encoded data removed]"
      }
     ],
     "prompt_number": 28
    },
    {
     "cell_type": "markdown",
     "source": [
      "## Now, calculate mismatches by position within genome"
     ]
    },
    {
     "cell_type": "code",
     "input": [
      "genome_pos = {}",
      "",
      "for (orient, refname, pos, read, mismatches) in read_mapping_file('reads.map'):",
      "    for readi in range(len(read)):",
      "        genome_pos[pos + readi] = genome_pos.get(pos + readi, 0) + 1",
      "",
      "genome_pos_filt = {}",
      "",
      "for (orient, refname, pos, read, mismatches) in read_mapping_file('reads.map.abundfilt'):",
      "    for readi in range(len(read)):",
      "        genome_pos_filt[pos + readi] = genome_pos_filt.get(pos + readi, 0) + 1",
      "        "
     ],
     "language": "python",
     "outputs": [],
     "prompt_number": 29
    },
    {
     "cell_type": "code",
     "input": [
      "landscape = genome_pos.items()",
      "landscape.sort()",
      "landscape[:10]",
      "",
      "x = []",
      "y = []",
      "for (a, b) in landscape:",
      "    x.append(a)",
      "    y.append(b)"
     ],
     "language": "python",
     "outputs": [],
     "prompt_number": 30
    },
    {
     "cell_type": "code",
     "input": [
      "plot(x, y)",
      "xlabel('posn in genome')",
      "ylabel('coverage of that position')"
     ],
     "language": "python",
     "outputs": [
      {
       "output_type": "pyout",
       "prompt_number": 31,
       "text": [
        "<matplotlib.text.Text at 0x3a72f90>"
       ]
      },
      {
       "output_type": "display_data",
       "png": "[encoded data removed]"
      }
     ],
     "prompt_number": 31
    },
    {
     "cell_type": "markdown",
     "source": [
      "## Plot *coverage* distribution (using 'hist')"
     ]
    },
    {
     "cell_type": "code",
     "input": [
      "hist(genome_pos.values(), bins=100)",
      "xlabel('coverage')",
      "ylabel('number of bases with that coverage')"
     ],
     "language": "python",
     "outputs": [
      {
       "output_type": "pyout",
       "prompt_number": 32,
       "text": [
        "<matplotlib.text.Text at 0x3302b90>"
       ]
      },
      {
       "output_type": "display_data",
       "png": "[encoded data removed]"
      }
     ],
     "prompt_number": 32
    },
    {
     "cell_type": "markdown",
     "source": [
      "## Coverage distribution of k-mers in filtered reads"
     ]
    },
    {
     "cell_type": "code",
     "input": [
      "hist(genome_pos_filt.values(), bins=100)",
      "xlabel('coverage')"
     ],
     "language": "python",
     "outputs": [
      {
       "output_type": "pyout",
       "prompt_number": 33,
       "text": [
        "<matplotlib.text.Text at 0x3cd5d90>"
       ]
      },
      {
       "output_type": "display_data",
       "png": "[encoded data removed]"
      }
     ],
     "prompt_number": 33
    },
    {
     "cell_type": "code",
     "input": [
      ""
     ],
     "language": "python",
     "outputs": [],
     "prompt_number": 33
    }
   ]
  }
 ]
}