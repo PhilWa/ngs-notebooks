{
 "metadata": {
  "name": "ngs-31-python-and-short-reads"
 },
 "nbformat": 3,
 "worksheets": [
  {
   "cells": [
    {
     "cell_type": "code",
     "input": [
      "!df",
      "!mount /dev/xvdf /data"
     ],
     "language": "python",
     "outputs": [
      {
       "output_type": "stream",
       "stream": "stdout",
       "text": [
        "Filesystem           1K-blocks      Used Available Use% Mounted on",
        "/dev/xvda1            10321208   5477928   4319004  56% /",
        "udev                   3815928         4   3815924   1% /dev",
        "tmpfs                  1529508       172   1529336   1% /run",
        "none                      5120         0      5120   0% /run/lock",
        "none                   3823768         0   3823768   0% /run/shm",
        "/dev/xvdb1           433455904  84381228 327056372  21% /mnt",
        "/dev/xvdf             43349184  41220500         0 100% /data",
        ""
       ]
      },
      {
       "output_type": "stream",
       "stream": "stdout",
       "text": [
        "mount: /dev/xvdf already mounted or /data busy",
        "mount: according to mtab, /dev/xvdf is already mounted on /data",
        ""
       ]
      }
     ],
     "prompt_number": 4
    },
    {
     "cell_type": "code",
     "input": [
      "cd /mnt"
     ],
     "language": "python",
     "outputs": [
      {
       "output_type": "stream",
       "stream": "stdout",
       "text": [
        "/mnt"
       ]
      },
      {
       "output_type": "stream",
       "stream": "stdout",
       "text": [
        "",
        ""
       ]
      }
     ],
     "prompt_number": 5
    },
    {
     "cell_type": "code",
     "input": [
      "!head /data/drosophila/RAL357_1.fastq"
     ],
     "language": "python",
     "outputs": [
      {
       "output_type": "stream",
       "stream": "stdout",
       "text": [
        "@SRR018286.1 USI-EAS034_2_PE_FC304DDAAXX:8:1:1611:1748 length=45",
        "GTACATTTTATATTTGCTAGAAGCTGGGCATATTGTTTTTTCTNN",
        "+SRR018286.1 USI-EAS034_2_PE_FC304DDAAXX:8:1:1611:1748 length=45",
        "77777777777777777777777777757777775333323-3!!",
        "@SRR018286.2 USI-EAS034_2_PE_FC304DDAAXX:8:1:1711:1687 length=45",
        "GTTTTTTAAAATATTCGTTAGGGCATTGGTTGGTGTATTGGCTNN",
        "+SRR018286.2 USI-EAS034_2_PE_FC304DDAAXX:8:1:1711:1687 length=45",
        "7777777777777777777777777777777757233330)-3!!",
        "@SRR018286.3 USI-EAS034_2_PE_FC304DDAAXX:8:1:775:281 length=45",
        "GAAGAGAAGAGAAGAGAAGAGAAGAGAAGAGAAGAGAAGAGAANN",
        ""
       ]
      }
     ],
     "prompt_number": 6
    },
    {
     "cell_type": "markdown",
     "source": [
      "# Introducing screed",
      "",
      "screed is a Python library built in the Brown Lab to work with sequences.  It includes both functionality for reading in sequences in FASTA and FASTQ, and creating a random-access sequence database for efficiently retrieving specific named sequences.",
      "",
      "One of the most convenient things about screed is that it will automatically figure out whether or not it's a FASTA or FASTQ file, and automatically read gz and bz2 files.",
      "",
      "Read more about it here:",
      "",
      "http://readthedocs.org/docs/screed/en/latest/"
     ]
    },
    {
     "cell_type": "code",
     "input": [
      "import screed",
      "",
      "for read in screed.open('/data/drosophila/RAL357_1.fastq'):",
      "    print read",
      "    break",
      ""
     ],
     "language": "python",
     "outputs": [
      {
       "output_type": "stream",
       "stream": "stdout",
       "text": [
        "{'annotations': 'USI-EAS034_2_PE_FC304DDAAXX:8:1:1611:1748 length=45', 'sequence': 'GTACATTTTATATTTGCTAGAAGCTGGGCATATTGTTTTTTCTNN', 'name': 'SRR018286.1', 'accuracy': '77777777777777777777777777757777775333323-3!!'}",
        ""
       ]
      }
     ],
     "prompt_number": 7
    },
    {
     "cell_type": "code",
     "input": [
      "for read in screed.open('/data/drosophila/RAL357_1.fastq'):",
      "    print read.name, read.sequence",
      "    break"
     ],
     "language": "python",
     "outputs": [
      {
       "output_type": "stream",
       "stream": "stdout",
       "text": [
        "SRR018286.1 GTACATTTTATATTTGCTAGAAGCTGGGCATATTGTTTTTTCTNN",
        ""
       ]
      }
     ],
     "prompt_number": 8
    },
    {
     "cell_type": "code",
     "input": [
      "for n, read in enumerate(screed.open('/data/drosophila/RAL357_1.fastq')):",
      "    if n > 5:",
      "        break",
      "    print read.name, read.sequence"
     ],
     "language": "python",
     "outputs": [
      {
       "output_type": "stream",
       "stream": "stdout",
       "text": [
        "SRR018286.1 GTACATTTTATATTTGCTAGAAGCTGGGCATATTGTTTTTTCTNN",
        "SRR018286.2 GTTTTTTAAAATATTCGTTAGGGCATTGGTTGGTGTATTGGCTNN",
        "SRR018286.3 GAAGAGAAGAGAAGAGAAGAGAAGAGAAGAGAAGAGAAGAGAANN",
        "SRR018286.4 GTTTTTTGCCTACTATTGATCGTTTGATCTTATCGCTTATTTTNN",
        "SRR018286.5 GTGGACTCCGCCAATGGAATTGATTAATGAGCATTAGCACTTTNN",
        "SRR018286.6 GTCACATAGATGTAAGAATAACTGTTTTGAGCAGCTAATTACCNN",
        ""
       ]
      }
     ],
     "prompt_number": 9
    },
    {
     "cell_type": "code",
     "input": [
      "lengths = []",
      "for n, read in enumerate(screed.open('/data/drosophila/RAL357_1.fastq')):",
      "    if n > 10000: break",
      "        ",
      "    seq = read.sequence",
      "    first_n = seq.find('N')  # or you could do seq = seq.rstrip('N')",
      "    if first_n >= 0:",
      "        seq = seq[0:first_n]",
      "        ",
      "    read_len = len(seq)",
      "    lengths.append(read_len)",
      ""
     ],
     "language": "python",
     "outputs": [],
     "prompt_number": 12
    },
    {
     "cell_type": "code",
     "input": [
      "print seq",
      "print seq[:5]"
     ],
     "language": "python",
     "outputs": [
      {
       "output_type": "stream",
       "stream": "stdout",
       "text": [
        "AAGACAAGACAAGACAAGACAAGACAAGACAAGACAAGACAAG",
        "AAGAC",
        ""
       ]
      }
     ],
     "prompt_number": 18
    },
    {
     "cell_type": "code",
     "input": [
      "hist(lengths, cumulative=True)",
      "axis(ymax=100, xmin=0)"
     ],
     "language": "python",
     "outputs": [
      {
       "output_type": "pyout",
       "prompt_number": 24,
       "text": [
        "(0, 44.0, 0.0, 100)"
       ]
      },
      {
       "output_type": "display_data",
       "png": "[encoded data removed]"
      }
     ],
     "prompt_number": 24
    },
    {
     "cell_type": "code",
     "input": [
      "nlocs = []",
      "for n, read in enumerate(screed.open('/data/drosophila/RAL357_1.fastq')):",
      "    if n > 10000: break",
      "        ",
      "    seq = read.sequence",
      "    first_n = seq.find('N')  # or you could do seq = seq.rstrip('N')",
      "    if first_n >= 0:",
      "        nlocs.append(first_n)",
      ""
     ],
     "language": "python",
     "outputs": [],
     "prompt_number": 31
    },
    {
     "cell_type": "code",
     "input": [
      "hist(nlocs, cumulative=True, bins=100)",
      "axis(ymax=100, xmin=0)"
     ],
     "language": "python",
     "outputs": [
      {
       "output_type": "pyout",
       "prompt_number": 37,
       "text": [
        "(0, 44.0, 0.0, 100)"
       ]
      },
      {
       "output_type": "display_data",
       "png": "[encoded data removed]"
      }
     ],
     "prompt_number": 37
    },
    {
     "cell_type": "code",
     "input": [
      "# pick off the first 100,000 sequences from the FASTQ file and align them.",
      "# curl -O ftp://ftp.flybase.net/genomes/Drosophila_melanogaster/dmel_r5.37_FB2011_05/fasta/dmel-all-chromosome-r5.37.fasta.gz",
      "",
      "!head -400000 /data/drosophila/RAL357_1.fastq > RAL357_1.100k.fastq",
      "!bowtie -p 2 -q dros RAL357_1.100k.fastq > ral357-random.map"
     ],
     "language": "python",
     "outputs": [
      {
       "output_type": "stream",
       "stream": "stdout",
       "text": [
        "# reads processed: 100000",
        "# reads with at least one reported alignment: 94831 (94.83%)",
        "# reads that failed to align: 5169 (5.17%)",
        "Reported 94831 alignments to 1 output stream(s)",
        ""
       ]
      }
     ],
     "prompt_number": 38
    },
    {
     "cell_type": "code",
     "input": [
      "!head -1 ral357-random.map"
     ],
     "language": "python",
     "outputs": [
      {
       "output_type": "stream",
       "stream": "stdout",
       "text": [
        "SRR018286.2 USI-EAS034_2_PE_FC304DDAAXX:8:1:1711:1687 length=45\t-\t3L\t12484462\tNNAGCCAATACACCAACCAATGCCCTAACGAATATTTTAAAAAAC\t!!3-)0333327577777777777777777777777777777777\t0\t17:T>A,43:T>N,44:T>N",
        ""
       ]
      }
     ],
     "prompt_number": 40
    },
    {
     "cell_type": "code",
     "input": [
      "# define a function that we can use to read in the mapping output file",
      "def read_mapping_file(filename):",
      "    for line in open(filename):",
      "        _, orient, refname, pos, read, _, _, mismatches = line.split('\\t')[:8]",
      "        pos = int(pos)",
      "        mismatches = mismatches.split(',')",
      "        x = []",
      "        for posn in mismatches:",
      "            posn = posn.split(':')[0]",
      "            posn = int(posn)",
      "            x.append(posn)",
      "        yield orient, refname, pos, read, x"
     ],
     "language": "python",
     "outputs": [],
     "prompt_number": 41
    },
    {
     "cell_type": "code",
     "input": [
      "d = {}",
      "",
      "for (orient, refname, pos, read, mismatches) in read_mapping_file('ral357-random.map'):",
      "    for posn in mismatches:",
      "        d[posn] = d.get(posn, 0) + 1"
     ],
     "language": "python",
     "outputs": [],
     "prompt_number": 42
    },
    {
     "cell_type": "code",
     "input": [
      "items = d.items()",
      "items.sort()",
      "",
      "x = []",
      "y = []",
      "for (a, b) in items:",
      "    x.append(a)",
      "    y.append(b)",
      ""
     ],
     "language": "python",
     "outputs": [],
     "prompt_number": 43
    },
    {
     "cell_type": "code",
     "input": [
      "plot(x, y)",
      "axis(ymax=4000)"
     ],
     "language": "python",
     "outputs": [
      {
       "output_type": "pyout",
       "prompt_number": 47,
       "text": [
        "(0.0, 45.0, 0.0, 4000)"
       ]
      },
      {
       "output_type": "display_data",
       "png": "[encoded data removed]"
      }
     ],
     "prompt_number": 47
    },
    {
     "cell_type": "code",
     "input": [
      ""
     ],
     "language": "python",
     "outputs": []
    }
   ]
  }
 ]
}