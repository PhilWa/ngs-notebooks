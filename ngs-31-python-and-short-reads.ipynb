{
 "metadata": {
  "name": "ngs-31-python-and-short-reads"
 },
 "nbformat": 3,
 "worksheets": [
  {
   "cells": [
    {
     "cell_type": "code",
     "input": [
      "cd /mnt"
     ],
     "language": "python",
     "outputs": [
      {
       "output_type": "stream",
       "stream": "stdout",
       "text": [
        "/mnt",
        ""
       ]
      }
     ],
     "prompt_number": 1
    },
    {
     "cell_type": "code",
     "input": [
      "!head /data/drosophila/RAL357_1.fastq"
     ],
     "language": "python",
     "outputs": [
      {
       "output_type": "stream",
       "stream": "stdout",
       "text": [
        "@SRR018286.1 USI-EAS034_2_PE_FC304DDAAXX:8:1:1611:1748 length=45",
        "GTACATTTTATATTTGCTAGAAGCTGGGCATATTGTTTTTTCTNN",
        "+SRR018286.1 USI-EAS034_2_PE_FC304DDAAXX:8:1:1611:1748 length=45",
        "77777777777777777777777777757777775333323-3!!",
        "@SRR018286.2 USI-EAS034_2_PE_FC304DDAAXX:8:1:1711:1687 length=45",
        "GTTTTTTAAAATATTCGTTAGGGCATTGGTTGGTGTATTGGCTNN",
        "+SRR018286.2 USI-EAS034_2_PE_FC304DDAAXX:8:1:1711:1687 length=45",
        "7777777777777777777777777777777757233330)-3!!",
        "@SRR018286.3 USI-EAS034_2_PE_FC304DDAAXX:8:1:775:281 length=45",
        "GAAGAGAAGAGAAGAGAAGAGAAGAGAAGAGAAGAGAAGAGAANN",
        ""
       ]
      }
     ],
     "prompt_number": 2
    },
    {
     "cell_type": "markdown",
     "source": [
      "# Introducing screed",
      "",
      "screed is a Python library built in the Brown Lab to work with sequences.  It includes both functionality for reading in sequences in FASTA and FASTQ, and creating a random-access sequence database for efficiently retrieving specific named sequences.",
      "",
      "One of the most convenient things about screed is that it will automatically figure out whether or not it's a FASTA or FASTQ file, and automatically read gz and bz2 files.",
      "",
      "Read more about it here:",
      "",
      "http://readthedocs.org/docs/screed/en/latest/"
     ]
    },
    {
     "cell_type": "code",
     "input": [
      "import screed",
      "",
      "for read in screed.open('/data/drosophila/RAL357_1.fastq'):",
      "    print read",
      "    break",
      ""
     ],
     "language": "python",
     "outputs": [
      {
       "output_type": "stream",
       "stream": "stdout",
       "text": [
        "{'annotations': 'USI-EAS034_2_PE_FC304DDAAXX:8:1:1611:1748 length=45', 'sequence': 'GTACATTTTATATTTGCTAGAAGCTGGGCATATTGTTTTTTCTNN', 'name': 'SRR018286.1', 'accuracy': '77777777777777777777777777757777775333323-3!!'}",
        "SRR018286.1 GTACATTTTATATTTGCTAGAAGCTGGGCATATTGTTTTTTCTNN",
        ""
       ]
      }
     ],
     "prompt_number": 5
    },
    {
     "cell_type": "code",
     "input": [
      "for read in screed.open('/data/drosophila/RAL357_1.fastq'):",
      "    print read.name, read.sequence",
      "    break"
     ],
     "language": "python",
     "outputs": [
      {
       "output_type": "stream",
       "stream": "stdout",
       "text": [
        "SRR018286.1 GTACATTTTATATTTGCTAGAAGCTGGGCATATTGTTTTTTCTNN",
        ""
       ]
      }
     ],
     "prompt_number": 14
    },
    {
     "cell_type": "code",
     "input": [
      "lengths = []",
      "for n, read in enumerate(screed.open('/data/drosophila/RAL357_1.fastq')):",
      "    if n > 100000: break",
      "        ",
      "    seq = read.sequence",
      "    first_n = seq.find('N')",
      "    if first_n >= 0:",
      "        seq = seq[:first_n]",
      "        ",
      "    read_len = len(seq)",
      "    lengths.append(read_len)",
      "    ",
      "print seq"
     ],
     "language": "python",
     "outputs": [
      {
       "output_type": "stream",
       "stream": "stdout",
       "text": [
        "AACCACGGGTAGAGTCAGCATATATGTAAGTTTGGAGCCACAA",
        ""
       ]
      }
     ],
     "prompt_number": 12
    },
    {
     "cell_type": "code",
     "input": [
      "hist(lengths)",
      "lengths[:20]",
      "axis(ymax=100, xmin=0)"
     ],
     "language": "python",
     "outputs": [
      {
       "output_type": "pyout",
       "prompt_number": 13,
       "text": [
        "(0, 45.0, 0.0, 100)"
       ]
      },
      {
       "output_type": "display_data",
       "png": "[encoded data removed]"
      }
     ],
     "prompt_number": 13
    },
    {
     "cell_type": "code",
     "input": [
      "# pick off the first 400,000 sequences from the FASTQ file and align them.",
      "!head -400000 /data/drosophila/RAL357_1.fastq | bowtie -p 2 -q dros - > ral357-random.map"
     ],
     "language": "python",
     "outputs": [
      {
       "output_type": "stream",
       "stream": "stdout",
       "text": [
        "# reads processed: 100000",
        "# reads with at least one reported alignment: 94831 (94.83%)",
        "# reads that failed to align: 5169 (5.17%)",
        "Reported 94831 alignments to 1 output stream(s)",
        ""
       ]
      }
     ],
     "prompt_number": 14
    },
    {
     "cell_type": "code",
     "input": [
      "# define a function that we can use to read in the mapping output file",
      "def read_mapping_file(filename):",
      "    for line in open(filename):",
      "        _, orient, refname, pos, read, _, _, mismatches = line.split('\\t')[:8]",
      "        pos = int(pos)",
      "        mismatches = mismatches.split(',')",
      "        x = []",
      "        for posn in mismatches:",
      "            posn = posn.split(':')[0]",
      "            posn = int(posn)",
      "            x.append(posn)",
      "        yield orient, refname, pos, read, x"
     ],
     "language": "python",
     "outputs": [],
     "prompt_number": 18
    },
    {
     "cell_type": "code",
     "input": [
      "d = {}",
      "",
      "for (orient, refname, pos, read, mismatches) in read_mapping_file('ral357-random.map'):",
      "    for posn in mismatches:",
      "        d[posn] = d.get(posn, 0) + 1"
     ],
     "language": "python",
     "outputs": [],
     "prompt_number": 19
    },
    {
     "cell_type": "code",
     "input": [
      "items = d.items()",
      "items.sort()",
      "",
      "x = []",
      "y = []",
      "for (a, b) in items:",
      "    x.append(a)",
      "    y.append(b)",
      ""
     ],
     "language": "python",
     "outputs": [],
     "prompt_number": 21
    },
    {
     "cell_type": "code",
     "input": [
      "plot(x, y)"
     ],
     "language": "python",
     "outputs": [
      {
       "output_type": "pyout",
       "prompt_number": 22,
       "text": [
        "[<matplotlib.lines.Line2D at 0x280a8d0>]"
       ]
      },
      {
       "output_type": "display_data",
       "png": "[encoded data removed]"
      }
     ],
     "prompt_number": 22
    },
    {
     "cell_type": "code",
     "input": [
      ""
     ],
     "language": "python",
     "outputs": []
    }
   ]
  }
 ]
}