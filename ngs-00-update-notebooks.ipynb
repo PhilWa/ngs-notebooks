{
 "metadata": {
  "name": "ngs-00-update-notebooks"
 },
 "nbformat": 3,
 "worksheets": [
  {
   "cells": [
    {
     "cell_type": "code",
     "input": [
<<<<<<< HEAD
      "!git fetch -uf origin master:master"
     ],
     "language": "python",
     "outputs": [],
     "prompt_number": 7
    },
    {
     "cell_type": "code",
     "input": [
      "!git status"
=======
      "!git pull -u origin master"
>>>>>>> 29c798fbed8f0d7799beb9fe44bc33a99f8ea1e2
     ],
     "language": "python",
     "outputs": [
      {
       "output_type": "stream",
       "stream": "stdout",
       "text": [
<<<<<<< HEAD
        "# On branch master",
        "# Untracked files:",
        "#   (use \"git add <file>...\" to include in what will be committed)",
        "#",
        "#\tngs-00-update-notebooks.ipynb",
        "nothing added to commit but untracked files present (use \"git add\" to track)",
=======
        "From git://github.com/ctb/ngs-notebooks",
        " * branch            master     -> FETCH_HEAD",
        "Already up-to-date.",
>>>>>>> 29c798fbed8f0d7799beb9fe44bc33a99f8ea1e2
        ""
       ]
      }
     ],
<<<<<<< HEAD
     "prompt_number": 8
    },
    {
     "cell_type": "code",
     "input": [
      "pwd"
     ],
     "language": "python",
     "outputs": [
      {
       "output_type": "pyout",
       "prompt_number": 9,
       "text": [
        "u'/usr/local/notebooks'"
       ]
      }
     ],
     "prompt_number": 9
    },
    {
     "cell_type": "code",
     "input": [
      ""
     ],
     "language": "python",
     "outputs": []
=======
     "prompt_number": 5
>>>>>>> 29c798fbed8f0d7799beb9fe44bc33a99f8ea1e2
    }
   ]
  }
 ]
}