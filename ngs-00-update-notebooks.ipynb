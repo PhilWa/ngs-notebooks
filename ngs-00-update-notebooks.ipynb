{
 "metadata": {
  "name": "ngs-00-update-notebooks"
 },
 "nbformat": 3,
 "worksheets": [
  {
   "cells": [
    {
     "cell_type": "code",
     "input": [
      "cd /usr/local/notebooks"
     ],
     "language": "python",
     "outputs": [
      {
       "output_type": "stream",
       "stream": "stdout",
       "text": [
        "/usr/local/notebooks",
        ""
       ]
      }
     ],
     "prompt_number": 1
    },
    {
     "cell_type": "code",
     "input": [
      "ls"
     ],
     "language": "python",
     "outputs": [
      {
       "output_type": "stream",
       "stream": "stdout",
       "text": [
        "\u001b[0m\u001b[01;34mlib\u001b[0m/                           ngs-10-blast.ipynb                README.txt",
        "ngs-00-update-notebooks.ipynb  ngs-11-python-and-graphing.ipynb  \u001b[01;32mrun.sh\u001b[0m*",
        "ngs-01-install-dropbox.ipynb   ngs-12-python-rundown.ipynb",
        ""
       ]
      }
     ],
     "prompt_number": 2
    },
    {
     "cell_type": "code",
     "input": [
      "!git checkout -f master"
     ],
     "language": "python",
     "outputs": [
      {
       "output_type": "stream",
       "stream": "stdout",
       "text": [
        "Already on 'master'",
        ""
       ]
      }
     ],
     "prompt_number": 3
    },
    {
     "cell_type": "code",
     "input": [
      "!git pull origin master"
     ],
     "language": "python",
     "outputs": [
      {
       "output_type": "stream",
       "stream": "stdout",
       "text": [
        "remote: Counting objects: 69, done.\u001b[K",
        "remote: Compressing objects:   1% (1/54)   \u001b[K",
        "remote: Compressing objects:   3% (2/54)   \u001b[K",
        "remote: Compressing objects:   5% (3/54)   \u001b[K",
        "remote: Compressing objects:   7% (4/54)   \u001b[K",
        "remote: Compressing objects:   9% (5/54)   \u001b[K"
       ]
      },
      {
       "output_type": "stream",
       "stream": "stdout",
       "text": [
        "remote: Compressing objects:  11% (6/54)   \u001b[K",
        "remote: Compressing objects:  12% (7/54)   \u001b[K",
        "remote: Compressing objects:  14% (8/54)   \u001b[K",
        "remote: Compressing objects:  16% (9/54)   \u001b[K",
        "remote: Compressing objects:  18% (10/54)   \u001b[K",
        "remote: Compressing objects:  20% (11/54)   \u001b[K",
        "remote: Compressing objects:  22% (12/54)   \u001b[K",
        "remote: Compressing objects:  24% (13/54)   \u001b[K"
       ]
      },
      {
       "output_type": "stream",
       "stream": "stdout",
       "text": [
        "remote: Compressing objects:  25% (14/54)   \u001b[K",
        "remote: Compressing objects:  27% (15/54)   \u001b[K",
        "remote: Compressing objects:  29% (16/54)   \u001b[K",
        "remote: Compressing objects:  31% (17/54)   \u001b[K",
        "remote: Compressing objects:  33% (18/54)   \u001b[K",
        "remote: Compressing objects:  35% (19/54)   \u001b[K",
        "remote: Compressing objects:  37% (20/54)   \u001b[K",
        "remote: Compressing objects:  38% (21/54)   \u001b[K",
        "remote: Compressing objects:  40% (22/54)   \u001b[K",
        "remote: Compressing objects:  42% (23/54)   \u001b[K",
        "remote: Compressing objects:  44% (24/54)   \u001b[K",
        "remote: Compressing objects:  46% (25/54)   \u001b[K",
        "remote: Compressing objects:  48% (26/54)   \u001b[K",
        "remote: Compressing objects:  50% (27/54)   \u001b[K",
        "remote: Compressing objects:  51% (28/54)   \u001b[K",
        "remote: Compressing objects:  53% (29/54)   \u001b[K",
        "remote: Compressing objects:  55% (30/54)   \u001b[K",
        "remote: Compressing objects:  57% (31/54)   \u001b[K",
        "remote: Compressing objects:  59% (32/54)   \u001b[K",
        "remote: Compressing objects:  61% (33/54)   \u001b[K",
        "remote: Compressing objects:  62% (34/54)   \u001b[K",
        "remote: Compressing objects:  64% (35/54)   \u001b[K",
        "remote: Compressing objects:  66% (36/54)   \u001b[K",
        "remote: Compressing objects:  68% (37/54)   \u001b[K",
        "remote: Compressing objects:  70% (38/54)   \u001b[K",
        "remote: Compressing objects:  72% (39/54)   \u001b[K",
        "remote: Compressing objects:  74% (40/54)   \u001b[K",
        "remote: Compressing objects:  75% (41/54)   \u001b[K",
        "remote: Compressing objects:  77% (42/54)   \u001b[K",
        "remote: Compressing objects:  79% (43/54)   \u001b[K",
        "remote: Compressing objects:  81% (44/54)   \u001b[K",
        "remote: Compressing objects:  83% (45/54)   \u001b[K",
        "remote: Compressing objects:  85% (46/54)   \u001b[K",
        "remote: Compressing objects:  87% (47/54)   \u001b[K",
        "remote: Compressing objects:  88% (48/54)   \u001b[K",
        "remote: Compressing objects:  90% (49/54)   \u001b[K",
        "remote: Compressing objects:  92% (50/54)   \u001b[K",
        "remote: Compressing objects:  94% (51/54)   \u001b[K",
        "remote: Compressing objects:  96% (52/54)   \u001b[K",
        "remote: Compressing objects:  98% (53/54)   \u001b[K",
        "remote: Compressing objects: 100% (54/54)   \u001b[K",
        "remote: Compressing objects: 100% (54/54), done.\u001b[K",
        "Unpacking objects:   1% (1/67)   ",
        "Unpacking objects:   2% (2/67)   ",
        "Unpacking objects:   4% (3/67)   ",
        "Unpacking objects:   5% (4/67)   ",
        "Unpacking objects:   7% (5/67)   ",
        "Unpacking objects:   8% (6/67)   ",
        "Unpacking objects:  10% (7/67)   ",
        "Unpacking objects:  11% (8/67)   ",
        "Unpacking objects:  13% (9/67)   ",
        "Unpacking objects:  14% (10/67)   ",
        "Unpacking objects:  16% (11/67)   ",
        "Unpacking objects:  17% (12/67)   ",
        "Unpacking objects:  19% (13/67)   ",
        "Unpacking objects:  20% (14/67)   ",
        "Unpacking objects:  22% (15/67)   ",
        "Unpacking objects:  23% (16/67)   ",
        "Unpacking objects:  25% (17/67)   ",
        "Unpacking objects:  26% (18/67)   ",
        "Unpacking objects:  28% (19/67)   ",
        "Unpacking objects:  29% (20/67)   ",
        "Unpacking objects:  31% (21/67)   ",
        "Unpacking objects:  32% (22/67)   ",
        "Unpacking objects:  34% (23/67)   "
       ]
      },
      {
       "output_type": "stream",
       "stream": "stdout",
       "text": [
        "Unpacking objects:  35% (24/67)   ",
        "Unpacking objects:  37% (25/67)   ",
        "Unpacking objects:  38% (26/67)   ",
        "Unpacking objects:  40% (27/67)   ",
        "Unpacking objects:  41% (28/67)   ",
        "Unpacking objects:  43% (29/67)   ",
        "Unpacking objects:  44% (30/67)   ",
        "Unpacking objects:  46% (31/67)   ",
        "Unpacking objects:  47% (32/67)   ",
        "Unpacking objects:  49% (33/67)   ",
        "Unpacking objects:  50% (34/67)   ",
        "Unpacking objects:  52% (35/67)   ",
        "Unpacking objects:  53% (36/67)   ",
        "Unpacking objects:  55% (37/67)   ",
        "Unpacking objects:  56% (38/67)   ",
        "Unpacking objects:  58% (39/67)   ",
        "Unpacking objects:  59% (40/67)   ",
        "Unpacking objects:  61% (41/67)   ",
        "Unpacking objects:  62% (42/67)   ",
        "Unpacking objects:  64% (43/67)   "
       ]
      },
      {
       "output_type": "stream",
       "stream": "stdout",
       "text": [
        "remote: Total 67 (delta 38), reused 42 (delta 13)\u001b[K",
        ""
       ]
      },
      {
       "output_type": "stream",
       "stream": "stdout",
       "text": [
        "Unpacking objects:  65% (44/67)   ",
        "Unpacking objects:  67% (45/67)   ",
        "Unpacking objects:  68% (46/67)   ",
        "Unpacking objects:  70% (47/67)   ",
        "Unpacking objects:  71% (48/67)   ",
        "Unpacking objects:  73% (49/67)   ",
        "Unpacking objects:  74% (50/67)   ",
        "Unpacking objects:  76% (51/67)   ",
        "Unpacking objects:  77% (52/67)   ",
        "Unpacking objects:  79% (53/67)   ",
        "Unpacking objects:  80% (54/67)   ",
        "Unpacking objects:  82% (55/67)   ",
        "Unpacking objects:  83% (56/67)   ",
        "Unpacking objects:  85% (57/67)   ",
        "Unpacking objects:  86% (58/67)   ",
        "Unpacking objects:  88% (59/67)   ",
        "Unpacking objects:  89% (60/67)   ",
        "Unpacking objects:  91% (61/67)   ",
        "Unpacking objects:  92% (62/67)   ",
        "Unpacking objects:  94% (63/67)   ",
        "Unpacking objects:  95% (64/67)   ",
        "Unpacking objects:  97% (65/67)   ",
        "Unpacking objects:  98% (66/67)   ",
        "Unpacking objects: 100% (67/67)   ",
        "Unpacking objects: 100% (67/67), done.",
        "From git://github.com/ngs-docs/ngs-notebooks",
        " * branch            master     -> FETCH_HEAD",
        "Updating b414652..3afbcf9",
        ""
       ]
      },
      {
       "output_type": "stream",
       "stream": "stdout",
       "text": [
        "Fast-forward",
        ""
       ]
      },
      {
       "output_type": "stream",
       "stream": "stdout",
       "text": [
        " genes.gff                             | 6608 ++",
        " ngs-02-install-screed.ipynb           |   36 +",
        " ngs-03-install-khmer.ipynb            |   62 +",
        " ngs-11-python-and-graphing.ipynb      |  116 +-",
        " ngs-31-python-and-short-reads.ipynb   |  233 +",
        " ngs-41-velvet-genome-assembly.ipynb   |  227 +",
        " ngs-42-oases-mRNAseq-assembly.ipynb   |  177 +",
        " ngs-43-trinity-mRNAseq-assembly.ipynb |  217 +",
        " ngs-44-kmer-distributions.ipynb       |  523 +",
        " ngs-51-gimme-tools.ipynb              | 1900 +",
        " ngs-5x-digital-normalization.ipynb    |  424 +",
        " ngs-61-intro-to-dicts.ipynb           |  355 +",
        " ngs-62-screed-database-as-dict.ipynb  |  180 +",
        " ngs-70-hmp-diginorm.ipynb             | 1575 +",
        " ngs-71-hmp-partition.ipynb            | 3166 +",
        " reads.bed                             |111865 +++++++++++++++++++++++++++++++++",
        " 16 files changed, 127556 insertions(+), 108 deletions(-)",
        " create mode 100644 genes.gff",
        " create mode 100644 ngs-02-install-screed.ipynb",
        " create mode 100644 ngs-03-install-khmer.ipynb",
        " create mode 100644 ngs-31-python-and-short-reads.ipynb",
        " create mode 100644 ngs-41-velvet-genome-assembly.ipynb",
        " create mode 100644 ngs-42-oases-mRNAseq-assembly.ipynb",
        " create mode 100644 ngs-43-trinity-mRNAseq-assembly.ipynb",
        " create mode 100644 ngs-44-kmer-distributions.ipynb",
        " create mode 100644 ngs-51-gimme-tools.ipynb",
        " create mode 100644 ngs-5x-digital-normalization.ipynb",
        " create mode 100644 ngs-61-intro-to-dicts.ipynb",
        " create mode 100644 ngs-62-screed-database-as-dict.ipynb",
        " create mode 100644 ngs-70-hmp-diginorm.ipynb",
        " create mode 100644 ngs-71-hmp-partition.ipynb",
        " create mode 100644 reads.bed",
        ""
       ]
      }
     ],
     "prompt_number": 4
    }
   ]
  }
 ]
}