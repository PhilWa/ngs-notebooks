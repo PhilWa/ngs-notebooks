{
 "metadata": {
  "name": "ngs-00-update-notebooks"
 },
 "nbformat": 3,
 "worksheets": [
  {
   "cells": [
    {
     "cell_type": "code",
     "input": [
      "!git pull -u origin master"
     ],
     "language": "python",
     "outputs": [
      {
       "output_type": "stream",
       "stream": "stdout",
       "text": [
        "From git://github.com/ctb/ngs-notebooks",
        " * branch            master     -> FETCH_HEAD",
        "Already up-to-date.",
        ""
       ]
      }
     ],
     "prompt_number": 5
    }
   ]
  }
 ]
}