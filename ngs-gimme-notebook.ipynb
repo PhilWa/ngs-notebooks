{
 "metadata": {
  "name": "ngs-gimme-notebook"
 },
 "nbformat": 3,
 "worksheets": [
  {
   "cells": [
    {
     "cell_type": "heading",
     "level": 1,
     "source": "Building Gene Models from RNA-Seq Using Gimme tools"
    },
    {
     "cell_type": "heading",
     "level": 2,
     "source": "Installing Gimme tools"
    },
    {
     "cell_type": "markdown",
     "source": "Gimme tools is publicly available on Github under GNU general public license.\nThe easiest way to get Gimme is to clone it from github.\n\n*Note, this tutorial has been tested on Amazon EC2 **ami-00ca6a69**.*"
    },
    {
     "cell_type": "code",
     "input": "%cd ~\n!git clone git://github.com/likit/gimme.git",
     "language": "python",
     "outputs": [
      {
       "output_type": "stream",
       "stream": "stdout",
       "text": "/root\nCloning into gimme...\n"
      },
      {
       "output_type": "stream",
       "stream": "stdout",
       "text": "remote: Counting objects: 606, done.\u001b[K\nremote: Compressing objects:   0% (1/333)   \u001b[K\nremote: Compressing objects:   1% (4/333)   \u001b[K\nremote: Compressing objects:   2% (7/333)   \u001b[K\nremote: Compressing objects:   3% (10/333)   \u001b[K\nremote: Compressing objects:   4% (14/333)   \u001b[K\nremote: Compressing objects:   5% (17/333)   \u001b[K\nremote: Compressing objects:   6% (20/333)   \u001b[K\nremote: Compressing objects:   7% (24/333)   \u001b[K\nremote: Compressing objects:   8% (27/333)   \u001b[K\nremote: Compressing objects:   9% (30/333)   \u001b[K\nremote: Compressing objects:  10% (34/333)   \u001b[K\nremote: Compressing objects:  11% (37/333)   \u001b[K"
      },
      {
       "output_type": "stream",
       "stream": "stdout",
       "text": "remote: Compressing objects:  12% (40/333)   \u001b[K\nremote: Compressing objects:  13% (44/333)   \u001b[K\nremote: Compressing objects:  14% (47/333)   \u001b[K\nremote: Compressing objects:  15% (50/333)   \u001b[K\nremote: Compressing objects:  16% (54/333)   \u001b[K\nremote: Compressing objects:  17% (57/333)   \u001b[K\nremote: Compressing objects:  18% (60/333)   \u001b[K\nremote: Compressing objects:  19% (64/333)   \u001b[K\nremote: Compressing objects:  20% (67/333)   \u001b[K\nremote: Compressing objects:  21% (70/333)   \u001b[K\nremote: Compressing objects:  22% (74/333)   \u001b[K\nremote: Compressing objects:  23% (77/333)   \u001b[K\nremote: Compressing objects:  24% (80/333)   \u001b[K\nremote: Compressing objects:  25% (84/333)   \u001b[K\nremote: Compressing objects:  26% (87/333)   \u001b[K\nremote: Compressing objects:  27% (90/333)   \u001b[K\nremote: Compressing objects:  28% (94/333)   \u001b[K\nremote: Compressing objects:  29% (97/333)   \u001b[K\nremote: Compressing objects:  30% (100/333)   \u001b[K\nremote: Compressing objects:  31% (104/333)   \u001b[K\nremote: Compressing objects:  32% (107/333)   \u001b[K\nremote: Compressing objects:  33% (110/333)   \u001b[K\nremote: Compressing objects:  34% (114/333)   \u001b[K\nremote: Compressing objects:  35% (117/333)   \u001b[K\nremote: Compressing objects:  36% (120/333)   \u001b[K\nremote: Compressing objects:  37% (124/333)   \u001b[K\nremote: Compressing objects:  38% (127/333)   \u001b[K\nremote: Compressing objects:  39% (130/333)   \u001b[K\nremote: Compressing objects:  40% (134/333)   \u001b[K\nremote: Compressing objects:  41% (137/333)   \u001b[K\nremote: Compressing objects:  42% (140/333)   \u001b[K\nremote: Compressing objects:  43% (144/333)   \u001b[K\nremote: Compressing objects:  44% (147/333)   \u001b[K\nremote: Compressing objects:  45% (150/333)   \u001b[K\nremote: Compressing objects:  46% (154/333)   \u001b[K\nremote: Compressing objects:  47% (157/333)   \u001b[K\nremote: Compressing objects:  48% (160/333)   \u001b[K\nremote: Compressing objects:  49% (164/333)   \u001b[K\nremote: Compressing objects:  50% (167/333)   \u001b[K\nremote: Compressing objects:  51% (170/333)   \u001b[K\nremote: Compressing objects:  52% (174/333)   \u001b[K\nremote: Compressing objects:  53% (177/333)   \u001b[K\nremote: Compressing objects:  54% (180/333)   \u001b[K\nremote: Compressing objects:  55% (184/333)   \u001b[K\nremote: Compressing objects:  56% (187/333)   \u001b[K\nremote: Compressing objects:  57% (190/333)   \u001b[K\nremote: Compressing objects:  58% (194/333)   \u001b[K\nremote: Compressing objects:  59% (197/333)   \u001b[K\nremote: Compressing objects:  60% (200/333)   \u001b[K\nremote: Compressing objects:  61% (204/333)   \u001b[K\nremote: Compressing objects:  62% (207/333)   \u001b[K\nremote: Compressing objects:  63% (210/333)   \u001b[K\nremote: Compressing objects:  64% (214/333)   \u001b[K\nremote: Compressing objects:  65% (217/333)   \u001b[K\nremote: Compressing objects:  66% (220/333)   \u001b[K\nremote: Compressing objects:  67% (224/333)   \u001b[K\nremote: Compressing objects:  68% (227/333)   \u001b[K\nremote: Compressing objects:  69% (230/333)   \u001b[K\nremote: Compressing objects:  70% (234/333)   \u001b[K\nremote: Compressing objects:  71% (237/333)   \u001b[K\nremote: Compressing objects:  72% (240/333)   \u001b[K\nremote: Compressing objects:  73% (244/333)   \u001b[K\nremote: Compressing objects:  74% (247/333)   \u001b[K\nremote: Compressing objects:  75% (250/333)   \u001b[K\nremote: Compressing objects:  76% (254/333)   \u001b[K\nremote: Compressing objects:  77% (257/333)   \u001b[K\nremote: Compressing objects:  78% (260/333)   \u001b[K\nremote: Compressing objects:  79% (264/333)   \u001b[K\nremote: Compressing objects:  80% (267/333)   \u001b[K\nremote: Compressing objects:  81% (270/333)   \u001b[K\nremote: Compressing objects:  82% (274/333)   \u001b[K\nremote: Compressing objects:  83% (277/333)   \u001b[K\nremote: Compressing objects:  84% (280/333)   \u001b[K\nremote: Compressing objects:  85% (284/333)   \u001b[K\nremote: Compressing objects:  86% (287/333)   \u001b[K\nremote: Compressing objects:  87% (290/333)   \u001b[K\nremote: Compressing objects:  88% (294/333)   \u001b[K\nremote: Compressing objects:  89% (297/333)   \u001b[K\nremote: Compressing objects:  90% (300/333)   \u001b[K\nremote: Compressing objects:  91% (304/333)   \u001b[K\nremote: Compressing objects:  92% (307/333)   \u001b[K\nremote: Compressing objects:  93% (310/333)   \u001b[K\nremote: Compressing objects:  94% (314/333)   \u001b[K\nremote: Compressing objects:  95% (317/333)   \u001b[K\nremote: Compressing objects:  96% (320/333)   \u001b[K\nremote: Compressing objects:  97% (324/333)   \u001b[K\nremote: Compressing objects:  98% (327/333)   \u001b[K\nremote: Compressing objects:  99% (330/333)   \u001b[K\nremote: Compressing objects: 100% (333/333)   \u001b[K\nremote: Compressing objects: 100% (333/333), done.\u001b[K\nReceiving objects:   0% (1/606)   \nReceiving objects:   1% (7/606)   \nReceiving objects:   2% (13/606)   \nReceiving objects:   3% (19/606)   \nReceiving objects:   4% (25/606)   \nReceiving objects:   5% (31/606)   \nReceiving objects:   6% (37/606)   \nReceiving objects:   7% (43/606)   \nReceiving objects:   8% (49/606)   \nReceiving objects:   9% (55/606)   \nReceiving objects:  10% (61/606)   \nReceiving objects:  11% (67/606)   \nReceiving objects:  12% (73/606)   \nReceiving objects:  13% (79/606)   \nReceiving objects:  14% (85/606)   \nReceiving objects:  15% (91/606)   \nReceiving objects:  16% (97/606)   \nReceiving objects:  17% (104/606)   \nReceiving objects:  18% (110/606)   \nReceiving objects:  19% (116/606)   \nReceiving objects:  20% (122/606)   \nReceiving objects:  21% (128/606)   \nReceiving objects:  22% (134/606)   \nReceiving objects:  23% (140/606)   \nReceiving objects:  24% (146/606)   \nReceiving objects:  25% (152/606)   \nReceiving objects:  26% (158/606)   \nReceiving objects:  27% (164/606)   \nReceiving objects:  28% (170/606)   \nReceiving objects:  29% (176/606)   \nReceiving objects:  30% (182/606)   \nReceiving objects:  31% (188/606)   \nReceiving objects:  32% (194/606)   \nReceiving objects:  33% (200/606)   \nReceiving objects:  34% (207/606)   "
      },
      {
       "output_type": "stream",
       "stream": "stdout",
       "text": "remote: Total 606 (delta 284), reused 573 (delta 251)\u001b[K\nReceiving objects:  35% (213/606)   \nReceiving objects:  36% (219/606)   \nReceiving objects:  37% (225/606)   \nReceiving objects:  38% (231/606)   \nReceiving objects:  39% (237/606)   \nReceiving objects:  40% (243/606)   \nReceiving objects:  41% (249/606)   \nReceiving objects:  42% (255/606)   \nReceiving objects:  43% (261/606)   \nReceiving objects:  44% (267/606)   \nReceiving objects:  45% (273/606)   \nReceiving objects:  46% (279/606)   \nReceiving objects:  47% (285/606)   \nReceiving objects:  48% (291/606)   \nReceiving objects:  49% (297/606)   \nReceiving objects:  50% (303/606)   \nReceiving objects:  51% (310/606)   \nReceiving objects:  52% (316/606)   \nReceiving objects:  53% (322/606)   \nReceiving objects:  54% (328/606)   \nReceiving objects:  55% (334/606)   \nReceiving objects:  56% (340/606)   \nReceiving objects:  57% (346/606)   \nReceiving objects:  58% (352/606)   \nReceiving objects:  59% (358/606)   \nReceiving objects:  60% (364/606)   \nReceiving objects:  61% (370/606)   \nReceiving objects:  62% (376/606)   \nReceiving objects:  63% (382/606)   \nReceiving objects:  64% (388/606)   \nReceiving objects:  65% (394/606)   \nReceiving objects:  66% (400/606)   \nReceiving objects:  67% (407/606)   \nReceiving objects:  68% (413/606)   \nReceiving objects:  69% (419/606)   \nReceiving objects:  70% (425/606)   \nReceiving objects:  71% (431/606)   \nReceiving objects:  72% (437/606)   \nReceiving objects:  73% (443/606)   \nReceiving objects:  74% (449/606)   \nReceiving objects:  75% (455/606)   \nReceiving objects:  76% (461/606)   \nReceiving objects:  77% (467/606)   \nReceiving objects:  78% (473/606)   \nReceiving objects:  79% (479/606)   \nReceiving objects:  80% (485/606)   \nReceiving objects:  81% (491/606)   \nReceiving objects:  82% (497/606)   \nReceiving objects:  83% (503/606)   \nReceiving objects:  84% (510/606)   \nReceiving objects:  85% (516/606)   \nReceiving objects:  86% (522/606)   \nReceiving objects:  87% (528/606)   \nReceiving objects:  88% (534/606)   \nReceiving objects:  89% (540/606)   \nReceiving objects:  90% (546/606)   \nReceiving objects:  91% (552/606)   \nReceiving objects:  92% (558/606)   \nReceiving objects:  93% (564/606)   \nReceiving objects:  94% (570/606)   \nReceiving objects:  95% (576/606)   \nReceiving objects:  96% (582/606)   \nReceiving objects:  97% (588/606)   \nReceiving objects:  98% (594/606)   \nReceiving objects:  99% (600/606)   \nReceiving objects: 100% (606/606)   \nReceiving objects: 100% (606/606), 766.00 KiB, done.\nResolving deltas:   0% (0/284)   \nResolving deltas:  27% (78/284)   \nResolving deltas:  30% (86/284)   \nResolving deltas:  31% (90/284)   \nResolving deltas:  32% (91/284)   \nResolving deltas:  34% (97/284)   \nResolving deltas:  35% (102/284)   \nResolving deltas:  48% (137/284)   \nResolving deltas:  66% (190/284)   \nResolving deltas:  67% (191/284)   \nResolving deltas:  71% (204/284)   \nResolving deltas:  72% (206/284)   \nResolving deltas:  73% (209/284)   \nResolving deltas:  75% (213/284)   \nResolving deltas:  76% (216/284)   \nResolving deltas:  77% (220/284)   \nResolving deltas:  82% (235/284)   \nResolving deltas:  84% (241/284)   \nResolving deltas:  85% (243/284)   \nResolving deltas:  87% (248/284)   \nResolving deltas:  88% (251/284)   \nResolving deltas:  89% (253/284)   \nResolving deltas:  90% (256/284)   \nResolving deltas:  92% (264/284)   \nResolving deltas:  93% (266/284)   \nResolving deltas:  94% (267/284)   \nResolving deltas:  96% (273/284)   \nResolving deltas:  97% (276/284)   \nResolving deltas:  99% (283/284)   \nResolving deltas: 100% (284/284)   \nResolving deltas: 100% (284/284), done.\n"
      }
     ],
     "prompt_number": 1
    },
    {
     "cell_type": "code",
     "input": "%cd gimme",
     "language": "python",
     "outputs": [
      {
       "output_type": "stream",
       "stream": "stdout",
       "text": "/root/gimme"
      },
      {
       "output_type": "stream",
       "stream": "stdout",
       "text": "\n"
      }
     ],
     "prompt_number": 2
    },
    {
     "cell_type": "markdown",
     "source": "setup.py will download and install all dependices for you automatically. Gimme uses networkx for manipulating graph, pygr for reading and writing sequence in FASTA format and bx-python for interval analysis."
    },
    {
     "cell_type": "code",
     "input": "%run setup.py install",
     "language": "python",
     "outputs": [
      {
       "output_type": "stream",
       "stream": "stdout",
       "text": "running install\n"
      },
      {
       "output_type": "stream",
       "stream": "stdout",
       "text": "Checking .pth file support in /usr/local/lib/python2.7/dist-packages/\n"
      },
      {
       "output_type": "stream",
       "stream": "stdout",
       "text": "/usr/bin/python -E -c pass\n"
      },
      {
       "output_type": "stream",
       "stream": "stdout",
       "text": "TEST PASSED: /usr/local/lib/python2.7/dist-packages/ appears to support .pth files\n"
      },
      {
       "output_type": "stream",
       "stream": "stdout",
       "text": "running bdist_egg\n"
      },
      {
       "output_type": "stream",
       "stream": "stdout",
       "text": "running egg_info\n"
      },
      {
       "output_type": "stream",
       "stream": "stdout",
       "text": "creating src/Gimme_tools.egg-info\n"
      },
      {
       "output_type": "stream",
       "stream": "stdout",
       "text": "writing requirements to src/Gimme_tools.egg-info/requires.txt\n"
      },
      {
       "output_type": "stream",
       "stream": "stdout",
       "text": "writing src/Gimme_tools.egg-info/PKG-INFO\n"
      },
      {
       "output_type": "stream",
       "stream": "stdout",
       "text": "writing top-level names to src/Gimme_tools.egg-info/top_level.txt\n"
      },
      {
       "output_type": "stream",
       "stream": "stdout",
       "text": "writing dependency_links to src/Gimme_tools.egg-info/dependency_links.txt\n"
      },
      {
       "output_type": "stream",
       "stream": "stdout",
       "text": "writing manifest file 'src/Gimme_tools.egg-info/SOURCES.txt'\n"
      },
      {
       "output_type": "stream",
       "stream": "stdout",
       "text": "reading manifest file 'src/Gimme_tools.egg-info/SOURCES.txt'\n"
      },
      {
       "output_type": "stream",
       "stream": "stdout",
       "text": "writing manifest file 'src/Gimme_tools.egg-info/SOURCES.txt'\n"
      },
      {
       "output_type": "stream",
       "stream": "stdout",
       "text": "installing library code to build/bdist.linux-x86_64/egg\n"
      },
      {
       "output_type": "stream",
       "stream": "stdout",
       "text": "running install_lib\n"
      },
      {
       "output_type": "stream",
       "stream": "stdout",
       "text": "running build_py\n"
      },
      {
       "output_type": "stream",
       "stream": "stdout",
       "text": "creating build\n"
      },
      {
       "output_type": "stream",
       "stream": "stdout",
       "text": "creating build/lib.linux-x86_64-2.7\n"
      },
      {
       "output_type": "stream",
       "stream": "stdout",
       "text": "creating build/lib.linux-x86_64-2.7/utils\n"
      },
      {
       "output_type": "stream",
       "stream": "stdout",
       "text": "copying src/utils/assignCDS.py -> build/lib.linux-x86_64-2.7/utils\n"
      },
      {
       "output_type": "stream",
       "stream": "stdout",
       "text": "copying src/utils/read_error_profile.py -> build/lib.linux-x86_64-2.7/utils\n"
      },
      {
       "output_type": "stream",
       "stream": "stdout",
       "text": "copying src/utils/psl2bed.py -> build/lib.linux-x86_64-2.7/utils\n"
      },
      {
       "output_type": "stream",
       "stream": "stdout",
       "text": "copying src/utils/count_spliced_reads.py -> build/lib.linux-x86_64-2.7/utils\n"
      },
      {
       "output_type": "stream",
       "stream": "stdout",
       "text": "copying src/utils/alt_iden.py -> build/lib.linux-x86_64-2.7/utils\n"
      },
      {
       "output_type": "stream",
       "stream": "stdout",
       "text": "copying src/utils/cdf_spliced_reads.py -> build/lib.linux-x86_64-2.7/utils\n"
      },
      {
       "output_type": "stream",
       "stream": "stdout",
       "text": "copying src/utils/pslparser.py -> build/lib.linux-x86_64-2.7/utils\n"
      },
      {
       "output_type": "stream",
       "stream": "stdout",
       "text": "copying src/utils/transcript_length_dist.py -> build/lib.linux-x86_64-2.7/utils\n"
      },
      {
       "output_type": "stream",
       "stream": "stdout",
       "text": "copying src/utils/cdhit_transcript.py -> build/lib.linux-x86_64-2.7/utils\n"
      },
      {
       "output_type": "stream",
       "stream": "stdout",
       "text": "copying src/utils/compare_junction.py -> build/lib.linux-x86_64-2.7/utils\n"
      },
      {
       "output_type": "stream",
       "stream": "stdout",
       "text": "copying src/utils/seq_clean.py -> build/lib.linux-x86_64-2.7/utils\n"
      },
      {
       "output_type": "stream",
       "stream": "stdout",
       "text": "copying src/utils/bed2gff.py -> build/lib.linux-x86_64-2.7/utils\n"
      },
      {
       "output_type": "stream",
       "stream": "stdout",
       "text": "copying src/utils/gff2bed.py -> build/lib.linux-x86_64-2.7/utils\n"
      },
      {
       "output_type": "stream",
       "stream": "stdout",
       "text": "copying src/utils/split_fastq.py -> build/lib.linux-x86_64-2.7/utils\n"
      },
      {
       "output_type": "stream",
       "stream": "stdout",
       "text": "copying src/utils/bubble.py -> build/lib.linux-x86_64-2.7/utils\n"
      },
      {
       "output_type": "stream",
       "stream": "stdout",
       "text": "copying src/utils/__init__.py -> build/lib.linux-x86_64-2.7/utils\n"
      },
      {
       "output_type": "stream",
       "stream": "stdout",
       "text": "copying src/utils/get_transcript_seq.py -> build/lib.linux-x86_64-2.7/utils\n"
      },
      {
       "output_type": "stream",
       "stream": "stdout",
       "text": "copying src/utils/get_min_path.py -> build/lib.linux-x86_64-2.7/utils\n"
      },
      {
       "output_type": "stream",
       "stream": "stdout",
       "text": "copying src/utils/get_transcript_seq_psl.py -> build/lib.linux-x86_64-2.7/utils\n"
      },
      {
       "output_type": "stream",
       "stream": "stdout",
       "text": "copying src/utils/rename_fasta.py -> build/lib.linux-x86_64-2.7/utils\n"
      },
      {
       "output_type": "stream",
       "stream": "stdout",
       "text": "creating build/bdist.linux-x86_64\n"
      },
      {
       "output_type": "stream",
       "stream": "stdout",
       "text": "creating build/bdist.linux-x86_64/egg\n"
      },
      {
       "output_type": "stream",
       "stream": "stdout",
       "text": "creating build/bdist.linux-x86_64/egg/utils\n"
      },
      {
       "output_type": "stream",
       "stream": "stdout",
       "text": "copying build/lib.linux-x86_64-2.7/utils/assignCDS.py -> build/bdist.linux-x86_64/egg/utils\n"
      },
      {
       "output_type": "stream",
       "stream": "stdout",
       "text": "copying build/lib.linux-x86_64-2.7/utils/read_error_profile.py -> build/bdist.linux-x86_64/egg/utils\n"
      },
      {
       "output_type": "stream",
       "stream": "stdout",
       "text": "copying build/lib.linux-x86_64-2.7/utils/psl2bed.py -> build/bdist.linux-x86_64/egg/utils\n"
      },
      {
       "output_type": "stream",
       "stream": "stdout",
       "text": "copying build/lib.linux-x86_64-2.7/utils/count_spliced_reads.py -> build/bdist.linux-x86_64/egg/utils\n"
      },
      {
       "output_type": "stream",
       "stream": "stdout",
       "text": "copying build/lib.linux-x86_64-2.7/utils/alt_iden.py -> build/bdist.linux-x86_64/egg/utils\n"
      },
      {
       "output_type": "stream",
       "stream": "stdout",
       "text": "copying build/lib.linux-x86_64-2.7/utils/cdf_spliced_reads.py -> build/bdist.linux-x86_64/egg/utils\n"
      },
      {
       "output_type": "stream",
       "stream": "stdout",
       "text": "copying build/lib.linux-x86_64-2.7/utils/pslparser.py -> build/bdist.linux-x86_64/egg/utils\n"
      },
      {
       "output_type": "stream",
       "stream": "stdout",
       "text": "copying build/lib.linux-x86_64-2.7/utils/transcript_length_dist.py -> build/bdist.linux-x86_64/egg/utils\n"
      },
      {
       "output_type": "stream",
       "stream": "stdout",
       "text": "copying build/lib.linux-x86_64-2.7/utils/cdhit_transcript.py -> build/bdist.linux-x86_64/egg/utils\n"
      },
      {
       "output_type": "stream",
       "stream": "stdout",
       "text": "copying build/lib.linux-x86_64-2.7/utils/compare_junction.py -> build/bdist.linux-x86_64/egg/utils\n"
      },
      {
       "output_type": "stream",
       "stream": "stdout",
       "text": "copying build/lib.linux-x86_64-2.7/utils/seq_clean.py -> build/bdist.linux-x86_64/egg/utils\n"
      },
      {
       "output_type": "stream",
       "stream": "stdout",
       "text": "copying build/lib.linux-x86_64-2.7/utils/bed2gff.py -> build/bdist.linux-x86_64/egg/utils\n"
      },
      {
       "output_type": "stream",
       "stream": "stdout",
       "text": "copying build/lib.linux-x86_64-2.7/utils/gff2bed.py -> build/bdist.linux-x86_64/egg/utils\n"
      },
      {
       "output_type": "stream",
       "stream": "stdout",
       "text": "copying build/lib.linux-x86_64-2.7/utils/split_fastq.py -> build/bdist.linux-x86_64/egg/utils\n"
      },
      {
       "output_type": "stream",
       "stream": "stdout",
       "text": "copying build/lib.linux-x86_64-2.7/utils/bubble.py -> build/bdist.linux-x86_64/egg/utils\n"
      },
      {
       "output_type": "stream",
       "stream": "stdout",
       "text": "copying build/lib.linux-x86_64-2.7/utils/__init__.py -> build/bdist.linux-x86_64/egg/utils\n"
      },
      {
       "output_type": "stream",
       "stream": "stdout",
       "text": "copying build/lib.linux-x86_64-2.7/utils/get_transcript_seq.py -> build/bdist.linux-x86_64/egg/utils\n"
      },
      {
       "output_type": "stream",
       "stream": "stdout",
       "text": "copying build/lib.linux-x86_64-2.7/utils/get_min_path.py -> build/bdist.linux-x86_64/egg/utils\n"
      },
      {
       "output_type": "stream",
       "stream": "stdout",
       "text": "copying build/lib.linux-x86_64-2.7/utils/get_transcript_seq_psl.py -> build/bdist.linux-x86_64/egg/utils\n"
      },
      {
       "output_type": "stream",
       "stream": "stdout",
       "text": "copying build/lib.linux-x86_64-2.7/utils/rename_fasta.py -> build/bdist.linux-x86_64/egg/utils\n"
      },
      {
       "output_type": "stream",
       "stream": "stdout",
       "text": "byte-compiling build/bdist.linux-x86_64/egg/utils/assignCDS.py to assignCDS.pyc\n"
      },
      {
       "output_type": "stream",
       "stream": "stdout",
       "text": "byte-compiling build/bdist.linux-x86_64/egg/utils/read_error_profile.py to read_error_profile.pyc\n"
      },
      {
       "output_type": "stream",
       "stream": "stdout",
       "text": "byte-compiling build/bdist.linux-x86_64/egg/utils/psl2bed.py to psl2bed.pyc\n"
      },
      {
       "output_type": "stream",
       "stream": "stdout",
       "text": "byte-compiling build/bdist.linux-x86_64/egg/utils/count_spliced_reads.py to count_spliced_reads.pyc\n"
      },
      {
       "output_type": "stream",
       "stream": "stdout",
       "text": "byte-compiling build/bdist.linux-x86_64/egg/utils/alt_iden.py to alt_iden.pyc\n"
      },
      {
       "output_type": "stream",
       "stream": "stdout",
       "text": "byte-compiling build/bdist.linux-x86_64/egg/utils/cdf_spliced_reads.py to cdf_spliced_reads.pyc\n"
      },
      {
       "output_type": "stream",
       "stream": "stdout",
       "text": "byte-compiling build/bdist.linux-x86_64/egg/utils/pslparser.py to pslparser.pyc\n"
      },
      {
       "output_type": "stream",
       "stream": "stdout",
       "text": "byte-compiling build/bdist.linux-x86_64/egg/utils/transcript_length_dist.py to transcript_length_dist.pyc\n"
      },
      {
       "output_type": "stream",
       "stream": "stdout",
       "text": "byte-compiling build/bdist.linux-x86_64/egg/utils/cdhit_transcript.py to cdhit_transcript.pyc\n"
      },
      {
       "output_type": "stream",
       "stream": "stdout",
       "text": "byte-compiling build/bdist.linux-x86_64/egg/utils/compare_junction.py to compare_junction.pyc\n"
      },
      {
       "output_type": "stream",
       "stream": "stdout",
       "text": "byte-compiling build/bdist.linux-x86_64/egg/utils/seq_clean.py to seq_clean.pyc\n"
      },
      {
       "output_type": "stream",
       "stream": "stdout",
       "text": "byte-compiling build/bdist.linux-x86_64/egg/utils/bed2gff.py to bed2gff.pyc\n"
      },
      {
       "output_type": "stream",
       "stream": "stdout",
       "text": "byte-compiling build/bdist.linux-x86_64/egg/utils/gff2bed.py to gff2bed.pyc\n"
      },
      {
       "output_type": "stream",
       "stream": "stdout",
       "text": "byte-compiling build/bdist.linux-x86_64/egg/utils/split_fastq.py to split_fastq.pyc\n"
      },
      {
       "output_type": "stream",
       "stream": "stdout",
       "text": "byte-compiling build/bdist.linux-x86_64/egg/utils/bubble.py to bubble.pyc\n"
      },
      {
       "output_type": "stream",
       "stream": "stdout",
       "text": "byte-compiling build/bdist.linux-x86_64/egg/utils/__init__.py to __init__.pyc\n"
      },
      {
       "output_type": "stream",
       "stream": "stdout",
       "text": "byte-compiling build/bdist.linux-x86_64/egg/utils/get_transcript_seq.py to get_transcript_seq.pyc\n"
      },
      {
       "output_type": "stream",
       "stream": "stdout",
       "text": "byte-compiling build/bdist.linux-x86_64/egg/utils/get_min_path.py to get_min_path.pyc\n"
      },
      {
       "output_type": "stream",
       "stream": "stdout",
       "text": "byte-compiling build/bdist.linux-x86_64/egg/utils/get_transcript_seq_psl.py to get_transcript_seq_psl.pyc\n"
      },
      {
       "output_type": "stream",
       "stream": "stdout",
       "text": "byte-compiling build/bdist.linux-x86_64/egg/utils/rename_fasta.py to rename_fasta.pyc\n"
      },
      {
       "output_type": "stream",
       "stream": "stdout",
       "text": "creating build/bdist.linux-x86_64/egg/EGG-INFO\n"
      },
      {
       "output_type": "stream",
       "stream": "stdout",
       "text": "copying src/Gimme_tools.egg-info/PKG-INFO -> build/bdist.linux-x86_64/egg/EGG-INFO\n"
      },
      {
       "output_type": "stream",
       "stream": "stdout",
       "text": "copying src/Gimme_tools.egg-info/SOURCES.txt -> build/bdist.linux-x86_64/egg/EGG-INFO\n"
      },
      {
       "output_type": "stream",
       "stream": "stdout",
       "text": "copying src/Gimme_tools.egg-info/dependency_links.txt -> build/bdist.linux-x86_64/egg/EGG-INFO\n"
      },
      {
       "output_type": "stream",
       "stream": "stdout",
       "text": "copying src/Gimme_tools.egg-info/requires.txt -> build/bdist.linux-x86_64/egg/EGG-INFO\n"
      },
      {
       "output_type": "stream",
       "stream": "stdout",
       "text": "copying src/Gimme_tools.egg-info/top_level.txt -> build/bdist.linux-x86_64/egg/EGG-INFO\n"
      },
      {
       "output_type": "stream",
       "stream": "stderr",
       "text": "zip_safe flag not set; analyzing archive contents...\n"
      },
      {
       "output_type": "stream",
       "stream": "stdout",
       "text": "creating dist\n"
      },
      {
       "output_type": "stream",
       "stream": "stdout",
       "text": "creating 'dist/Gimme_tools-0.9-py2.7.egg' and adding 'build/bdist.linux-x86_64/egg' to it\n"
      },
      {
       "output_type": "stream",
       "stream": "stdout",
       "text": "removing 'build/bdist.linux-x86_64/egg' (and everything under it)\n"
      },
      {
       "output_type": "stream",
       "stream": "stdout",
       "text": "Processing Gimme_tools-0.9-py2.7.egg\n"
      },
      {
       "output_type": "stream",
       "stream": "stdout",
       "text": "creating /usr/local/lib/python2.7/dist-packages/Gimme_tools-0.9-py2.7.egg\n"
      },
      {
       "output_type": "stream",
       "stream": "stdout",
       "text": "Extracting Gimme_tools-0.9-py2.7.egg to /usr/local/lib/python2.7/dist-packages\n"
      },
      {
       "output_type": "stream",
       "stream": "stdout",
       "text": "Adding Gimme-tools 0.9 to easy-install.pth file\n"
      },
      {
       "output_type": "stream",
       "stream": "stdout",
       "text": "\nInstalled /usr/local/lib/python2.7/dist-packages/Gimme_tools-0.9-py2.7.egg\n"
      },
      {
       "output_type": "stream",
       "stream": "stdout",
       "text": "Processing dependencies for Gimme-tools==0.9\n"
      },
      {
       "output_type": "stream",
       "stream": "stdout",
       "text": "Searching for bx-python==0.7.1\n"
      },
      {
       "output_type": "stream",
       "stream": "stdout",
       "text": "Reading http://pypi.python.org/simple/bx-python/\n"
      },
      {
       "output_type": "stream",
       "stream": "stdout",
       "text": "Reading http://bx-python.trac.bx.psu.edu\n"
      },
      {
       "output_type": "stream",
       "stream": "stdout",
       "text": "Reading http://bitbucket.org/james_taylor/bx-python/wiki/Home\n"
      },
      {
       "output_type": "stream",
       "stream": "stdout",
       "text": "Best match: bx-python 0.7.1\n"
      },
      {
       "output_type": "stream",
       "stream": "stdout",
       "text": "Downloading http://pypi.python.org/packages/source/b/bx-python/bx-python-0.7.1.tar.gz#md5=cf26790ae22a691e40c80aa351d6dd16\n"
      },
      {
       "output_type": "stream",
       "stream": "stdout",
       "text": "Processing bx-python-0.7.1.tar.gz\n"
      },
      {
       "output_type": "stream",
       "stream": "stdout",
       "text": "Running bx-python-0.7.1/setup.py -q bdist_egg --dist-dir /tmp/easy_install-52Fn2u/bx-python-0.7.1/egg-dist-tmp-Rv_oVM\n"
      },
      {
       "output_type": "stream",
       "stream": "stdout",
       "text": "Adding bx-python 0.7.1 to easy-install.pth file\n"
      },
      {
       "output_type": "stream",
       "stream": "stdout",
       "text": "Installing one_field_per_line.py script to /usr/local/bin\n"
      },
      {
       "output_type": "stream",
       "stream": "stdout",
       "text": "Installing interval_join.py script to /usr/local/bin\n"
      },
      {
       "output_type": "stream",
       "stream": "stdout",
       "text": "Installing axt_to_lav.py script to /usr/local/bin\n"
      },
      {
       "output_type": "stream",
       "stream": "stdout",
       "text": "Installing tfloc_summary.py script to /usr/local/bin\n"
      },
      {
       "output_type": "stream",
       "stream": "stdout",
       "text": "Installing maf_extract_ranges.py script to /usr/local/bin\n"
      },
      {
       "output_type": "stream",
       "stream": "stdout",
       "text": "Installing maf_word_frequency.py script to /usr/local/bin\n"
      },
      {
       "output_type": "stream",
       "stream": "stdout",
       "text": "Installing bed_count_overlapping.py script to /usr/local/bin\n"
      },
      {
       "output_type": "stream",
       "stream": "stdout",
       "text": "Installing bed_count_by_interval.py script to /usr/local/bin\n"
      },
      {
       "output_type": "stream",
       "stream": "stdout",
       "text": "Installing maf_mapping_word_frequency.py script to /usr/local/bin\n"
      },
      {
       "output_type": "stream",
       "stream": "stdout",
       "text": "Installing nib_chrom_intervals_to_fasta.py script to /usr/local/bin\n"
      },
      {
       "output_type": "stream",
       "stream": "stdout",
       "text": "Installing maf_thread_for_species.py script to /usr/local/bin\n"
      },
      {
       "output_type": "stream",
       "stream": "stdout",
       "text": "Installing nib_intervals_to_fasta.py script to /usr/local/bin\n"
      },
      {
       "output_type": "stream",
       "stream": "stdout",
       "text": "Installing maf_extract_chrom_ranges.py script to /usr/local/bin\n"
      },
      {
       "output_type": "stream",
       "stream": "stdout",
       "text": "Installing bed_intersect.py script to /usr/local/bin\n"
      },
      {
       "output_type": "stream",
       "stream": "stdout",
       "text": "Installing maf_to_concat_fasta.py script to /usr/local/bin\n"
      },
      {
       "output_type": "stream",
       "stream": "stdout",
       "text": "Installing maf_mask_cpg.py script to /usr/local/bin\n"
      },
      {
       "output_type": "stream",
       "stream": "stdout",
       "text": "Installing axt_to_fasta.py script to /usr/local/bin\n"
      },
      {
       "output_type": "stream",
       "stream": "stdout",
       "text": "Installing table_add_column.py script to /usr/local/bin\n"
      },
      {
       "output_type": "stream",
       "stream": "stdout",
       "text": "Installing maf_div_sites.py script to /usr/local/bin\n"
      },
      {
       "output_type": "stream",
       "stream": "stdout",
       "text": "Installing axt_to_maf.py script to /usr/local/bin\n"
      },
      {
       "output_type": "stream",
       "stream": "stdout",
       "text": "Installing bed_merge_overlapping.py script to /usr/local/bin\n"
      },
      {
       "output_type": "stream",
       "stream": "stdout",
       "text": "Installing interval_count_intersections.py script to /usr/local/bin\n"
      },
      {
       "output_type": "stream",
       "stream": "stdout",
       "text": "Installing bed_intersect_basewise.py script to /usr/local/bin\n"
      },
      {
       "output_type": "stream",
       "stream": "stdout",
       "text": "Installing maf_print_chroms.py script to /usr/local/bin\n"
      },
      {
       "output_type": "stream",
       "stream": "stdout",
       "text": "Installing wiggle_to_array_tree.py script to /usr/local/bin\n"
      },
      {
       "output_type": "stream",
       "stream": "stdout",
       "text": "Installing maf_chunk.py script to /usr/local/bin\n"
      },
      {
       "output_type": "stream",
       "stream": "stdout",
       "text": "Installing maf_species_in_all_files.py script to /usr/local/bin\n"
      },
      {
       "output_type": "stream",
       "stream": "stdout",
       "text": "Installing maf_percent_columns_matching.py script to /usr/local/bin\n"
      },
      {
       "output_type": "stream",
       "stream": "stdout",
       "text": "Installing wiggle_to_simple.py script to /usr/local/bin\n"
      },
      {
       "output_type": "stream",
       "stream": "stdout",
       "text": "Installing maf_percent_identity.py script to /usr/local/bin\n"
      },
      {
       "output_type": "stream",
       "stream": "stdout",
       "text": "Installing mask_quality.py script to /usr/local/bin\n"
      },
      {
       "output_type": "stream",
       "stream": "stdout",
       "text": "Installing align_print_template.py script to /usr/local/bin\n"
      },
      {
       "output_type": "stream",
       "stream": "stdout",
       "text": "Installing bed_bigwig_profile.py script to /usr/local/bin\n"
      },
      {
       "output_type": "stream",
       "stream": "stdout",
       "text": "Installing maf_truncate.py script to /usr/local/bin\n"
      },
      {
       "output_type": "stream",
       "stream": "stdout",
       "text": "Installing maf_mean_length_ungapped_piece.py script to /usr/local/bin\n"
      },
      {
       "output_type": "stream",
       "stream": "stdout",
       "text": "Installing maf_to_int_seqs.py script to /usr/local/bin\n"
      },
      {
       "output_type": "stream",
       "stream": "stdout",
       "text": "Installing maf_to_fasta.py script to /usr/local/bin\n"
      },
      {
       "output_type": "stream",
       "stream": "stdout",
       "text": "Installing bed_build_windows.py script to /usr/local/bin\n"
      },
      {
       "output_type": "stream",
       "stream": "stdout",
       "text": "Installing maf_select.py script to /usr/local/bin\n"
      },
      {
       "output_type": "stream",
       "stream": "stdout",
       "text": "Installing maf_region_coverage_by_src.py script to /usr/local/bin\n"
      },
      {
       "output_type": "stream",
       "stream": "stdout",
       "text": "Installing axt_extract_ranges.py script to /usr/local/bin\n"
      },
      {
       "output_type": "stream",
       "stream": "stdout",
       "text": "Installing bed_coverage_by_interval.py script to /usr/local/bin\n"
      },
      {
       "output_type": "stream",
       "stream": "stdout",
       "text": "Installing nib_length.py script to /usr/local/bin\n"
      },
      {
       "output_type": "stream",
       "stream": "stdout",
       "text": "Installing aggregate_scores_in_intervals.py script to /usr/local/bin\n"
      },
      {
       "output_type": "stream",
       "stream": "stdout",
       "text": "Installing maf_print_scores.py script to /usr/local/bin\n"
      },
      {
       "output_type": "stream",
       "stream": "stdout",
       "text": "Installing maf_filter.py script to /usr/local/bin\n"
      },
      {
       "output_type": "stream",
       "stream": "stdout",
       "text": "Installing bed_diff_basewise_summary.py script to /usr/local/bin\n"
      },
      {
       "output_type": "stream",
       "stream": "stdout",
       "text": "Installing mMK_bitset.py script to /usr/local/bin\n"
      },
      {
       "output_type": "stream",
       "stream": "stdout",
       "text": "Installing get_scores_in_intervals.py script to /usr/local/bin\n"
      },
      {
       "output_type": "stream",
       "stream": "stdout",
       "text": "Installing lav_to_axt.py script to /usr/local/bin\n"
      },
      {
       "output_type": "stream",
       "stream": "stdout",
       "text": "Installing maf_gc_content.py script to /usr/local/bin\n"
      },
      {
       "output_type": "stream",
       "stream": "stdout",
       "text": "Installing div_snp_table_chr.py script to /usr/local/bin\n"
      },
      {
       "output_type": "stream",
       "stream": "stdout",
       "text": "Installing bed_extend_to.py script to /usr/local/bin\n"
      },
      {
       "output_type": "stream",
       "stream": "stdout",
       "text": "Installing wiggle_to_chr_binned_array.py script to /usr/local/bin\n"
      },
      {
       "output_type": "stream",
       "stream": "stdout",
       "text": "Installing maf_col_counts_all.py script to /usr/local/bin\n"
      },
      {
       "output_type": "stream",
       "stream": "stdout",
       "text": "Installing maf_split_by_src.py script to /usr/local/bin\n"
      },
      {
       "output_type": "stream",
       "stream": "stdout",
       "text": "Installing table_filter.py script to /usr/local/bin\n"
      },
      {
       "output_type": "stream",
       "stream": "stdout",
       "text": "Installing bed_subtract_basewise.py script to /usr/local/bin\n"
      },
      {
       "output_type": "stream",
       "stream": "stdout",
       "text": "Installing maf_tile_2.py script to /usr/local/bin\n"
      },
      {
       "output_type": "stream",
       "stream": "stdout",
       "text": "Installing bed_rand_intersect.py script to /usr/local/bin\n"
      },
      {
       "output_type": "stream",
       "stream": "stdout",
       "text": "Installing maf_randomize.py script to /usr/local/bin\n"
      },
      {
       "output_type": "stream",
       "stream": "stdout",
       "text": "Installing maf_gap_frequency.py script to /usr/local/bin\n"
      },
      {
       "output_type": "stream",
       "stream": "stdout",
       "text": "Installing int_seqs_to_char_strings.py script to /usr/local/bin\n"
      },
      {
       "output_type": "stream",
       "stream": "stdout",
       "text": "Installing maf_filter_max_wc.py script to /usr/local/bin\n"
      },
      {
       "output_type": "stream",
       "stream": "stdout",
       "text": "Installing qv_to_bqv.py script to /usr/local/bin\n"
      },
      {
       "output_type": "stream",
       "stream": "stdout",
       "text": "Installing maf_tile.py script to /usr/local/bin\n"
      },
      {
       "output_type": "stream",
       "stream": "stdout",
       "text": "Installing pretty_table.py script to /usr/local/bin\n"
      },
      {
       "output_type": "stream",
       "stream": "stdout",
       "text": "Installing maf_translate_chars.py script to /usr/local/bin\n"
      },
      {
       "output_type": "stream",
       "stream": "stdout",
       "text": "Installing maf_drop_overlapping.py script to /usr/local/bin\n"
      },
      {
       "output_type": "stream",
       "stream": "stdout",
       "text": "Installing maf_covered_regions.py script to /usr/local/bin\n"
      },
      {
       "output_type": "stream",
       "stream": "stdout",
       "text": "Installing maf_count.py script to /usr/local/bin\n"
      },
      {
       "output_type": "stream",
       "stream": "stdout",
       "text": "Installing line_select.py script to /usr/local/bin\n"
      },
      {
       "output_type": "stream",
       "stream": "stdout",
       "text": "Installing gene_fourfold_sites.py script to /usr/local/bin\n"
      },
      {
       "output_type": "stream",
       "stream": "stdout",
       "text": "Installing prefix_lines.py script to /usr/local/bin\n"
      },
      {
       "output_type": "stream",
       "stream": "stdout",
       "text": "Installing random_lines.py script to /usr/local/bin\n"
      },
      {
       "output_type": "stream",
       "stream": "stdout",
       "text": "Installing wiggle_to_binned_array.py script to /usr/local/bin\n"
      },
      {
       "output_type": "stream",
       "stream": "stdout",
       "text": "Installing ucsc_gene_table_to_intervals.py script to /usr/local/bin\n"
      },
      {
       "output_type": "stream",
       "stream": "stdout",
       "text": "Installing maf_to_axt.py script to /usr/local/bin\n"
      },
      {
       "output_type": "stream",
       "stream": "stdout",
       "text": "Installing maf_extract_ranges_indexed.py script to /usr/local/bin\n"
      },
      {
       "output_type": "stream",
       "stream": "stdout",
       "text": "Installing maf_interval_alignibility.py script to /usr/local/bin\n"
      },
      {
       "output_type": "stream",
       "stream": "stdout",
       "text": "Installing bed_complement.py script to /usr/local/bin\n"
      },
      {
       "output_type": "stream",
       "stream": "stdout",
       "text": "Installing maf_shuffle_columns.py script to /usr/local/bin\n"
      },
      {
       "output_type": "stream",
       "stream": "stdout",
       "text": "Installing maf_limit_to_species.py script to /usr/local/bin\n"
      },
      {
       "output_type": "stream",
       "stream": "stdout",
       "text": "Installing maf_chop.py script to /usr/local/bin\n"
      },
      {
       "output_type": "stream",
       "stream": "stdout",
       "text": "Installing lzop_build_offset_table.py script to /usr/local/bin\n"
      },
      {
       "output_type": "stream",
       "stream": "stdout",
       "text": "Installing lav_to_maf.py script to /usr/local/bin\n"
      },
      {
       "output_type": "stream",
       "stream": "stdout",
       "text": "Installing maf_build_index.py script to /usr/local/bin\n"
      },
      {
       "output_type": "stream",
       "stream": "stdout",
       "text": "Installing maf_col_counts.py script to /usr/local/bin\n"
      },
      {
       "output_type": "stream",
       "stream": "stdout",
       "text": "Installing find_in_sorted_file.py script to /usr/local/bin\n"
      },
      {
       "output_type": "stream",
       "stream": "stdout",
       "text": "Installing bed_coverage.py script to /usr/local/bin\n"
      },
      {
       "output_type": "stream",
       "stream": "stdout",
       "text": "\nInstalled /usr/local/lib/python2.7/dist-packages/bx_python-0.7.1-py2.7-linux-x86_64.egg\n"
      },
      {
       "output_type": "stream",
       "stream": "stdout",
       "text": "Searching for pygr==0.8.2\n"
      },
      {
       "output_type": "stream",
       "stream": "stdout",
       "text": "Reading http://pypi.python.org/simple/pygr/\n"
      },
      {
       "output_type": "stream",
       "stream": "stdout",
       "text": "Reading http://code.google.com/p/pygr/\n"
      },
      {
       "output_type": "stream",
       "stream": "stdout",
       "text": "Best match: pygr 0.8.2\n"
      },
      {
       "output_type": "stream",
       "stream": "stdout",
       "text": "Downloading http://pypi.python.org/packages/source/p/pygr/pygr-0.8.2.tar.gz#md5=b578b46f01af49f2164f392702c93612\n"
      },
      {
       "output_type": "stream",
       "stream": "stdout",
       "text": "Processing pygr-0.8.2.tar.gz\n"
      },
      {
       "output_type": "stream",
       "stream": "stdout",
       "text": "Running pygr-0.8.2/setup.py -q bdist_egg --dist-dir /tmp/easy_install-B8Nnad/pygr-0.8.2/egg-dist-tmp-k3w1LA\n"
      },
      {
       "output_type": "stream",
       "stream": "stderr",
       "text": "warning: no previously-included files matching '.gitignore' found anywhere in distribution\n"
      },
      {
       "output_type": "stream",
       "stream": "stderr",
       "text": "warning: no previously-included files matching '*.py[co]' found anywhere in distribution\n"
      },
      {
       "output_type": "stream",
       "stream": "stderr",
       "text": "zip_safe flag not set; analyzing archive contents...\n"
      },
      {
       "output_type": "stream",
       "stream": "stderr",
       "text": "pygr.graphquery: module references __file__\n"
      },
      {
       "output_type": "stream",
       "stream": "stderr",
       "text": "pygr.graphquery: module references __file__\n"
      },
      {
       "output_type": "stream",
       "stream": "stderr",
       "text": "pygr.coordinator: module references __file__\n"
      },
      {
       "output_type": "stream",
       "stream": "stderr",
       "text": "pygr.coordinator: module references __file__\n"
      },
      {
       "output_type": "stream",
       "stream": "stdout",
       "text": "Adding pygr 0.8.2 to easy-install.pth file\n"
      },
      {
       "output_type": "stream",
       "stream": "stdout",
       "text": "\nInstalled /usr/local/lib/python2.7/dist-packages/pygr-0.8.2-py2.7-linux-x86_64.egg\n"
      },
      {
       "output_type": "stream",
       "stream": "stdout",
       "text": "Searching for networkx==1.5\n"
      },
      {
       "output_type": "stream",
       "stream": "stdout",
       "text": "Reading http://pypi.python.org/simple/networkx/\n"
      },
      {
       "output_type": "stream",
       "stream": "stdout",
       "text": "Reading http://networkx.lanl.gov/\n"
      },
      {
       "output_type": "stream",
       "stream": "stdout",
       "text": "Reading http://networkx.lanl.gov/download/networkx\n"
      },
      {
       "output_type": "stream",
       "stream": "stdout",
       "text": "Reading http://sourceforge.net/project/showfiles.php?group_id=122233\n"
      },
      {
       "output_type": "stream",
       "stream": "stdout",
       "text": "Reading https://networkx.lanl.gov\n"
      },
      {
       "output_type": "stream",
       "stream": "stdout",
       "text": "Reading http://networkx.lanl.gov/download\n"
      },
      {
       "output_type": "stream",
       "stream": "stdout",
       "text": "Reading http://networkx.lanl.gov\n"
      },
      {
       "output_type": "stream",
       "stream": "stdout",
       "text": "Best match: networkx 1.5\n"
      },
      {
       "output_type": "stream",
       "stream": "stdout",
       "text": "Downloading http://pypi.python.org/packages/2.7/n/networkx/networkx-1.5-py2.7.egg#md5=6ca0ad39198b85b8708a6a648729ee4b\n"
      },
      {
       "output_type": "stream",
       "stream": "stdout",
       "text": "Processing networkx-1.5-py2.7.egg\n"
      },
      {
       "output_type": "stream",
       "stream": "stdout",
       "text": "creating /usr/local/lib/python2.7/dist-packages/networkx-1.5-py2.7.egg\n"
      },
      {
       "output_type": "stream",
       "stream": "stdout",
       "text": "Extracting networkx-1.5-py2.7.egg to /usr/local/lib/python2.7/dist-packages\n"
      },
      {
       "output_type": "stream",
       "stream": "stdout",
       "text": "Adding networkx 1.5 to easy-install.pth file\n"
      },
      {
       "output_type": "stream",
       "stream": "stdout",
       "text": "\nInstalled /usr/local/lib/python2.7/dist-packages/networkx-1.5-py2.7.egg\n"
      },
      {
       "output_type": "stream",
       "stream": "stdout",
       "text": "Searching for distribute==0.6.16dev-r0\n"
      },
      {
       "output_type": "stream",
       "stream": "stdout",
       "text": "Best match: distribute 0.6.16dev-r0\n"
      },
      {
       "output_type": "stream",
       "stream": "stdout",
       "text": "Adding distribute 0.6.16dev-r0 to easy-install.pth file\n"
      },
      {
       "output_type": "stream",
       "stream": "stdout",
       "text": "Installing easy_install script to /usr/local/bin\n"
      },
      {
       "output_type": "stream",
       "stream": "stdout",
       "text": "Installing easy_install-2.7 script to /usr/local/bin\n"
      },
      {
       "output_type": "stream",
       "stream": "stdout",
       "text": "Installing easy_install-2.6 script to /usr/local/bin\n"
      },
      {
       "output_type": "stream",
       "stream": "stdout",
       "text": "\nUsing /usr/lib/python2.7/dist-packages\n"
      },
      {
       "output_type": "stream",
       "stream": "stdout",
       "text": "Finished processing dependencies for Gimme-tools==0.9\n"
      }
     ],
     "prompt_number": 3
    },
    {
     "cell_type": "code",
     "input": "!ls",
     "language": "python",
     "outputs": [
      {
       "output_type": "stream",
       "stream": "stdout",
       "text": "build  __init__.py  README.html  sample_data  src\ndist   LICENSE.txt  README.txt\t setup.py     tests\n"
      }
     ],
     "prompt_number": 4
    },
    {
     "cell_type": "markdown",
     "source": "Gimme has several options that you can adjust to suit your data. Run gimme.py --help to see all options."
    },
    {
     "cell_type": "code",
     "input": "!python src/gimme.py --help",
     "language": "python",
     "outputs": [
      {
       "output_type": "stream",
       "stream": "stdout",
       "text": "usage: Gimme [-h] [--MIN_UTR MIN_UTR] [--GAP_SIZE GAP_SIZE]\n             [--MAX_INTRON MAX_INTRON]\n             [--MIN_TRANSCRIPT_LEN MIN_TRANSCRIPT_LEN] [--min] [--version]\n             input [input ...]\n\npositional arguments:\n  input                 input file(s) in PSL format\n\noptional arguments:\n  -h, --help            show this help message and exit\n  --MIN_UTR MIN_UTR     a cutoff size of alternative UTRs (bp) (default: 100)\n  --GAP_SIZE GAP_SIZE   a maximum gap size (bp) (default: 10)\n  --MAX_INTRON MAX_INTRON\n                        a maximum intron size (bp) (default: 100000)\n  --MIN_TRANSCRIPT_LEN MIN_TRANSCRIPT_LEN\n                        a minimum size of transcript (bp) (default: 300)\n  --min                 report a minimum set of isoforms\n  --version             show program's version number and exit\n"
      }
     ],
     "prompt_number": 5
    },
    {
     "cell_type": "markdown",
     "source": "Gimme reads transcript alignments in PSL format, which can be obtained from BLAT, GMAP and etc. The sample data is assembled transcripts from chicken RNA-Seq that aligned to chromosome 25. For this data, we will simply run Gimme using default options. "
    },
    {
     "cell_type": "code",
     "input": "%cd sample_data/\n!python ../src/gimme.py sample.psl > sample.bed",
     "language": "python",
     "outputs": [
      {
       "output_type": "stream",
       "stream": "stdout",
       "text": "/root/gimme/sample_data"
      },
      {
       "output_type": "stream",
       "stream": "stdout",
       "text": "\n"
      },
      {
       "output_type": "stream",
       "stream": "stdout",
       "text": "Default MIN_UTR = 100\nDefault GAP_SIZE = 10\nDefault MAX_INTRON = 100000\nDefault MIN_TRANSCRIPT_LEN = 300\nSearch for a maximum set of isoforms = yes\nParsing alignments from sample.psl...\n"
      },
      {
       "output_type": "stream",
       "stream": "stdout",
       "text": "... 1000\n"
      },
      {
       "output_type": "stream",
       "stream": "stdout",
       "text": "... 2000\n"
      },
      {
       "output_type": "stream",
       "stream": "stdout",
       "text": "Building gene models...\n"
      },
      {
       "output_type": "stream",
       "stream": "stdout",
       "text": "\nTotal exons = 1951\nTotal genes = 313\nTotal transcripts = 448\nIsoform/gene = 3.22\n"
      }
     ],
     "prompt_number": 6
    },
    {
     "cell_type": "code",
     "input": "!head -5 sample.bed",
     "language": "python",
     "outputs": [
      {
       "output_type": "stream",
       "stream": "stdout",
       "text": "chr25\t1861843\t1864446\tchr25:1.1\t1000\t+\t1861843\t1864446\t0,0,0\t6\t32,84,49,85,138,127\t0,947,1439,1707,2080,2476\n\nchr25\t1370198\t1375837\tchr25:2.1\t1000\t+\t1370198\t1375837\t0,0,0\t8\t882,58,88,57,29,264,294,105\t0,1307,1535,1959,3285,3471,3817,5534\n\nchr25\t1370198\t1375837\tchr25:2.2\t1000\t+\t1370198\t1375837\t0,0,0\t9\t882,58,88,57,29,264,294,206,105\t0,1307,1535,1959,3285,3471,3817,4906,5534\n\nchr25\t1370198\t1375837\tchr25:2.3\t1000\t+\t1370198\t1375837\t0,0,0\t7\t882,58,88,57,266,294,105\t0,1307,1535,1959,3469,3817,5534\n\nchr25\t1370198\t1375837\tchr25:2.4\t1000\t+\t1370198\t1375837\t0,0,0\t8\t882,58,88,57,266,294,206,105\t0,1307,1535,1959,3469,3817,4906,5534\n\n"
      }
     ],
     "prompt_number": 7
    },
    {
     "cell_type": "markdown",
     "source": "Output is in BED format, which can be viewed on UCSC genome browser, IGV and etc."
    },
    {
     "cell_type": "heading",
     "level": 2,
     "source": "Finding/Integrating ORFs to gene models."
    },
    {
     "cell_type": "markdown",
     "source": "The gene models from Gimme do not include open reading frames. We will need to use a third-party program to predict ORFs and incorporate it to the gene models.\n\nFirst, we will need to obtain DNA sequences from the gene models using a get_transcript_seq.py script provided in utils directory.\n\nThe script requires a BED file and a genome sequence in FASTA format. We can obtain a chicken genome sequence for our sample data from UCSC genome website."
    },
    {
     "cell_type": "code",
     "input": "!wget http://hgdownload.cse.ucsc.edu/goldenPath/galGal3/chromosomes/chr25.fa.gz",
     "language": "python",
     "outputs": [
      {
       "output_type": "stream",
       "stream": "stdout",
       "text": "--2012-06-12 14:00:31--  http://hgdownload.cse.ucsc.edu/goldenPath/galGal3/chromosomes/chr25.fa.gz\nResolving hgdownload.cse.ucsc.edu... "
      },
      {
       "output_type": "stream",
       "stream": "stdout",
       "text": "128.114.119.148\nConnecting to hgdownload.cse.ucsc.edu|128.114.119.148|:80... "
      },
      {
       "output_type": "stream",
       "stream": "stdout",
       "text": "connected.\nHTTP request sent, awaiting response... "
      },
      {
       "output_type": "stream",
       "stream": "stdout",
       "text": "200 OK\nLength: 432098 (422K) [application/x-gzip]\nSaving to: `chr25.fa.gz'\n\n\n 0% [                                       ] 0           --.-K/s              "
      },
      {
       "output_type": "stream",
       "stream": "stdout",
       "text": "\n 4% [>                                      ] 18,824      74.3K/s              "
      },
      {
       "output_type": "stream",
       "stream": "stdout",
       "text": "\n20% [=======>                               ] 89,776       195K/s              "
      },
      {
       "output_type": "stream",
       "stream": "stdout",
       "text": "\n54% [====================>                  ] 236,024      349K/s              "
      },
      {
       "output_type": "stream",
       "stream": "stdout",
       "text": "\n100%[======================================>] 432,098      566K/s   in 0.7s    \n\n2012-06-12 14:00:36 (566 KB/s) - `chr25.fa.gz' saved [432098/432098]\n\n"
      }
     ],
     "prompt_number": 8
    },
    {
     "cell_type": "code",
     "input": "!gunzip chr25.fa.gz",
     "language": "python",
     "outputs": [],
     "prompt_number": 9
    },
    {
     "cell_type": "code",
     "input": "!python ../src/utils/get_transcript_seq.py sample.bed chr25.fa > sample.fa",
     "language": "python",
     "outputs": [],
     "prompt_number": 10
    },
    {
     "cell_type": "code",
     "input": "!head sample.fa",
     "language": "python",
     "outputs": [
      {
       "output_type": "stream",
       "stream": "stdout",
       "text": "DEBUG seqdb._create_seqLenDict: Building sequence length index...\n>chr25:1.1\nCGGAGGGGGGGCACCATAGAGACAGACGACCAGATGGGGGGCATTCCTGCCCGCAACGCC\nAAGGGGGAGAGGCTGCTCCTCTATGTCGGCATCATCGATGTGCTGCAGTCCTACAGGTTT\nGTGAAGAAGCTGGAGCACTCGTGGAAGGCCCTTGTGCATGATGGGGACACCGTATCTGTG\nCACAGACCCAGCTTCTATGCTGAAAGATTCCAGCGCTTCATGTGCAACACAGTGTTCAAG\nAAGATACCCTTGAAGCCATCCCCTTCCAAGAAGAGCCGCTCCGGCACCGCGGTTCCTCGG\nCGGAGCTGTCAGGGAGGAGTGCCTTCCCAGCTGCACGTGTTGTGTGAGACAAAAGCACAA\nGTCACGACAGAGGCGGACGTGGAGCAAGGTTCCCACCTCGGCCGCCCGGATCTCCTGCCC\nAGGACTCTGCCGGTGGACGAAGCCAACAGCGATTCCGTCGCCACCACTTTGTCCACCTCC\n"
      }
     ],
     "prompt_number": 11
    },
    {
     "cell_type": "heading",
     "level": 3,
     "source": "Installing ESTscan"
    },
    {
     "cell_type": "markdown",
     "source": "ESTScan version 2.1 requires a perl module BTLib, which can be downloaded from sourceforge.net. We will first download and install the module. "
    },
    {
     "cell_type": "code",
     "input": "%cd ~",
     "language": "python",
     "outputs": [
      {
       "output_type": "stream",
       "stream": "stdout",
       "text": "/root"
      },
      {
       "output_type": "stream",
       "stream": "stdout",
       "text": "\n"
      }
     ],
     "prompt_number": 12
    },
    {
     "cell_type": "code",
     "input": "!wget http://sourceforge.net/projects/estscan/files/BTLib/0.19/BTLib-0.19.tar.gz/download -O BTlib.tar.gz",
     "language": "python",
     "outputs": [
      {
       "output_type": "stream",
       "stream": "stdout",
       "text": "--2012-06-12 14:00:51--  http://sourceforge.net/projects/estscan/files/BTLib/0.19/BTLib-0.19.tar.gz/download\nResolving sourceforge.net... 216.34.181.60\nConnecting to sourceforge.net|216.34.181.60|:80... connected.\nHTTP request sent, awaiting response... "
      },
      {
       "output_type": "stream",
       "stream": "stdout",
       "text": "302 Found\nLocation: http://downloads.sourceforge.net/project/estscan/BTLib/0.19/BTLib-0.19.tar.gz?r=&ts=1339509652&use_mirror=iweb [following]\n--2012-06-12 14:00:52--  http://downloads.sourceforge.net/project/estscan/BTLib/0.19/BTLib-0.19.tar.gz?r=&ts=1339509652&use_mirror=iweb\nResolving downloads.sourceforge.net... 216.34.181.59\nConnecting to downloads.sourceforge.net|216.34.181.59|:80... "
      },
      {
       "output_type": "stream",
       "stream": "stdout",
       "text": "connected.\nHTTP request sent, awaiting response... "
      },
      {
       "output_type": "stream",
       "stream": "stdout",
       "text": "302 Found\nLocation: http://iweb.dl.sourceforge.net/project/estscan/BTLib/0.19/BTLib-0.19.tar.gz [following]\n--2012-06-12 14:00:52--  http://iweb.dl.sourceforge.net/project/estscan/BTLib/0.19/BTLib-0.19.tar.gz\nResolving iweb.dl.sourceforge.net... 70.38.0.134, 2607:f748:10:12::5f:2\nConnecting to iweb.dl.sourceforge.net|70.38.0.134|:80... "
      },
      {
       "output_type": "stream",
       "stream": "stdout",
       "text": "connected.\nHTTP request sent, awaiting response... "
      },
      {
       "output_type": "stream",
       "stream": "stdout",
       "text": "200 OK\nLength: 36283 (35K) [application/x-gzip]\nSaving to: `BTlib.tar.gz'\n\n\n 0% [                                       ] 0           --.-K/s              "
      },
      {
       "output_type": "stream",
       "stream": "stdout",
       "text": "\n100%[======================================>] 36,283      --.-K/s   in 0.06s   \n\n2012-06-12 14:00:52 (565 KB/s) - `BTlib.tar.gz' saved [36283/36283]\n\n"
      }
     ],
     "prompt_number": 13
    },
    {
     "cell_type": "code",
     "input": "!tar xvfz BTlib.tar.gz",
     "language": "python",
     "outputs": [
      {
       "output_type": "stream",
       "stream": "stdout",
       "text": "BTLib-0.19/\nBTLib-0.19/fetch\nBTLib-0.19/EPDFile.pm\nBTLib-0.19/SPEntry.pm\nBTLib-0.19/BTLib.xs\nBTLib-0.19/indexer\nBTLib-0.19/LitRef.pm\nBTLib-0.19/FASTAEntry.pm\nBTLib-0.19/netfetch.conf\nBTLib-0.19/Makefile.PL\nBTLib-0.19/UGEntry.pm\nBTLib-0.19/EMBLEntry.pm\nBTLib-0.19/netfetch\nBTLib-0.19/EMBLFile.pm\nBTLib-0.19/SPFile.pm\nBTLib-0.19/GBEntry.pm\nBTLib-0.19/UGFile.pm\nBTLib-0.19/GBFile.pm\nBTLib-0.19/FASTAFile.pm\nBTLib-0.19/fetch.conf\nBTLib-0.19/perl-BTLib.spec\nBTLib-0.19/EPDEntry.pm\nBTLib-0.19/BTLib.pm\nBTLib-0.19/MANIFEST\nBTLib-0.19/BTFile.pm\n"
      }
     ],
     "prompt_number": 14
    },
    {
     "cell_type": "markdown",
     "source": "You might have used a make command to build and install a program before. This time we will use make command again to install a perl module."
    },
    {
     "cell_type": "code",
     "input": "%cd BTLib-0.19/\n!perl Makefile.PL\n!make install",
     "language": "python",
     "outputs": [
      {
       "output_type": "stream",
       "stream": "stdout",
       "text": "/root/BTLib-0.19"
      },
      {
       "output_type": "stream",
       "stream": "stdout",
       "text": "\n"
      },
      {
       "output_type": "stream",
       "stream": "stdout",
       "text": "Checking if your kit is complete...\nLooks good\n"
      },
      {
       "output_type": "stream",
       "stream": "stdout",
       "text": "Writing Makefile for BTLib\n"
      },
      {
       "output_type": "stream",
       "stream": "stdout",
       "text": "cp EMBLEntry.pm blib/lib/EMBLEntry.pm\ncp FASTAEntry.pm blib/lib/FASTAEntry.pm\ncp GBEntry.pm blib/lib/GBEntry.pm\ncp EPDEntry.pm blib/lib/EPDEntry.pm\ncp UGFile.pm blib/lib/UGFile.pm\ncp EMBLFile.pm blib/lib/EMBLFile.pm\ncp SPFile.pm blib/lib/SPFile.pm\ncp LitRef.pm blib/lib/LitRef.pm\ncp EPDFile.pm blib/lib/EPDFile.pm\ncp GBFile.pm blib/lib/GBFile.pm\ncp BTFile.pm blib/lib/BTFile.pm\ncp FASTAFile.pm blib/lib/FASTAFile.pm\ncp BTLib.pm blib/lib/BTLib.pm\ncp UGEntry.pm blib/lib/UGEntry.pm\ncp SPEntry.pm blib/lib/SPEntry.pm\n"
      },
      {
       "output_type": "stream",
       "stream": "stdout",
       "text": "/usr/bin/perl /usr/share/perl/5.12/ExtUtils/xsubpp  -typemap /usr/share/perl/5.12/ExtUtils/typemap  BTLib.xs > BTLib.xsc && mv BTLib.xsc BTLib.c\n"
      },
      {
       "output_type": "stream",
       "stream": "stdout",
       "text": "cc -c   -D_REENTRANT -D_GNU_SOURCE -DDEBIAN -fno-strict-aliasing -pipe -fstack-protector -I/usr/local/include -D_LARGEFILE_SOURCE -D_FILE_OFFSET_BITS=64 -O2 -g   -DVERSION=\\\"0.19\\\" -DXS_VERSION=\\\"0.19\\\" -fPIC \"-I/usr/lib/perl/5.12/CORE\"   BTLib.c\n"
      },
      {
       "output_type": "stream",
       "stream": "stdout",
       "text": "Running Mkbootstrap for BTLib ()\n"
      },
      {
       "output_type": "stream",
       "stream": "stdout",
       "text": "chmod 644 BTLib.bs\nrm -f blib/arch/auto/BTLib/BTLib.so\ncc  -shared -O2 -g -L/usr/local/lib -fstack-protector BTLib.o  -o blib/arch/auto/BTLib/BTLib.so \t\\\n\t     \t\\\n\t  \nchmod 755 blib/arch/auto/BTLib/BTLib.so\ncp BTLib.bs blib/arch/auto/BTLib/BTLib.bs\nchmod 644 blib/arch/auto/BTLib/BTLib.bs\n"
      },
      {
       "output_type": "stream",
       "stream": "stdout",
       "text": "cp netfetch blib/script/netfetch\n/usr/bin/perl -MExtUtils::MY -e 'MY->fixin(shift)' -- blib/script/netfetch\n"
      },
      {
       "output_type": "stream",
       "stream": "stdout",
       "text": "cp indexer blib/script/indexer\n/usr/bin/perl -MExtUtils::MY -e 'MY->fixin(shift)' -- blib/script/indexer\n"
      },
      {
       "output_type": "stream",
       "stream": "stdout",
       "text": "cp fetch blib/script/fetch\n/usr/bin/perl -MExtUtils::MY -e 'MY->fixin(shift)' -- blib/script/fetch\n"
      },
      {
       "output_type": "stream",
       "stream": "stdout",
       "text": "Manifying blib/man3/BTLib.3pm\n"
      },
      {
       "output_type": "stream",
       "stream": "stdout",
       "text": "Files found in blib/arch: installing files in blib/lib into architecture dependent library tree\n"
      },
      {
       "output_type": "stream",
       "stream": "stdout",
       "text": "Installing /usr/local/lib/perl/5.12.4/auto/BTLib/BTLib.so\nInstalling /usr/local/lib/perl/5.12.4/auto/BTLib/BTLib.bs\nInstalling /usr/local/lib/perl/5.12.4/EMBLEntry.pm\nInstalling /usr/local/lib/perl/5.12.4/LitRef.pm\nInstalling /usr/local/lib/perl/5.12.4/BTLib.pm\nInstalling /usr/local/lib/perl/5.12.4/EPDFile.pm\nInstalling /usr/local/lib/perl/5.12.4/EPDEntry.pm\nInstalling /usr/local/lib/perl/5.12.4/UGFile.pm\nInstalling /usr/local/lib/perl/5.12.4/FASTAFile.pm\nInstalling /usr/local/lib/perl/5.12.4/GBFile.pm\nInstalling /usr/local/lib/perl/5.12.4/BTFile.pm\nInstalling /usr/local/lib/perl/5.12.4/SPFile.pm\nInstalling /usr/local/lib/perl/5.12.4/UGEntry.pm\nInstalling /usr/local/lib/perl/5.12.4/FASTAEntry.pm\nInstalling /usr/local/lib/perl/5.12.4/SPEntry.pm\nInstalling /usr/local/lib/perl/5.12.4/EMBLFile.pm\nInstalling /usr/local/lib/perl/5.12.4/GBEntry.pm\nInstalling /usr/local/man/man3/BTLib.3pm\nInstalling /usr/local/bin/indexer\nInstalling /usr/local/bin/netfetch\nInstalling /usr/local/bin/fetch\nAppending installation info to /usr/local/lib/perl/5.12.4/perllocal.pod\n"
      }
     ],
     "prompt_number": 15
    },
    {
     "cell_type": "code",
     "input": "%cd ~\n!wget http://sourceforge.net/projects/estscan/files/ESTScan2/2.1/ESTScan2-2.1.tar.gz/download -O estscan2.tar.gz",
     "language": "python",
     "outputs": [
      {
       "output_type": "stream",
       "stream": "stdout",
       "text": "/root"
      },
      {
       "output_type": "stream",
       "stream": "stdout",
       "text": "\n--2012-06-12 14:01:17--  http://sourceforge.net/projects/estscan/files/ESTScan2/2.1/ESTScan2-2.1.tar.gz/download\nResolving sourceforge.net... 216.34.181.60\nConnecting to sourceforge.net|216.34.181.60|:80... connected.\nHTTP request sent, awaiting response... "
      },
      {
       "output_type": "stream",
       "stream": "stdout",
       "text": "302 Found\nLocation: http://downloads.sourceforge.net/project/estscan/ESTScan2/2.1/ESTScan2-2.1.tar.gz?r=&ts=1339509677&use_mirror=voxel [following]\n--2012-06-12 14:01:17--  http://downloads.sourceforge.net/project/estscan/ESTScan2/2.1/ESTScan2-2.1.tar.gz?r=&ts=1339509677&use_mirror=voxel\nResolving downloads.sourceforge.net... 216.34.181.59\nConnecting to downloads.sourceforge.net|216.34.181.59|:80... connected.\nHTTP request sent, awaiting response... "
      },
      {
       "output_type": "stream",
       "stream": "stdout",
       "text": "302 Found\nLocation: http://voxel.dl.sourceforge.net/project/estscan/ESTScan2/2.1/ESTScan2-2.1.tar.gz [following]\n--2012-06-12 14:01:17--  http://voxel.dl.sourceforge.net/project/estscan/ESTScan2/2.1/ESTScan2-2.1.tar.gz\nResolving voxel.dl.sourceforge.net... "
      },
      {
       "output_type": "stream",
       "stream": "stdout",
       "text": "69.9.191.19, 74.63.52.166, 74.63.52.168\nConnecting to voxel.dl.sourceforge.net|69.9.191.19|:80... connected.\nHTTP request sent, awaiting response... 200 OK\nLength: 82721 (81K) [application/x-gzip]\nSaving to: `estscan2.tar.gz'\n\n\n 0% [                                       ] 0           --.-K/s              "
      },
      {
       "output_type": "stream",
       "stream": "stdout",
       "text": "\n100%[======================================>] 82,721      --.-K/s   in 0.02s   \n\n2012-06-12 14:01:17 (5.13 MB/s) - `estscan2.tar.gz' saved [82721/82721]\n\n"
      }
     ],
     "prompt_number": 16
    },
    {
     "cell_type": "code",
     "input": "!tar xvfz estscan2.tar.gz",
     "language": "python",
     "outputs": [
      {
       "output_type": "stream",
       "stream": "stdout",
       "text": "ESTScan2-2.1/\nESTScan2-2.1/COPYRIGHT\nESTScan2-2.1/ESTScan\nESTScan2-2.1/ESTScan.pm\nESTScan2-2.1/ESTScan.xs\nESTScan2-2.1/ESTScan2.spec\nESTScan2-2.1/Hs.smat\nESTScan2-2.1/MANIFEST\nESTScan2-2.1/Makefile.PL\nESTScan2-2.1/README\nESTScan2-2.1/estscan_.c\nESTScan2-2.1/estscan_.h\nESTScan2-2.1/test.pl\n"
      }
     ],
     "prompt_number": 17
    },
    {
     "cell_type": "code",
     "input": "%cd ESTScan2-2.1/",
     "language": "python",
     "outputs": [
      {
       "output_type": "stream",
       "stream": "stdout",
       "text": "/root/ESTScan2-2.1\n"
      }
     ],
     "prompt_number": 18
    },
    {
     "cell_type": "code",
     "input": "!ls",
     "language": "python",
     "outputs": [
      {
       "output_type": "stream",
       "stream": "stdout",
       "text": "COPYRIGHT  ESTScan2.spec  estscan_.h  ESTScan.xs  Makefile.PL  README\nESTScan    estscan_.c\t  ESTScan.pm  Hs.smat\t  MANIFEST     test.pl\n"
      }
     ],
     "prompt_number": 19
    },
    {
     "cell_type": "code",
     "input": "!perl Makefile.PL",
     "language": "python",
     "outputs": [
      {
       "output_type": "stream",
       "stream": "stdout",
       "text": "Checking if your kit is complete...\n"
      },
      {
       "output_type": "stream",
       "stream": "stdout",
       "text": "Looks good\nWriting Makefile for ESTScan\n"
      }
     ],
     "prompt_number": 20
    },
    {
     "cell_type": "code",
     "input": "!make install",
     "language": "python",
     "outputs": [
      {
       "output_type": "stream",
       "stream": "stdout",
       "text": "cp ESTScan.pm blib/lib/ESTScan.pm\n/usr/bin/perl /usr/share/perl/5.12/ExtUtils/xsubpp  -typemap /usr/share/perl/5.12/ExtUtils/typemap  ESTScan.xs > ESTScan.xsc && mv ESTScan.xsc ESTScan.c\n"
      },
      {
       "output_type": "stream",
       "stream": "stdout",
       "text": "cc -c   -D_REENTRANT -D_GNU_SOURCE -DDEBIAN -fno-strict-aliasing -pipe -fstack-protector -I/usr/local/include -D_LARGEFILE_SOURCE -D_FILE_OFFSET_BITS=64 -O2 -g   -DVERSION=\\\"2.1\\\" -DXS_VERSION=\\\"2.1\\\" -fPIC \"-I/usr/lib/perl/5.12/CORE\"   ESTScan.c\n"
      },
      {
       "output_type": "stream",
       "stream": "stdout",
       "text": "cc -c   -D_REENTRANT -D_GNU_SOURCE -DDEBIAN -fno-strict-aliasing -pipe -fstack-protector -I/usr/local/include -D_LARGEFILE_SOURCE -D_FILE_OFFSET_BITS=64 -O2 -g   -DVERSION=\\\"2.1\\\" -DXS_VERSION=\\\"2.1\\\" -fPIC \"-I/usr/lib/perl/5.12/CORE\"   estscan_.c\n"
      },
      {
       "output_type": "stream",
       "stream": "stdout",
       "text": "Running Mkbootstrap for ESTScan ()\nchmod 644 ESTScan.bs\nrm -f blib/arch/auto/ESTScan/ESTScan.so\ncc  -shared -O2 -g -L/usr/local/lib -fstack-protector ESTScan.o estscan_.o  -o blib/arch/auto/ESTScan/ESTScan.so \t\\\n\t     \t\\\n\t  \n"
      },
      {
       "output_type": "stream",
       "stream": "stdout",
       "text": "chmod 755 blib/arch/auto/ESTScan/ESTScan.so\ncp ESTScan.bs blib/arch/auto/ESTScan/ESTScan.bs\nchmod 644 blib/arch/auto/ESTScan/ESTScan.bs\n"
      },
      {
       "output_type": "stream",
       "stream": "stdout",
       "text": "touch ESTScan\ncp ESTScan blib/script/ESTScan\n/usr/bin/perl -MExtUtils::MY -e 'MY->fixin(shift)' -- blib/script/ESTScan\n"
      },
      {
       "output_type": "stream",
       "stream": "stdout",
       "text": "Manifying blib/man3/ESTScan.3pm\n"
      },
      {
       "output_type": "stream",
       "stream": "stdout",
       "text": "Files found in blib/arch: installing files in blib/lib into architecture dependent library tree\nInstalling /usr/local/lib/perl/5.12.4/auto/ESTScan/ESTScan.bs\nInstalling /usr/local/lib/perl/5.12.4/auto/ESTScan/ESTScan.so\nInstalling /usr/local/lib/perl/5.12.4/ESTScan.pm\nInstalling /usr/local/man/man3/ESTScan.3pm\nInstalling /usr/local/bin/ESTScan\nAppending installation info to /usr/local/lib/perl/5.12.4/perllocal.pod\n"
      }
     ],
     "prompt_number": 21
    },
    {
     "cell_type": "code",
     "input": "!cp ESTScan /usr/local/bin",
     "language": "python",
     "outputs": [],
     "prompt_number": 22
    },
    {
     "cell_type": "markdown",
     "source": "After finishing installation, we are going to back sample data directory."
    },
    {
     "cell_type": "code",
     "input": "%cd ~/gimme/sample_data/",
     "language": "python",
     "outputs": [
      {
       "output_type": "stream",
       "stream": "stdout",
       "text": "/root/gimme/sample_data"
      },
      {
       "output_type": "stream",
       "stream": "stdout",
       "text": "\n"
      }
     ],
     "prompt_number": 23
    },
    {
     "cell_type": "markdown",
     "source": "You can run ESTScan without any input file to see all options."
    },
    {
     "cell_type": "code",
     "input": "!ESTScan",
     "language": "python",
     "outputs": [
      {
       "output_type": "stream",
       "stream": "stdout",
       "text": "This is ESTScan 2.1 (December 2006)\nCopyright (c) 1999, 2000, 2001, 2006 by the Swiss Institute of Bioinformatics.\nAll rights reserved.  See the file COPYRIGHT for details.\n\nUsage: ESTScan [options] <file> ...\n  where options are:\n   -m <int>     min value in matrix [-100]\n   -d <int>     deletion penalty [-50]\n   -i <int>     insertion penalty [-50]\n   -T <int*>    8 integers used as log-probabilities for transitions,\n                start->5'UTR, start->CDS, start->3'UTR, 5'UTR->CDS,\n                5'UTR->end, CDS->3'UTR, CDS->end, 3'UTR->end\n                (-10,-10,-5,-80,-40,-80,-40,-20)\n   -M <file>    score matrices file ($ESTSCANDIR/Hs.smat)\n                [/usr/molbio/share/ESTScan/Hs.smat]\n   -p <float>   GC select correction for score matrices [4]\n   -N <int>     how to compute the score of N [0]\n   -w <int>     width of the FASTA sequence output [60]\n   -a           All in one sequence output [0]\n   -O           report header information for best match only [0]\n   -S           only analyze positive strand [0]\n   -b <float>   only results are shown, which have scores higher than this \n                fraction of the best score [1].\n   -l <int>     only results longer than this length are shown (50)\n   -n           remove deleted nucleotides from the output (0)\n   -t <file>    Translate to protein.  - means stdout.\n                will go to the file and the nucleotides will still go to stdout.\n   -o <file>    send output to file.  - means stdout.  If both -t and -o specify\n                stdout, only proteins will be written.\n   -s <int>     Skip sequences shorter than length [1]\n   -ft <file>   creates separate file containing information about frameshift\n                positions etc from ESTScan.\n   -cpat <str>  RE pattern to determine chromosome name from the current\n                input file name, used in the ft file [chrom(\\w+)_r\\.seq]\n   -chrom <str> chromosome name, used in the ft file (overrides -cpat)\n   -sp <str>    species name, used in the ft file\n   -v           version information\n\nESTScan returns results (coding sequences) in FASTA format adding the\nscore as well as the positions of predicted start and stop sites to\nthe header. These values are added in the cited order after the name\nof the coding sequence.\n"
      }
     ],
     "prompt_number": 24
    },
    {
     "cell_type": "markdown",
     "source": "For this sample data, we will use -t to save translated protein sequences to a file and redirect cDNA sequences to another file. ESTScan also requires an HMM matrices specific for each organism. I have created one for chicken using reference sequences from Genbank and etc. An instruction for building matrices for your own organism is available in ESTScan manual."
    },
    {
     "cell_type": "code",
     "input": "!ESTScan -M chick.smat -t sample.proteins.fa sample.fa > sample.cdna.fa",
     "language": "python",
     "outputs": [
      {
       "output_type": "stream",
       "stream": "stdout",
       "text": "Junk in FASTA file: DEBUG seqdb._create_seqLenDict: Building sequence length index...\n"
      }
     ],
     "prompt_number": 25
    },
    {
     "cell_type": "code",
     "input": "!head sample.proteins.fa",
     "language": "python",
     "outputs": [
      {
       "output_type": "stream",
       "stream": "stdout",
       "text": ">chr25:1.1 253 1 515 ; translated\nRRGGTIETDDQMGGIPARNAKGERLLLYVGIIDVLQSYRFVKKLEHSWKALVHDGDTVSV\nHRPSFYAERFQRFMCNTVFKKIPLKPSPSKKSRSGTAVPRRSCQGGVPSQLHVLCETKAQ\nVTTEADVEQGSHLGRPDLLPRTLPVDEANSDSVATTLSTSSLGSGGLHSPAX\n>chr25:2.1; 333 1 903  minus strand; translated\nXCGSYMNRAHSTMLWGRPDTFWCLLLTSFLQQASRVCAGDSTDVFGTEGKSATFHLQNLI\nGEYLTWSFHGEPILVIRLGARPELVFSDKSFTSRVTFSNNGSSLTILQLTRSDAGTYLAK\nSDEVKVNFTLHVYRELPEPMVICTGWNCSAESCRYELQCAVDPPGDNYLYWSYNNHPVNE\nGSEWVVERQHTEDPVPVPYTCTAQNPVSKRNTTVFPFALCAESTASIPADGAGAAAESMT\nVYAEVGANQQGTEGDPKKLPASGVEISKTIYATVQDMTHLRTDDEKMSSRMPGYCEQETT\n"
      }
     ],
     "prompt_number": 26
    },
    {
     "cell_type": "heading",
     "level": 3,
     "source": "Incorporating predicted ORFs and strand to gene models"
    },
    {
     "cell_type": "code",
     "input": "%cd ~/gimme/sample_data/\n!ls",
     "language": "python",
     "outputs": [
      {
       "output_type": "stream",
       "stream": "stdout",
       "text": "/root/gimme/sample_data"
      },
      {
       "output_type": "stream",
       "stream": "stdout",
       "text": "\nchick.smat  chr25.fa.pureseq  sample.bed      sample.fa\t\t  sample.psl\nchr25.fa    chr25.fa.seqlen   sample.cdna.fa  sample.proteins.fa\n"
      }
     ],
     "prompt_number": 27
    },
    {
     "cell_type": "code",
     "input": "!python /root/gimme/src/utils/assignCDS.py sample.proteins.fa sample.bed > sample.cds.bed",
     "language": "python",
     "outputs": [
      {
       "output_type": "stream",
       "stream": "stdout",
       "text": "Parsing FASTA file...\n"
      }
     ],
     "prompt_number": 28
    },
    {
     "cell_type": "code",
     "input": "!head -5 sample.cds.bed",
     "language": "python",
     "outputs": [
      {
       "output_type": "stream",
       "stream": "stdout",
       "text": "chr25\t1861843\t1864446\tchr25:1.1\t1000\t+\t1861843\t1864445\t0,0,0\t6\t32,84,49,85,138,127\t0,947,1439,1707,2080,2476\n\nchr25\t1370198\t1375837\tchr25:2.1\t1000\t-\t1371073\t1375837\t0,0,0\t8\t882,58,88,57,29,264,294,105\t0,1307,1535,1959,3285,3471,3817,5534\n\nchr25\t1370198\t1375837\tchr25:2.2\t1000\t-\t1371073\t1375837\t0,0,0\t9\t882,58,88,57,29,264,294,206,105\t0,1307,1535,1959,3285,3471,3817,4906,5534\n\nchr25\t1370198\t1375837\tchr25:2.3\t1000\t-\t1371073\t1375837\t0,0,0\t7\t882,58,88,57,266,294,105\t0,1307,1535,1959,3469,3817,5534\n\nchr25\t1370198\t1375837\tchr25:2.4\t1000\t-\t1371073\t1375837\t0,0,0\t8\t882,58,88,57,266,294,206,105\t0,1307,1535,1959,3469,3817,4906,5534\n\n"
      }
     ],
     "prompt_number": 29
    },
    {
     "cell_type": "markdown",
     "source": "Now you should have gene models with a coding region. You can visualize the gene models on UCSC genome browser or IGV."
    },
    {
     "cell_type": "code",
     "input": "",
     "language": "python",
     "outputs": []
    }
   ]
  }
 ]
}