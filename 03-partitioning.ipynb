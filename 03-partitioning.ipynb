{
 "metadata": {
  "name": "03-partitioning"
 },
 "nbformat": 3,
 "nbformat_minor": 0,
 "worksheets": [
  {
   "cells": [
    {
     "cell_type": "code",
     "collapsed": false,
     "input": [
      "# Change what's inside the quotes into your MBL STAMPS server username, or something else unique\n",
      "# reminder! hit shift-ENTER to execute cell & move onto next cell\n",
      "username=\"CHANGEME\""
     ],
     "language": "python",
     "metadata": {},
     "outputs": []
    },
    {
     "cell_type": "code",
     "collapsed": false,
     "input": [
      "# configure paths etc.\n",
      "import sys\n",
      "import os\n",
      "os.environ['PYTHONPATH'] = '/usr/local/share/khmer/python'\n",
      "sys.path.insert(0, '/usr/local/share/khmer/python')\n",
      "\n",
      "import khmer\n",
      "import screed"
     ],
     "language": "python",
     "metadata": {},
     "outputs": []
    },
    {
     "cell_type": "code",
     "collapsed": false,
     "input": [
      "cd /mnt"
     ],
     "language": "python",
     "metadata": {},
     "outputs": []
    },
    {
     "cell_type": "code",
     "collapsed": false,
     "input": [
      "mkdir -p $username"
     ],
     "language": "python",
     "metadata": {},
     "outputs": []
    },
    {
     "cell_type": "code",
     "collapsed": false,
     "input": [
      "cd $username"
     ],
     "language": "python",
     "metadata": {},
     "outputs": []
    },
    {
     "cell_type": "markdown",
     "metadata": {},
     "source": [
      "You should now be in '/mnt/USERNAME', where USERNAME is *not* CHANGEME"
     ]
    },
    {
     "cell_type": "markdown",
     "metadata": {},
     "source": [
      "## Make two random genomes with a 10:1 abundance"
     ]
    },
    {
     "cell_type": "code",
     "collapsed": false,
     "input": [
      "import random\n",
      "random.seed(1)\n",
      "\n",
      "x = [\"A\"] + [\"G\"] + [\"C\"] + [\"T\"]\n",
      "x = x*1000\n",
      "random.shuffle(x)\n",
      "x = \"\".join(x)\n",
      "\n",
      "y = [\"A\"] + [\"G\"] + [\"C\"] + [\"T\"]\n",
      "y = y*1000\n",
      "random.shuffle(y)\n",
      "y = \"\".join(y)\n",
      "\n",
      "print 'x is', x[:100]\n",
      "print 'y is', y[:100]"
     ],
     "language": "python",
     "metadata": {},
     "outputs": []
    },
    {
     "cell_type": "code",
     "collapsed": false,
     "input": [
      "outfp = open('metagenome.fa', 'w')\n",
      "print >>outfp, \">x 1\"\n",
      "print >>outfp, x\n",
      "print >>outfp, \">y 2\"\n",
      "print >>outfp, y\n",
      "outfp.close()"
     ],
     "language": "python",
     "metadata": {},
     "outputs": []
    },
    {
     "cell_type": "code",
     "collapsed": false,
     "input": [
      "!python /usr/local/share/2012-paper-diginorm/pipeline/make-biased-reads.py metagenome.fa | head -100000 > reads.fa"
     ],
     "language": "python",
     "metadata": {},
     "outputs": []
    },
    {
     "cell_type": "markdown",
     "metadata": {},
     "source": [
      "(Yes, you should see an error.)\n",
      "\n",
      "## Now, run partitioning."
     ]
    },
    {
     "cell_type": "code",
     "collapsed": false,
     "input": [
      "!/usr/local/share/khmer/scripts/do-partition.py -k 32 -x 1e8 reads reads.fa"
     ],
     "language": "python",
     "metadata": {},
     "outputs": []
    },
    {
     "cell_type": "code",
     "collapsed": false,
     "input": [
      "# extract partitions\n",
      "!/usr/local/share/khmer/scripts/extract-partitions.py -X 5 reads reads.fa.part"
     ],
     "language": "python",
     "metadata": {},
     "outputs": []
    },
    {
     "cell_type": "code",
     "collapsed": false,
     "input": [
      "ls"
     ],
     "language": "python",
     "metadata": {},
     "outputs": []
    },
    {
     "cell_type": "code",
     "collapsed": false,
     "input": [
      "# calculate abundance histograms for these suckers\n",
      "!/usr/local/share/khmer/scripts/abundance-dist-single.py -x 1e8 reads.group0000.fa group0.hist\n",
      "!/usr/local/share/khmer/scripts/abundance-dist-single.py -x 1e8 reads.group0001.fa group1.hist\n"
     ],
     "language": "python",
     "metadata": {},
     "outputs": []
    },
    {
     "cell_type": "code",
     "collapsed": false,
     "input": [
      "hist0 = numpy.loadtxt('group0.hist')\n",
      "hist1 = numpy.loadtxt('group1.hist')"
     ],
     "language": "python",
     "metadata": {},
     "outputs": []
    },
    {
     "cell_type": "code",
     "collapsed": false,
     "input": [
      "plot(hist0[:,0], hist0[:,1], label='group0')\n",
      "plot(hist1[:,0], hist1[:,1], label='group1')\n",
      "\n",
      "xlabel(\"k-mer abundance\")\n",
      "ylabel(\"N of k-mers with that abundance\")\n",
      "axis(ymax=500)\n",
      "legend()"
     ],
     "language": "python",
     "metadata": {},
     "outputs": []
    },
    {
     "cell_type": "code",
     "collapsed": false,
     "input": [],
     "language": "python",
     "metadata": {},
     "outputs": []
    }
   ],
   "metadata": {}
  }
 ]
}