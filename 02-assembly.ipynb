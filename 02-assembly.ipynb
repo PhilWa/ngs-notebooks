{
 "metadata": {
  "name": "assembly"
 },
 "nbformat": 3,
 "nbformat_minor": 0,
 "worksheets": [
  {
   "cells": [
    {
     "cell_type": "code",
     "collapsed": false,
     "input": [
      "# Change what's inside the quotes into your MBL STAMPS server username, or something else unique\n",
      "# reminder! hit shift-ENTER to execute cell & move onto next cell\n",
      "username=\"CHANGEME\""
     ],
     "language": "python",
     "metadata": {},
     "outputs": [],
     "prompt_number": 1
    },
    {
     "cell_type": "code",
     "collapsed": false,
     "input": [
      "cd /mnt"
     ],
     "language": "python",
     "metadata": {},
     "outputs": [
      {
       "output_type": "stream",
       "stream": "stdout",
       "text": [
        "/mnt\n"
       ]
      }
     ],
     "prompt_number": 2
    },
    {
     "cell_type": "code",
     "collapsed": false,
     "input": [
      "mkdir -p $username"
     ],
     "language": "python",
     "metadata": {},
     "outputs": [
      {
       "output_type": "stream",
       "stream": "stdout",
       "text": [
        "mkdir: cannot create directory `CHANGEME': File exists\r\n"
       ]
      }
     ],
     "prompt_number": 3
    },
    {
     "cell_type": "code",
     "collapsed": false,
     "input": [
      "cd $username"
     ],
     "language": "python",
     "metadata": {},
     "outputs": [
      {
       "output_type": "stream",
       "stream": "stdout",
       "text": [
        "/mnt/CHANGEME\n"
       ]
      }
     ],
     "prompt_number": 4
    },
    {
     "cell_type": "code",
     "collapsed": false,
     "input": [
      "# get a small E. coli data set\n",
      "!curl -O http://public.ged.msu.edu.s3.amazonaws.com/ecoli-500k.fq.gz"
     ],
     "language": "python",
     "metadata": {},
     "outputs": [
      {
       "output_type": "stream",
       "stream": "stdout",
       "text": [
        "  % Total    % Received % Xferd  Average Speed   Time    Time     Time  Current\r\n",
        "                                 Dload  Upload   Total   Spent    Left  Speed\r\n",
        "\r",
        "  0     0    0     0    0     0      0      0 --:--:-- --:--:-- --:--:--     0"
       ]
      },
      {
       "output_type": "stream",
       "stream": "stdout",
       "text": [
        "\r",
        "  9 40.8M    9 3926k    0     0  17.1M      0  0:00:02 --:--:--  0:00:02 17.4M"
       ]
      },
      {
       "output_type": "stream",
       "stream": "stdout",
       "text": [
        "\r",
        "100 40.8M  100 40.8M    0     0  37.7M      0  0:00:01  0:00:01 --:--:-- 37.9M\r\n"
       ]
      }
     ],
     "prompt_number": 5
    },
    {
     "cell_type": "code",
     "collapsed": false,
     "input": [
      "!velveth k.31 31 -short -fastq.gz ecoli-500k.fq.gz"
     ],
     "language": "python",
     "metadata": {},
     "outputs": [
      {
       "output_type": "stream",
       "stream": "stdout",
       "text": [
        "[0.000000] Reading FastQ file ecoli-500k.fq.gz;\r\n"
       ]
      },
      {
       "output_type": "stream",
       "stream": "stdout",
       "text": [
        "[4.069341] 500000 sequences found\r\n",
        "[4.069379] Done\r\n"
       ]
      },
      {
       "output_type": "stream",
       "stream": "stdout",
       "text": [
        "[4.268264] Reading read set file k.31/Sequences;\r\n"
       ]
      },
      {
       "output_type": "stream",
       "stream": "stdout",
       "text": [
        "[4.483652] 500000 sequences found\r\n"
       ]
      },
      {
       "output_type": "stream",
       "stream": "stdout",
       "text": [
        "[5.476888] Done\r\n",
        "[5.476934] 500000 sequences in total.\r\n",
        "[5.483106] Writing into roadmap file k.31/Roadmaps...\r\n"
       ]
      },
      {
       "output_type": "stream",
       "stream": "stdout",
       "text": [
        "[6.097592] Inputting sequences...\r\n",
        "[6.112510] Inputting sequence 0 / 500000\r\n"
       ]
      },
      {
       "output_type": "stream",
       "stream": "stdout",
       "text": [
        "[55.859540]  === Sequences loaded in 49.761966 s\r\n",
        "[55.859733] Done inputting sequences\r\n",
        "[55.859753] Destroying splay table\r\n"
       ]
      },
      {
       "output_type": "stream",
       "stream": "stdout",
       "text": [
        "[56.057223] Splay table destroyed\r\n"
       ]
      }
     ],
     "prompt_number": 6
    },
    {
     "cell_type": "code",
     "collapsed": false,
     "input": [
      "!velvetg k.31 -exp_cov auto"
     ],
     "language": "python",
     "metadata": {},
     "outputs": [
      {
       "output_type": "stream",
       "stream": "stdout",
       "text": [
        "[0.000001] Reading roadmap file k.31/Roadmaps\r\n"
       ]
      },
      {
       "output_type": "stream",
       "stream": "stdout",
       "text": [
        "[1.616374] 500000 roadmaps read\r\n",
        "[1.619179] Creating insertion markers\r\n"
       ]
      },
      {
       "output_type": "stream",
       "stream": "stdout",
       "text": [
        "[1.915542] Ordering insertion markers\r\n"
       ]
      },
      {
       "output_type": "stream",
       "stream": "stdout",
       "text": [
        "[2.197360] Counting preNodes\r\n"
       ]
      },
      {
       "output_type": "stream",
       "stream": "stdout",
       "text": [
        "[2.356534] 963682 preNodes counted, creating them now\r\n"
       ]
      },
      {
       "output_type": "stream",
       "stream": "stdout",
       "text": [
        "[5.541818] Adjusting marker info...\r\n"
       ]
      },
      {
       "output_type": "stream",
       "stream": "stdout",
       "text": [
        "[5.698421] Connecting preNodes\r\n"
       ]
      },
      {
       "output_type": "stream",
       "stream": "stdout",
       "text": [
        "[6.496145] Cleaning up memory\r\n",
        "[6.503573] Done creating preGraph\r\n",
        "[6.503613] Concatenation...\r\n"
       ]
      },
      {
       "output_type": "stream",
       "stream": "stdout",
       "text": [
        "[7.154593] Renumbering preNodes\r\n",
        "[7.154662] Initial preNode count 963682\r\n",
        "[7.187705] Destroyed 847030 preNodes\r\n",
        "[7.187769] Concatenation over!\r\n",
        "[7.187784] Clipping short tips off preGraph\r\n"
       ]
      },
      {
       "output_type": "stream",
       "stream": "stdout",
       "text": [
        "[7.284335] Concatenation...\r\n"
       ]
      },
      {
       "output_type": "stream",
       "stream": "stdout",
       "text": [
        "[7.424245] Renumbering preNodes\r\n",
        "[7.424489] Initial preNode count 116652\r\n"
       ]
      },
      {
       "output_type": "stream",
       "stream": "stdout",
       "text": [
        "[7.500170] Destroyed 40613 preNodes\r\n",
        "[7.500420] Concatenation over!\r\n",
        "[7.500438] 20554 tips cut off\r\n",
        "[7.500451] 76039 nodes left\r\n",
        "[7.500533] Writing into pregraph file k.31/PreGraph...\r\n"
       ]
      },
      {
       "output_type": "stream",
       "stream": "stdout",
       "text": [
        "[8.419802] Reading read set file k.31/Sequences;\r\n"
       ]
      },
      {
       "output_type": "stream",
       "stream": "stdout",
       "text": [
        "[8.631457] 500000 sequences found\r\n"
       ]
      },
      {
       "output_type": "stream",
       "stream": "stdout",
       "text": [
        "[9.613768] Done\r\n"
       ]
      },
      {
       "output_type": "stream",
       "stream": "stdout",
       "text": [
        "[10.220623] Reading pre-graph file k.31/PreGraph\r\n",
        "[10.220870] Graph has 76039 nodes and 500000 sequences\r\n"
       ]
      },
      {
       "output_type": "stream",
       "stream": "stdout",
       "text": [
        "[10.683820] Scanning pre-graph file k.31/PreGraph for k-mers\r\n"
       ]
      },
      {
       "output_type": "stream",
       "stream": "stdout",
       "text": [
        "[10.925013] 5289776 kmers found\r\n"
       ]
      },
      {
       "output_type": "stream",
       "stream": "stdout",
       "text": [
        "[11.765411] Sorting kmer occurence table ... \r\n"
       ]
      },
      {
       "output_type": "stream",
       "stream": "stdout",
       "text": [
        "[15.942495] Sorting done.\r\n",
        "[15.942547] Computing acceleration table... \r\n"
       ]
      },
      {
       "output_type": "stream",
       "stream": "stdout",
       "text": [
        "[16.272995] Computing offsets... \r\n"
       ]
      },
      {
       "output_type": "stream",
       "stream": "stdout",
       "text": [
        "[16.317274] Ghost Threading through reads 0 / 500000\r\n"
       ]
      },
      {
       "output_type": "stream",
       "stream": "stdout",
       "text": [
        "[26.043235]  === Ghost-Threaded in 9.726299 s\r\n",
        "[26.043331] Threading through reads 0 / 500000\r\n"
       ]
      },
      {
       "output_type": "stream",
       "stream": "stdout",
       "text": [
        "[36.589290]  === Threaded in 10.545980 s\r\n"
       ]
      },
      {
       "output_type": "stream",
       "stream": "stdout",
       "text": [
        "[36.758596] Correcting graph with cutoff 0.200000\r\n",
        "[36.764111] Determining eligible starting points\r\n"
       ]
      },
      {
       "output_type": "stream",
       "stream": "stdout",
       "text": [
        "[36.951321] Done listing starting nodes\r\n",
        "[36.951381] Initializing todo lists\r\n"
       ]
      },
      {
       "output_type": "stream",
       "stream": "stdout",
       "text": [
        "[36.980292] Done with initilization\r\n",
        "[36.980555] Activating arc lookup table\r\n"
       ]
      },
      {
       "output_type": "stream",
       "stream": "stdout",
       "text": [
        "[37.105083] Done activating arc lookup table\r\n"
       ]
      },
      {
       "output_type": "stream",
       "stream": "stdout",
       "text": [
        "[37.314470] 10000 / 76039 nodes visited\r\n"
       ]
      },
      {
       "output_type": "stream",
       "stream": "stdout",
       "text": [
        "[37.580561] 20000 / 76039 nodes visited\r\n"
       ]
      },
      {
       "output_type": "stream",
       "stream": "stdout",
       "text": [
        "[37.930400] 30000 / 76039 nodes visited\r\n"
       ]
      },
      {
       "output_type": "stream",
       "stream": "stdout",
       "text": [
        "[38.177996] 40000 / 76039 nodes visited\r\n"
       ]
      },
      {
       "output_type": "stream",
       "stream": "stdout",
       "text": [
        "[38.416655] 50000 / 76039 nodes visited\r\n"
       ]
      },
      {
       "output_type": "stream",
       "stream": "stdout",
       "text": [
        "[38.705646] 60000 / 76039 nodes visited\r\n"
       ]
      },
      {
       "output_type": "stream",
       "stream": "stdout",
       "text": [
        "[38.846620] 70000 / 76039 nodes visited\r\n"
       ]
      },
      {
       "output_type": "stream",
       "stream": "stdout",
       "text": [
        "[38.948188] Concatenation...\r\n",
        "[38.952225] Renumbering nodes\r\n",
        "[38.952287] Initial node count 76039\r\n",
        "[38.954147] Removed 60123 null nodes\r\n",
        "[38.954215] Concatenation over!\r\n",
        "[38.954229] Clipping short tips off graph, drastic\r\n",
        "[38.961144] Concatenation...\r\n"
       ]
      },
      {
       "output_type": "stream",
       "stream": "stdout",
       "text": [
        "[39.004904] Renumbering nodes\r\n",
        "[39.004981] Initial node count 15916\r\n",
        "[39.006151] Removed 4252 null nodes\r\n",
        "[39.006187] Concatenation over!\r\n",
        "[39.006216] 11664 nodes left\r\n",
        "[39.006314] Writing into graph file k.31/Graph2...\r\n"
       ]
      },
      {
       "output_type": "stream",
       "stream": "stdout",
       "text": [
        "[40.398103] Measuring median coverage depth...\r\n",
        "[40.404214] Median coverage depth = 6.684325\r\n",
        "[40.404405] Removing contigs with coverage < 3.342162...\r\n",
        "[40.409395] Concatenation...\r\n"
       ]
      },
      {
       "output_type": "stream",
       "stream": "stdout",
       "text": [
        "[40.503582] Renumbering nodes\r\n",
        "[40.503727] Initial node count 11664\r\n",
        "[40.504116] Removed 8967 null nodes\r\n",
        "[40.504141] Concatenation over!\r\n",
        "[40.504270] Concatenation...\r\n",
        "[40.504477] Renumbering nodes\r\n",
        "[40.504496] Initial node count 2697\r\n",
        "[40.504514] Removed 0 null nodes\r\n",
        "[40.504527] Concatenation over!\r\n",
        "[40.504540] Clipping short tips off graph, drastic\r\n",
        "[40.505090] Concatenation...\r\n",
        "[40.505564] Renumbering nodes\r\n",
        "[40.505591] Initial node count 2697\r\n",
        "[40.505717] Removed 119 null nodes\r\n",
        "[40.505736] Concatenation over!\r\n",
        "[40.505749] 2578 nodes left\r\n",
        "[40.505763] Read coherency...\r\n",
        "[40.505863] Identifying unique nodes\r\n",
        "[40.505982] Done, 1829 unique nodes counted\r\n",
        "[40.506005] Trimming read tips\r\n",
        "[40.506168] Renumbering nodes\r\n",
        "[40.506187] Initial node count 2578\r\n",
        "[40.506205] Removed 0 null nodes\r\n",
        "[40.506219] Confronted to 0 multiple hits and 0 null over 0\r\n",
        "[40.506232] Read coherency over!\r\n",
        "[40.508914] Starting pebble resolution...\r\n",
        "[40.513490] Computing read to node mapping array sizes\r\n"
       ]
      },
      {
       "output_type": "stream",
       "stream": "stdout",
       "text": [
        "[40.540875] Computing read to node mappings\r\n"
       ]
      },
      {
       "output_type": "stream",
       "stream": "stdout",
       "text": [
        "[40.678131] Estimating library insert lengths...\r\n",
        "[40.682042] Done\r\n",
        "[40.682100] Computing direct node to node mappings\r\n",
        "[40.703919] Scaffolding node 0\r\n",
        "[40.704882]  === Nodes Scaffolded in 0.022765 s\r\n",
        "[40.712154] Preparing to correct graph with cutoff 0.200000\r\n"
       ]
      },
      {
       "output_type": "stream",
       "stream": "stdout",
       "text": [
        "[40.736251] Cleaning memory\r\n",
        "[40.736308] Deactivating local correction settings\r\n",
        "[40.736367] Pebble done.\r\n",
        "[40.736386] Concatenation...\r\n",
        "[40.739241] Renumbering nodes\r\n",
        "[40.739270] Initial node count 2578\r\n",
        "[40.739402] Removed 251 null nodes\r\n",
        "[40.739450] Concatenation over!\r\n",
        "[40.739468] Removing reference contigs with coverage < 3.342162...\r\n",
        "[40.739618] Concatenation...\r\n",
        "[40.739737] Renumbering nodes\r\n",
        "[40.739755] Initial node count 2327\r\n",
        "[40.739773] Removed 0 null nodes\r\n",
        "[40.739813] Concatenation over!\r\n",
        "[40.744302] Writing contigs into k.31/contigs.fa...\r\n"
       ]
      },
      {
       "output_type": "stream",
       "stream": "stdout",
       "text": [
        "[41.606408] Writing into stats file k.31/stats.txt...\r\n"
       ]
      },
      {
       "output_type": "stream",
       "stream": "stdout",
       "text": [
        "[41.683751] Writing into graph file k.31/LastGraph...\r\n"
       ]
      },
      {
       "output_type": "stream",
       "stream": "stdout",
       "text": [
        "[42.941745] Estimated Coverage = 6.684325\r\n",
        "[42.941901] Estimated Coverage cutoff = 3.342162\r\n",
        "Final graph has 2327 nodes and n50 of 4865, max 24714, total 4451317, using 490991/500000 reads\r\n"
       ]
      }
     ],
     "prompt_number": 7
    },
    {
     "cell_type": "code",
     "collapsed": false,
     "input": [
      "!head k.31/contigs.fa"
     ],
     "language": "python",
     "metadata": {},
     "outputs": [
      {
       "output_type": "stream",
       "stream": "stdout",
       "text": [
        ">NODE_8_length_8205_cov_6.415600\r\n",
        "GTCGCCTTCTACGGTGATCAGCGACTGTTCGGCTTCAACTTTGTCGCCCACTTTGACCAG\r\n",
        "GATCTCGGTGATTTCAACTTCATCAGCCCCGATGTCCGGTACTTTGATTTCGATAGCCAT\r\n",
        "TATTCTTTTACCTCTTACGCCAGACGCGGGTTAACTTTATCTGCATCGATGTTGAATTTG\r\n",
        "GCGATTGCGTCAGCAACCACTTTCTTATCGATTTCGCCACGTTTAGCCAGTTCGCCCAGC\r\n",
        "GCCGCAACCACGACATAAGAAGCATCAACTTCGAAGTGGTGACGCAGGTTCTCACGGCTG\r\n",
        "TCGGGACGGCCGAAGCCATCAGTACCCAGTACGCGGTAGTCGTCAGCCGGTACGTAAGTA\r\n",
        "CGGACCTGCTCAGCGAACAGTTTCATATAGTCGGTAGATGCCACTGCCGGAGCGTCGTTC\r\n",
        "ATCACCTGAGCGATATACGGAACGCGCGGAGTTTCCAGCGGGTGCAGCATGTTCCAGCGT\r\n",
        "TCACAATCCTGACCATCACGCGCCAGCTCGGTGAAGGAGGTCACGCTATAAACGTCAGAA\r\n"
       ]
      }
     ],
     "prompt_number": 8
    },
    {
     "cell_type": "code",
     "collapsed": false,
     "input": [
      "import screed\n",
      "contig_lengths = [ len(record.sequence) for record in screed.open('k.31/contigs.fa') ]"
     ],
     "language": "python",
     "metadata": {},
     "outputs": [],
     "prompt_number": 9
    },
    {
     "cell_type": "code",
     "collapsed": false,
     "input": [
      "hist(contig_lengths, bins=20);"
     ],
     "language": "python",
     "metadata": {},
     "outputs": [
      {
       "output_type": "display_data",
       "png": "[encoded data removed]",
       "text": [
        "<matplotlib.figure.Figure at 0x3247a50>"
       ]
      }
     ],
     "prompt_number": 10
    },
    {
     "cell_type": "markdown",
     "metadata": {},
     "source": [
      "## Try running with several different k.\n",
      "\n",
      "How does bigger (or smaller) k affect things?  Note, k must be odd."
     ]
    },
    {
     "cell_type": "code",
     "collapsed": false,
     "input": [],
     "language": "python",
     "metadata": {},
     "outputs": [],
     "prompt_number": 10
    }
   ],
   "metadata": {}
  }
 ]
}