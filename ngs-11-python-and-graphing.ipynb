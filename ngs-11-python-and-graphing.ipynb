{
 "metadata": {
  "name": "ngs-11-python-and-graphing"
 },
 "nbformat": 3,
 "worksheets": [
  {
   "cells": [
    {
     "cell_type": "markdown",
     "source": [
      "## Using Python to load some data and do some plotting"
     ]
    },
    {
     "cell_type": "markdown",
     "source": [
      "Let's get some workout data and plot it!"
     ]
    },
    {
     "cell_type": "code",
     "input": [
      "import urllib",
      "fp = urllib.urlopen('http://ged.msu.edu/angus/tutorials-2012/files/workout.csv')",
      "for line in fp:",
      "    print line,"
     ],
     "language": "python",
     "outputs": []
    },
    {
     "cell_type": "code",
     "input": [
      "workouts = []",
      "",
      "fp = urllib.urlopen('http://ged.msu.edu/angus/tutorials-2012/files/workout.csv')",
      "for line in fp:",
      "    line = line.strip()",
      "    if line:",
      "        workouts.append(line)"
     ],
     "language": "python",
     "outputs": []
    },
    {
     "cell_type": "code",
     "input": [
      "# let's use the CSV library: http://docs.python.org/library/csv.html",
      "import csv",
      "",
      "workouts = []",
      "",
      "fp = urllib.urlopen('http://lyorn.idyll.org/~t/transfer/workout.csv')",
      "reader = csv.reader(fp)",
      "for line in reader:",
      "    if line:",
      "        if not line[0].startswith('#'):",
      "            workouts.append(line)",
      "",
      "workouts"
     ],
     "language": "python",
     "outputs": []
    },
    {
     "cell_type": "code",
     "input": [
      "# http://docs.python.org/library/datetime.html",
      "from datetime import datetime",
      "workouts2 = []",
      "for (date, exercise, miles, duration) in workouts:",
      "    miles = int(miles)",
      "    duration = int(duration)",
      "    exercise = exercise.strip()",
      "    date = datetime.strptime(date, \"%Y, %b-%d\")",
      "    workouts2.append([date, exercise, miles, duration])",
      "    ",
      "workouts = workouts2"
     ],
     "language": "python",
     "outputs": []
    },
    {
     "cell_type": "code",
     "input": [
      "durations = []",
      "for row in workouts:",
      "    durations.append(row[3])",
      "durations"
     ],
     "language": "python",
     "outputs": []
    },
    {
     "cell_type": "code",
     "input": [
      "days = []",
      "for row in workouts:",
      "    date = row[0]",
      "    day = date.day",
      "    days.append(day)",
      "days"
     ],
     "language": "python",
     "outputs": []
    },
    {
     "cell_type": "code",
     "input": [
      "plot(days, durations, 'r--', linewidth=2)",
      "xlabel('Day of month')",
      "ylabel('Duration of workout')",
      "title('Titus\\'s workout')",
      "grid()",
      "xticks(range(1, max(days) + 1))",
      "axis(ymax=70)"
     ],
     "language": "python",
     "outputs": []
    },
    {
     "cell_type": "code",
     "input": [
      ""
     ],
     "language": "python",
     "outputs": []
    }
   ]
  }
 ]
}