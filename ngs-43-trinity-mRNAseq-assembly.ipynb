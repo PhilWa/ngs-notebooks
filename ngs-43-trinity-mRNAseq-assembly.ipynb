{
 "metadata": {
  "name": "ngs-43-trinity-mRNAseq-assembly"
 },
 "nbformat": 3,
 "worksheets": [
  {
   "cells": [
    {
     "cell_type": "markdown",
     "source": [
      "# Using Trinity for transcriptome assembly",
      "",
      "Trinity is another commonly-used transcriptome assembler; below, we'll use it to assemble some yeast mRNAseq data.",
      "",
      "See: http://trinityrnaseq.sourceforge.net",
      "",
      "You'll need to have the assembly data mounted on /assembly-data, as with the Velvet tutorial (ngs-41-velvet-genome-assembly)."
     ]
    },
    {
     "cell_type": "markdown",
     "source": [
      "First, install some other stuff --"
     ]
    },
    {
     "cell_type": "code",
     "input": [
      "!PATH=/sbin:/usr/sbin:$$PATH apt-get -y --force-yes install libbz2-dev"
     ],
     "language": "python",
     "outputs": []
    },
    {
     "cell_type": "code",
     "input": [
      "cd /mnt"
     ],
     "language": "python",
     "outputs": []
    },
    {
     "cell_type": "markdown",
     "source": [
      "Copy the data over."
     ]
    },
    {
     "cell_type": "code",
     "input": [
      "!mkdir yeast-trinity",
      "!cp /assembly-data/yeast-1m.fq.gz yeast-trinity"
     ],
     "language": "python",
     "outputs": []
    },
    {
     "cell_type": "code",
     "input": [
      "cd /mnt"
     ],
     "language": "python",
     "outputs": []
    },
    {
     "cell_type": "code",
     "input": [
      "!cp /assembly-data/trinityrnaseq_r2012-05-18.tar.gz ./"
     ],
     "language": "python",
     "outputs": []
    },
    {
     "cell_type": "code",
     "input": [
      "!tar xzf assembly-data/trinity*.tar.gz"
     ],
     "language": "python",
     "outputs": []
    },
    {
     "cell_type": "code",
     "input": [
      "cd trinityrnaseq_r2012-05-18"
     ],
     "language": "python",
     "outputs": []
    },
    {
     "cell_type": "code",
     "input": [
      "ls"
     ],
     "language": "python",
     "outputs": []
    },
    {
     "cell_type": "markdown",
     "source": [
      "Build Trinity."
     ]
    },
    {
     "cell_type": "code",
     "input": [
      "!make"
     ],
     "language": "python",
     "outputs": []
    },
    {
     "cell_type": "code",
     "input": [
      "cd /mnt/yeast-trinity/"
     ],
     "language": "python",
     "outputs": []
    },
    {
     "cell_type": "markdown",
     "source": [
      "Split the Yeast data up into left and right ends."
     ]
    },
    {
     "cell_type": "code",
     "input": [
      "!python /usr/local/src/khmer/sandbox/split-pe.py yeast-1m.fq.gz"
     ],
     "language": "python",
     "outputs": []
    },
    {
     "cell_type": "markdown",
     "source": [
      "And now... run Trinity!  This will take a while."
     ]
    },
    {
     "cell_type": "code",
     "input": [
      "!rm -fr trinity_out_dir",
      "!ulimit -s unlimited && ../trinityrnaseq_r2012-05-18/Trinity.pl --kmer_method meryl --SS_lib_type RF --seqType fa --left yeast-1m.fq.gz.1 --right yeast-1m.fq.gz.2"
     ],
     "language": "python",
     "outputs": []
    },
    {
     "cell_type": "code",
     "input": [
      "!python /usr/local/src/khmer/sandbox/assemstats3.py 300 /mnt/yeast-trinity/trinity_out_dir/Trinity.fasta"
     ],
     "language": "python",
     "outputs": []
    },
    {
     "cell_type": "markdown",
     "source": [
      "Note, if you've already run the Oases assembly, you can compare with that:"
     ]
    },
    {
     "cell_type": "code",
     "input": [
      "!python /usr/local/src/khmer/sandbox/assemstats3.py 300 /mnt/yeast-oases/yeast.31/transcripts.fa"
     ],
     "language": "python",
     "outputs": []
    },
    {
     "cell_type": "markdown",
     "source": [
      "The Trinity one *looks* better... but how would you tell, anyway?  More on this later."
     ]
    },
    {
     "cell_type": "markdown",
     "source": [
      "And, of course, we can look at the transcript length distribution here, too:"
     ]
    },
    {
     "cell_type": "code",
     "input": [
      "import screed",
      "",
      "lengths = []",
      "for read in screed.open('trinity_out_dir/Trinity.fasta'):",
      "    lengths.append(len(read.sequence))",
      ""
     ],
     "language": "python",
     "outputs": []
    },
    {
     "cell_type": "code",
     "input": [
      "hist(lengths, bins=20)"
     ],
     "language": "python",
     "outputs": []
    }
   ]
  }
 ]
}