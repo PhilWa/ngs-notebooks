{
 "metadata": {
  "name": "ngs-42-oases-mRNAseq-assembly"
 },
 "nbformat": 3,
 "worksheets": [
  {
   "cells": [
    {
     "cell_type": "markdown",
     "source": [
      "# Using Oases for transcriptome assembly.",
      "",
      "Oases is a commonly-used transcriptome assembler; below, we'll use it to assemble some yeast mRNAseq data.",
      "",
      "See: http://www.ebi.ac.uk/~zerbino/oases/ and http://bioinformatics.oxfordjournals.org/content/early/2012/02/24/bioinformatics.bts094.short"
     ]
    },
    {
     "cell_type": "markdown",
     "source": [
      "## Requirements",
      "",
      "If you haven't already, run through the first part of ngs-41-velvet-genome-assembly to download, build, and install Velvet.",
      "",
      "(Oases depends on Velvet.)"
     ]
    },
    {
     "cell_type": "markdown",
     "source": [
      "Now, download and compile Oases:"
     ]
    },
    {
     "cell_type": "code",
     "input": [
      "cd /mnt"
     ],
     "language": "python",
     "outputs": []
    },
    {
     "cell_type": "code",
     "input": [
      "!curl -O http://www.ebi.ac.uk/~zerbino/oases/oases_0.2.07.tgz",
      "!tar xzf oases_0.2.07.tgz",
      "!cd oases_0.2.07 && make VELVET_DIR=../velvet_1.2.06 MAXKMERLENGTH=51",
      "!cp oases_0.2.07/oases /usr/local/bin"
     ],
     "language": "python",
     "outputs": []
    },
    {
     "cell_type": "code",
     "input": [
      "!mkdir yeast-oases",
      "!cp /assembly-data/yeast-1m.fq.gz yeast-oases"
     ],
     "language": "python",
     "outputs": []
    },
    {
     "cell_type": "code",
     "input": [
      "cd yeast-oases"
     ],
     "language": "python",
     "outputs": []
    },
    {
     "cell_type": "code",
     "input": [
      "ls"
     ],
     "language": "python",
     "outputs": []
    },
    {
     "cell_type": "code",
     "input": [
      "!velveth yeast.31 31 -shortPaired -fastq.gz yeast-1m.fq.gz"
     ],
     "language": "python",
     "outputs": []
    },
    {
     "cell_type": "code",
     "input": [
      "!velvetg yeast.31 -read_trkg yes"
     ],
     "language": "python",
     "outputs": []
    },
    {
     "cell_type": "code",
     "input": [
      "!oases yeast.31"
     ],
     "language": "python",
     "outputs": []
    },
    {
     "cell_type": "markdown",
     "source": [
      "And voila, your assembled sequences are in /mnt/yeast-oases/yeast.31/transcripts.fa!"
     ]
    },
    {
     "cell_type": "code",
     "input": [
      "!head /mnt/yeast-oases/yeast.31/transcripts.fa"
     ],
     "language": "python",
     "outputs": []
    },
    {
     "cell_type": "code",
     "input": [
      "!python /usr/local/src/khmer/sandbox/assemstats3.py 1000 yeast.31/transcripts.fa"
     ],
     "language": "python",
     "outputs": []
    },
    {
     "cell_type": "markdown",
     "source": [
      "As with Velvet, you can compute the contig length distribution:"
     ]
    },
    {
     "cell_type": "code",
     "input": [
      "cd /mnt/yeast-oases"
     ],
     "language": "python",
     "outputs": []
    },
    {
     "cell_type": "code",
     "input": [
      "import screed",
      "",
      "lengths = []",
      "for read in screed.open('yeast.31/transcripts.fa'):",
      "    lengths.append(len(read.sequence))",
      ""
     ],
     "language": "python",
     "outputs": []
    },
    {
     "cell_type": "code",
     "input": [
      "hist(lengths, bins=20)"
     ],
     "language": "python",
     "outputs": []
    },
    {
     "cell_type": "markdown",
     "source": [
      "At this point, it's probably worth asking -- how *do* you evaluate an mRNAseq assembly, anyway??"
     ]
    },
    {
     "cell_type": "code",
     "input": [
      ""
     ],
     "language": "python",
     "outputs": []
    }
   ]
  }
 ]
}