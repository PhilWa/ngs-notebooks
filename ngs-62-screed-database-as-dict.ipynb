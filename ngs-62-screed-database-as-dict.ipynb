{
 "metadata": {
  "name": "ngs-62-screed-database-as-dict"
 },
 "nbformat": 3,
 "worksheets": [
  {
   "cells": [
    {
     "cell_type": "code",
     "input": [
      "cd /usr/local/src/screed"
     ],
     "language": "python",
     "outputs": [
      {
       "output_type": "stream",
       "stream": "stdout",
       "text": [
        "/usr/local/src/screed",
        ""
       ]
      }
     ],
     "prompt_number": 1
    },
    {
     "cell_type": "code",
     "input": [
      "cp screed/tests/test.fa.gz /mnt",
      ""
     ],
     "language": "python",
     "outputs": [],
     "prompt_number": 2
    },
    {
     "cell_type": "code",
     "input": [
      "cd /mnt"
     ],
     "language": "python",
     "outputs": [
      {
       "output_type": "stream",
       "stream": "stdout",
       "text": [
        "/mnt"
       ]
      },
      {
       "output_type": "stream",
       "stream": "stdout",
       "text": [
        "",
        ""
       ]
      }
     ],
     "prompt_number": 3
    },
    {
     "cell_type": "code",
     "input": [
      "ls",
      ""
     ],
     "language": "python",
     "outputs": [
      {
       "output_type": "stream",
       "stream": "stdout",
       "text": [
        "\u001b[0m\u001b[01;34m2012-paper-diginorm\u001b[0m/            mouse.protein.faa.psi",
        "\u001b[01;34mblast-2.2.24\u001b[0m/                   mouse.protein.faa.psq",
        "blast-2.2.24-ia32-linux.tar.gz  out.txt",
        "\u001b[01;34mecoli\u001b[0m/                          test.fa.gz",
        "formatdb.log                    \u001b[01;34mvelvet_1.2.06\u001b[0m/",
        "\u001b[01;34mkmer\u001b[0m/                           velvet_1.2.06.tgz",
        "\u001b[01;34mlost+found\u001b[0m/                     zebrafish.protein.faa",
        "mm-first.fa                     zebrafish.protein.faa.phr",
        "mouse.protein.faa               zebrafish.protein.faa.pin",
        "mouse.protein.faa.phr           zebrafish.protein.faa.pnd",
        "mouse.protein.faa.pin           zebrafish.protein.faa.pni",
        "mouse.protein.faa.pnd           zebrafish.protein.faa.psd",
        "mouse.protein.faa.pni           zebrafish.protein.faa.psi",
        "mouse.protein.faa.psd           zebrafish.protein.faa.psq",
        ""
       ]
      }
     ],
     "prompt_number": 4
    },
    {
     "cell_type": "code",
     "input": [
      "!gunzip test.fa.gz"
     ],
     "language": "python",
     "outputs": [],
     "prompt_number": 5
    },
    {
     "cell_type": "code",
     "input": [
      "import screed"
     ],
     "language": "python",
     "outputs": [],
     "prompt_number": 6
    },
    {
     "cell_type": "code",
     "input": [
      "db = screed.read_fasta_sequences('test.fa')"
     ],
     "language": "python",
     "outputs": [],
     "prompt_number": 7
    },
    {
     "cell_type": "code",
     "input": [
      "seq = db['ENSMICT00000012722']",
      "print seq.name",
      "print seq.sequence"
     ],
     "language": "python",
     "outputs": [
      {
       "output_type": "stream",
       "stream": "stdout",
       "text": [
        "ENSMICT00000012722"
       ]
      },
      {
       "output_type": "stream",
       "stream": "stdout",
       "text": [
        "",
        "TGCAGAAAATATCAAGAGTCAGCAGAAAAACTATACAAGGGCTGGTATTTTGATTATTCTATAAAAATTCACTTTTTGCTCAGTGTCTTTCATCTGGGCCTGGCCTCCTCTCTTGCAAGCCCTGGATTCATAACATCTATAATAATTTTTATATGTGGTAGAGTAATATTAGCTGATTCCTTTGCCTCCTGTTCCTTCCCCTCATTCAGGCAGCTGGCCAGGTTTGTGCTCCTTATCTCGCAGAAGAGATGTGATAGCAGGCAGAGAATTAAAGTCTTCCTGGCTTTTGGTTTCAGAAGCTGCCTTGGGAAGGAAGCAAACAAACATGCCACAGATAAAATATTTGAAAGAAAAGATAATGAAAGTAGAAAAGGGTTCCCTGTTCTTGTGGGGAGGAAGTGA",
        ""
       ]
      }
     ],
     "prompt_number": 8
    },
    {
     "cell_type": "code",
     "input": [
      "!ls -l"
     ],
     "language": "python",
     "outputs": [
      {
       "output_type": "stream",
       "stream": "stdout",
       "text": [
        "total 132928",
        "drwxr-xr-x  5 root root     4096 2012-10-08 01:11 2012-paper-diginorm",
        "drwxr-xr-x  5 3755 5333     4096 2010-08-08 14:25 blast-2.2.24",
        "-rw-r--r--  1 root root 35780218 2012-10-08 01:08 blast-2.2.24-ia32-linux.tar.gz",
        "drwxr-xr-x  3 root root     4096 2012-10-08 01:11 ecoli",
        "-rw-r--r--  1 root root      466 2012-10-08 01:08 formatdb.log",
        "drwxr-xr-x  3 root root     4096 2012-10-08 01:11 kmer",
        "drwx------  2 root root    16384 2011-01-19 01:43 lost+found",
        "-rw-r--r--  1 root root      895 2012-10-08 01:08 mm-first.fa",
        "-rw-r--r--  1 root root 18803928 2012-10-08 01:08 mouse.protein.faa",
        "-rw-r--r--  1 root root  3733342 2012-10-08 01:08 mouse.protein.faa.phr",
        "-rw-r--r--  1 root root   241200 2012-10-08 01:08 mouse.protein.faa.pin",
        "-rw-r--r--  1 root root   241120 2012-10-08 01:08 mouse.protein.faa.pnd",
        "-rw-r--r--  1 root root      988 2012-10-08 01:08 mouse.protein.faa.pni",
        "-rw-r--r--  1 root root  1073167 2012-10-08 01:08 mouse.protein.faa.psd",
        "-rw-r--r--  1 root root    23417 2012-10-08 01:08 mouse.protein.faa.psi",
        "-rw-r--r--  1 root root 16014975 2012-10-08 01:08 mouse.protein.faa.psq",
        "-rw-r--r--  1 root root    62562 2012-10-08 01:08 out.txt",
        "-rw-r--r--  1 root root    12717 2012-10-08 01:11 test.fa",
        "-rw-r--r--  1 root root    22528 2012-10-08 01:11 test.fa_screed",
        "drwxr-xr-x 10 4205 1304     4096 2012-10-08 01:11 velvet_1.2.06",
        "-rw-r--r--  1 root root 23512745 2012-10-08 01:11 velvet_1.2.06.tgz",
        "-rw-r--r--  1 root root 16984265 2012-10-08 01:08 zebrafish.protein.faa",
        "-rw-r--r--  1 root root  3433289 2012-10-08 01:08 zebrafish.protein.faa.phr",
        "-rw-r--r--  1 root root   218240 2012-10-08 01:08 zebrafish.protein.faa.pin",
        "-rw-r--r--  1 root root   218152 2012-10-08 01:08 zebrafish.protein.faa.pnd",
        "-rw-r--r--  1 root root      900 2012-10-08 01:08 zebrafish.protein.faa.pni",
        "-rw-r--r--  1 root root  1024853 2012-10-08 01:08 zebrafish.protein.faa.psd",
        "-rw-r--r--  1 root root    23755 2012-10-08 01:08 zebrafish.protein.faa.psi",
        "-rw-r--r--  1 root root 14402299 2012-10-08 01:08 zebrafish.protein.faa.psq",
        ""
       ]
      }
     ],
     "prompt_number": 9
    },
    {
     "cell_type": "code",
     "input": [
      ""
     ],
     "language": "python",
     "outputs": [],
     "prompt_number": 9
    },
    {
     "cell_type": "code",
     "input": [
      ""
     ],
     "language": "python",
     "outputs": [],
     "prompt_number": 9
    }
   ]
  }
 ]
}