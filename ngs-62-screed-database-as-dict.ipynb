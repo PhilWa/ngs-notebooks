{
 "metadata": {
  "name": "ngs-62-screed-database-as-dict"
 },
 "nbformat": 3,
 "worksheets": [
  {
   "cells": [
    {
     "cell_type": "code",
     "input": [
      "cd /usr/local/src/screed"
     ],
     "language": "python",
     "outputs": [
      {
       "output_type": "stream",
       "stream": "stdout",
       "text": [
        "/usr/local/src/screed",
        ""
       ]
      }
     ],
     "prompt_number": 1
    },
    {
     "cell_type": "code",
     "input": [
      "cp screed/tests/test.fa.gz /mnt",
      ""
     ],
     "language": "python",
     "outputs": [],
     "prompt_number": 5
    },
    {
     "cell_type": "code",
     "input": [
      "cd /mnt"
     ],
     "language": "python",
     "outputs": [
      {
       "output_type": "stream",
       "stream": "stdout",
       "text": [
        "/mnt"
       ]
      },
      {
       "output_type": "stream",
       "stream": "stdout",
       "text": [
        "",
        ""
       ]
      }
     ],
     "prompt_number": 6
    },
    {
     "cell_type": "code",
     "input": [
      "ls",
      ""
     ],
     "language": "python",
     "outputs": [
      {
       "output_type": "stream",
       "stream": "stdout",
       "text": [
        "\u001b[0m\u001b[01;34mlost+found\u001b[0m/  \u001b[01;34msamtools-0.1.18\u001b[0m/  samtools-0.1.18.tar.bz2  test.fa.gz",
        ""
       ]
      }
     ],
     "prompt_number": 7
    },
    {
     "cell_type": "code",
     "input": [
      "!gunzip test.fa.gz"
     ],
     "language": "python",
     "outputs": [],
     "prompt_number": 12
    },
    {
     "cell_type": "code",
     "input": [
      "import screed"
     ],
     "language": "python",
     "outputs": [],
     "prompt_number": 10
    },
    {
     "cell_type": "code",
     "input": [
      "db = screed.read_fasta_sequences('test.fa')"
     ],
     "language": "python",
     "outputs": [],
     "prompt_number": 14
    },
    {
     "cell_type": "code",
     "input": [
      "seq = db['ENSMICT00000012722']",
      "print seq.name",
      "print seq.sequence"
     ],
     "language": "python",
     "outputs": [
      {
       "output_type": "stream",
       "stream": "stdout",
       "text": [
        "ENSMICT00000012722"
       ]
      },
      {
       "output_type": "stream",
       "stream": "stdout",
       "text": [
        "",
        "TGCAGAAAATATCAAGAGTCAGCAGAAAAACTATACAAGGGCTGGTATTTTGATTATTCTATAAAAATTCACTTTTTGCTCAGTGTCTTTCATCTGGGCCTGGCCTCCTCTCTTGCAAGCCCTGGATTCATAACATCTATAATAATTTTTATATGTGGTAGAGTAATATTAGCTGATTCCTTTGCCTCCTGTTCCTTCCCCTCATTCAGGCAGCTGGCCAGGTTTGTGCTCCTTATCTCGCAGAAGAGATGTGATAGCAGGCAGAGAATTAAAGTCTTCCTGGCTTTTGGTTTCAGAAGCTGCCTTGGGAAGGAAGCAAACAAACATGCCACAGATAAAATATTTGAAAGAAAAGATAATGAAAGTAGAAAAGGGTTCCCTGTTCTTGTGGGGAGGAAGTGA",
        ""
       ]
      }
     ],
     "prompt_number": 17
    },
    {
     "cell_type": "code",
     "input": [
      "!ls -l"
     ],
     "language": "python",
     "outputs": [
      {
       "output_type": "stream",
       "stream": "stdout",
       "text": [
        "total 444",
        "drwx------ 2 root root   16384 2011-04-24 08:02 lost+found",
        "drwxr-xr-x 6  501 staff   4096 2012-06-14 23:15 samtools-0.1.18",
        "-rw-r--r-- 1 root root  379306 2012-06-14 23:14 samtools-0.1.18.tar.bz2",
        "-rw-r--r-- 1 root root   12717 2012-06-15 00:18 test.fa",
        "-rw-r--r-- 1 root root    3072 2012-06-15 00:21 test.fa.gz_screed",
        "-rw-r--r-- 1 root root    1544 2012-06-15 00:21 test.fa.gz_screed-journal",
        "-rw-r--r-- 1 root root   22528 2012-06-15 00:22 test.fa_screed",
        ""
       ]
      }
     ],
     "prompt_number": 18
    },
    {
     "cell_type": "code",
     "input": [
      ""
     ],
     "language": "python",
     "outputs": []
    },
    {
     "cell_type": "code",
     "input": [
      ""
     ],
     "language": "python",
     "outputs": []
    }
   ]
  }
 ]
}