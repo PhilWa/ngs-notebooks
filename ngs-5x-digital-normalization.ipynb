{
 "metadata": {
  "name": "ngs-5x-digital-normalization"
 },
 "nbformat": 3,
 "nbformat_minor": 0,
 "worksheets": [
  {
   "cells": [
    {
     "cell_type": "markdown",
     "metadata": {},
     "source": [
      "You'll need to install khmer and screed; see ngs-02 and ngs-03 notebooks."
     ]
    },
    {
     "cell_type": "code",
     "collapsed": false,
     "input": [
      "cd /mnt"
     ],
     "language": "python",
     "metadata": {},
     "outputs": []
    },
    {
     "cell_type": "markdown",
     "metadata": {},
     "source": [
      "## First, grab some code from the digital normalization paper for making simulated genomes & reads."
     ]
    },
    {
     "cell_type": "code",
     "collapsed": false,
     "input": [
      "!git clone git://github.com/ged-lab/2012-paper-diginorm.git"
     ],
     "language": "python",
     "metadata": {},
     "outputs": []
    },
    {
     "cell_type": "code",
     "collapsed": false,
     "input": [
      "mkdir kmer"
     ],
     "language": "python",
     "metadata": {},
     "outputs": []
    },
    {
     "cell_type": "code",
     "collapsed": false,
     "input": [
      "cd kmer"
     ],
     "language": "python",
     "metadata": {},
     "outputs": []
    },
    {
     "cell_type": "markdown",
     "metadata": {},
     "source": [
      "## Now, make a random genome of length 8kb (4 x 2000)"
     ]
    },
    {
     "cell_type": "code",
     "collapsed": false,
     "input": [
      "import random\n",
      "random.seed(1)\n",
      "\n",
      "x = [\"A\"] + [\"G\"] + [\"C\"] + [\"T\"]\n",
      "x = x*2000\n",
      "random.shuffle(x)\n",
      "x = \"\".join(x)\n",
      "x"
     ],
     "language": "python",
     "metadata": {},
     "outputs": []
    },
    {
     "cell_type": "code",
     "collapsed": false,
     "input": [
      "fp = open('genome.fa', 'w')\n",
      "fp.write('>genome\\n')\n",
      "fp.write(x)\n",
      "fp.close()"
     ],
     "language": "python",
     "metadata": {},
     "outputs": []
    },
    {
     "cell_type": "markdown",
     "metadata": {},
     "source": [
      "## Make reads with a 1% error rate to a coverage of about 200"
     ]
    },
    {
     "cell_type": "code",
     "collapsed": false,
     "input": [
      "!python /mnt/2012-paper-diginorm/pipeline/make-reads.py genome.fa > reads.fa"
     ],
     "language": "python",
     "metadata": {},
     "outputs": []
    },
    {
     "cell_type": "code",
     "collapsed": false,
     "input": [
      "!head reads.fa"
     ],
     "language": "python",
     "metadata": {},
     "outputs": []
    },
    {
     "cell_type": "markdown",
     "metadata": {},
     "source": [
      "## Now, use khmer to load all the 20-mers in the reads into a counting data structure.\n",
      "\n",
      "The counting data structure is saved as counts.kh.  Other parameters explained in:\n",
      "\n",
      "http://readthedocs.org/docs/khmer/en/latest/scripts.html"
     ]
    },
    {
     "cell_type": "code",
     "collapsed": false,
     "input": [
      "!python /usr/local/src/khmer/scripts/load-into-counting.py -x 1e8 -N 4 -k 20 counts.kh reads.fa"
     ],
     "language": "python",
     "metadata": {},
     "outputs": []
    },
    {
     "cell_type": "markdown",
     "metadata": {},
     "source": [
      "## Get the abundance distribution of the k-mers in the reads"
     ]
    },
    {
     "cell_type": "code",
     "collapsed": false,
     "input": [
      "!python /usr/local/src/khmer/scripts/abundance-dist.py -s counts.kh reads.fa reads.dist"
     ],
     "language": "python",
     "metadata": {},
     "outputs": []
    },
    {
     "cell_type": "markdown",
     "metadata": {},
     "source": [
      "## The output is in 'reads.dist'\n",
      "\n",
      "Column 0 is the k-mer count; column 1 is the number of k-mers with that count; column 2 is the running total of column 1; and column 3 is the fraction of totla in column 2."
     ]
    },
    {
     "cell_type": "code",
     "collapsed": false,
     "input": [
      "!head reads.dist"
     ],
     "language": "python",
     "metadata": {},
     "outputs": []
    },
    {
     "cell_type": "markdown",
     "metadata": {},
     "source": [
      "## Now, plot the abundance distribution"
     ]
    },
    {
     "cell_type": "code",
     "collapsed": false,
     "input": [
      "x = []\n",
      "y = []\n",
      "for line in open('reads.dist'):\n",
      "    count, num, total, frac = line.split()\n",
      "    x.append(int(count))\n",
      "    y.append(int(num))"
     ],
     "language": "python",
     "metadata": {},
     "outputs": []
    },
    {
     "cell_type": "markdown",
     "metadata": {},
     "source": [
      "## Reads with errors have many k-mers with abundance=1."
     ]
    },
    {
     "cell_type": "code",
     "collapsed": false,
     "input": [
      "plot(x, y)"
     ],
     "language": "python",
     "metadata": {},
     "outputs": []
    },
    {
     "cell_type": "markdown",
     "metadata": {},
     "source": [
      "## There will also be a bunch of high-count k-mers correlated with coverage"
     ]
    },
    {
     "cell_type": "code",
     "collapsed": false,
     "input": [
      "plot(x, y)\n",
      "axis(ymax=1000)"
     ],
     "language": "python",
     "metadata": {},
     "outputs": []
    },
    {
     "cell_type": "markdown",
     "metadata": {},
     "source": [
      "## Apply digital normalization to downsample to a coverage of 20 @ k=20"
     ]
    },
    {
     "cell_type": "code",
     "collapsed": false,
     "input": [
      "!python /usr/local/src/khmer/scripts/normalize-by-median.py -x 2e8 -N 4 -k 20 -C 20 reads.fa"
     ],
     "language": "python",
     "metadata": {},
     "outputs": []
    },
    {
     "cell_type": "markdown",
     "metadata": {},
     "source": [
      "## Count the k-mers in the digitally normalized reads"
     ]
    },
    {
     "cell_type": "code",
     "collapsed": false,
     "input": [
      "!python /usr/local/src/khmer/scripts/load-into-counting.py -x 1e8 -N 4 -k 20 counts-dn.kh reads.fa.keep"
     ],
     "language": "python",
     "metadata": {},
     "outputs": []
    },
    {
     "cell_type": "code",
     "collapsed": false,
     "input": [
      "!python /usr/local/src/khmer/scripts/abundance-dist.py -s counts-dn.kh reads.fa.keep reads.dn.dist"
     ],
     "language": "python",
     "metadata": {},
     "outputs": []
    },
    {
     "cell_type": "code",
     "collapsed": false,
     "input": [
      "!head reads.dn.dist"
     ],
     "language": "python",
     "metadata": {},
     "outputs": []
    },
    {
     "cell_type": "markdown",
     "metadata": {},
     "source": [
      "## Compare the raw and diginormed reads"
     ]
    },
    {
     "cell_type": "code",
     "collapsed": false,
     "input": [
      "x2 = []\n",
      "y2 = []\n",
      "for line in open('reads.dn.dist'):\n",
      "    count, num, total, frac = line.split()\n",
      "    x2.append(int(count))\n",
      "    y2.append(int(num))"
     ],
     "language": "python",
     "metadata": {},
     "outputs": []
    },
    {
     "cell_type": "code",
     "collapsed": false,
     "input": [
      "plot(x2, y2)\n",
      "axis(ymax=2000)"
     ],
     "language": "python",
     "metadata": {},
     "outputs": []
    },
    {
     "cell_type": "markdown",
     "metadata": {},
     "source": [
      "## Now let's look at mapping-based measures of coverage"
     ]
    },
    {
     "cell_type": "markdown",
     "metadata": {},
     "source": [
      "### Index the reference genome"
     ]
    },
    {
     "cell_type": "code",
     "collapsed": false,
     "input": [
      "!bowtie-build genome.fa genome"
     ],
     "language": "python",
     "metadata": {},
     "outputs": []
    },
    {
     "cell_type": "markdown",
     "metadata": {},
     "source": [
      "## Map the raw and abundance filtered reads to the reference genome"
     ]
    },
    {
     "cell_type": "code",
     "collapsed": false,
     "input": [
      "!bowtie -f -a --strata --best genome reads.fa > reads.map\n",
      "!bowtie -f -a --strata --best genome reads.fa.keep > reads.map.keep"
     ],
     "language": "python",
     "metadata": {},
     "outputs": []
    },
    {
     "cell_type": "code",
     "collapsed": false,
     "input": [
      "!head -3 reads.map"
     ],
     "language": "python",
     "metadata": {},
     "outputs": []
    },
    {
     "cell_type": "markdown",
     "metadata": {},
     "source": [
      "## Build a function to read in the mapping output file"
     ]
    },
    {
     "cell_type": "code",
     "collapsed": false,
     "input": [
      "# define a function that we can use to read in the mapping output file\n",
      "def read_mapping_file(filename):\n",
      "    for line in open(filename):\n",
      "        _, orient, refname, pos, read, _, _, mismatches = line.split('\\t')[:8]\n",
      "        pos = int(pos)\n",
      "        mismatches = mismatches.split(',')\n",
      "        x = []\n",
      "        for posn in mismatches:\n",
      "            posn = posn.strip()\n",
      "            if posn:\n",
      "                posn = posn.split(':')[0]\n",
      "                posn = int(posn)\n",
      "                x.append(posn)\n",
      "        yield orient, refname, pos, read, x"
     ],
     "language": "python",
     "metadata": {},
     "outputs": []
    },
    {
     "cell_type": "markdown",
     "metadata": {},
     "source": [
      "## Plot *coverage* distribution (using 'hist')"
     ]
    },
    {
     "cell_type": "code",
     "collapsed": false,
     "input": [
      "genome_pos = {}\n",
      "\n",
      "for (orient, refname, pos, read, mismatches) in read_mapping_file('reads.map'):\n",
      "    for readi in range(len(read)):\n",
      "        genome_pos[pos + readi] = genome_pos.get(pos + readi, 0) + 1\n",
      "\n",
      "genome_pos_keep = {}\n",
      "\n",
      "for (orient, refname, pos, read, mismatches) in read_mapping_file('reads.map.keep'):\n",
      "    for readi in range(len(read)):\n",
      "        genome_pos_keep[pos + readi] = genome_pos_keep.get(pos + readi, 0) + 1\n",
      "        "
     ],
     "language": "python",
     "metadata": {},
     "outputs": []
    },
    {
     "cell_type": "markdown",
     "metadata": {},
     "source": [
      "## Coverage distribution of original reads"
     ]
    },
    {
     "cell_type": "code",
     "collapsed": false,
     "input": [
      "hist(genome_pos.values(), bins=100)\n",
      "xlabel('coverage')\n",
      "ylabel('number of bases with that coverage')"
     ],
     "language": "python",
     "metadata": {},
     "outputs": []
    },
    {
     "cell_type": "markdown",
     "metadata": {},
     "source": [
      "## Coverage distribution of normalized reads"
     ]
    },
    {
     "cell_type": "code",
     "collapsed": false,
     "input": [
      "hist(genome_pos_keep.values(), bins=100)\n",
      "xlabel('coverage')"
     ],
     "language": "python",
     "metadata": {},
     "outputs": []
    },
    {
     "cell_type": "code",
     "collapsed": false,
     "input": [],
     "language": "python",
     "metadata": {},
     "outputs": []
    }
   ],
   "metadata": {}
  }
 ]
}