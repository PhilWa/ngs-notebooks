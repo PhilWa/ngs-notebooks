{
 "metadata": {
  "name": "ngs-10-blast"
 },
 "nbformat": 3,
 "worksheets": [
  {
   "cells": [
    {
     "cell_type": "code",
     "input": [
      "cd /mnt"
     ],
     "language": "python",
     "outputs": [
      {
       "output_type": "stream",
       "stream": "stdout",
       "text": [
        "/mnt",
        ""
       ]
      }
     ],
     "prompt_number": 1
    },
    {
     "cell_type": "code",
     "input": [
      "!curl -O ftp://ftp.ncbi.nih.gov/blast/executables/release/2.2.24/blast-2.2.24-ia32-linux.tar.gz",
      "!tar xzf blast-2.2.24-ia32-linux.tar.gz",
      "!cp blast-2.2.24/bin/* /usr/local/bin",
      "!cp -r blast-2.2.24/data /usr/local/blast-data"
     ],
     "language": "python",
     "outputs": [
      {
       "output_type": "stream",
       "stream": "stdout",
       "text": [
        "  % Total    % Received % Xferd  Average Speed   Time    Time     Time  Current",
        "                                 Dload  Upload   Total   Spent    Left  Speed",
        "",
        "  0     0    0     0    0     0      0      0 --:--:-- --:--:-- --:--:--     0"
       ]
      },
      {
       "output_type": "stream",
       "stream": "stdout",
       "text": [
        "",
        "  1 34.1M    1  399k    0     0   616k      0  0:00:56 --:--:--  0:00:56  654k"
       ]
      },
      {
       "output_type": "stream",
       "stream": "stdout",
       "text": [
        "",
        "  8 34.1M    8 3087k    0     0  1837k      0  0:00:19  0:00:01  0:00:18 1879k"
       ]
      },
      {
       "output_type": "stream",
       "stream": "stdout",
       "text": [
        "",
        " 26 34.1M   26 9231k    0     0  3643k      0  0:00:09  0:00:02  0:00:07 3697k"
       ]
      },
      {
       "output_type": "stream",
       "stream": "stdout",
       "text": [
        "",
        " 63 34.1M   63 21.5M    0     0  6272k      0  0:00:05  0:00:03  0:00:02 6340k"
       ]
      },
      {
       "output_type": "stream",
       "stream": "stdout",
       "text": [
        "",
        " 83 34.1M   83 28.6M    0     0  6480k      0  0:00:05  0:00:04  0:00:01 6534k"
       ]
      },
      {
       "output_type": "stream",
       "stream": "stdout",
       "text": [
        "",
        "100 34.1M  100 34.1M    0     0  6552k      0  0:00:05  0:00:05 --:--:-- 7372k",
        ""
       ]
      }
     ],
     "prompt_number": 2
    },
    {
     "cell_type": "code",
     "input": [
      "!blastall"
     ],
     "language": "python",
     "outputs": [
      {
       "output_type": "stream",
       "stream": "stdout",
       "text": [
        "/bin/sh: blastall: not found",
        ""
       ]
      }
     ],
     "prompt_number": 3
    },
    {
     "cell_type": "code",
     "input": [
      "!curl -O ftp://ftp.ncbi.nih.gov/refseq/M_musculus/mRNA_Prot/mouse.protein.faa.gz",
      "!curl -O ftp://ftp.ncbi.nih.gov/refseq/D_rerio/mRNA_Prot/zebrafish.protein.faa.gz"
     ],
     "language": "python",
     "outputs": [
      {
       "output_type": "stream",
       "stream": "stdout",
       "text": [
        "  % Total    % Received % Xferd  Average Speed   Time    Time     Time  Current",
        "                                 Dload  Upload   Total   Spent    Left  Speed",
        "",
        "  0     0    0     0    0     0      0      0 --:--:-- --:--:-- --:--:--     0"
       ]
      },
      {
       "output_type": "stream",
       "stream": "stdout",
       "text": [
        "",
        " 23 8942k   23 2063k    0     0  3001k      0  0:00:02 --:--:--  0:00:02 3021k"
       ]
      },
      {
       "output_type": "stream",
       "stream": "stdout",
       "text": [
        "",
        "100 8942k  100 8942k    0     0  5335k      0  0:00:01  0:00:01 --:--:-- 5355k",
        "",
        "100 8942k  100 8942k    0     0  5316k      0  0:00:01  0:00:01 --:--:-- 5316k"
       ]
      },
      {
       "output_type": "stream",
       "stream": "stdout",
       "text": [
        "  % Total    % Received % Xferd  Average Speed   Time    Time     Time  Current",
        "                                 Dload  Upload   Total   Spent    Left  Speed",
        "",
        "  0     0    0     0    0     0      0      0 --:--:-- --:--:-- --:--:--     0"
       ]
      },
      {
       "output_type": "stream",
       "stream": "stdout",
       "text": [
        "",
        " 55 8731k   55 4875k    0     0  5683k      0  0:00:01 --:--:--  0:00:01 5722k"
       ]
      },
      {
       "output_type": "stream",
       "stream": "stdout",
       "text": [
        "",
        "100 8731k  100 8731k    0     0  6165k      0  0:00:01  0:00:01 --:--:-- 6197k",
        ""
       ]
      }
     ],
     "prompt_number": 4
    },
    {
     "cell_type": "code",
     "input": [
      "!ls -l"
     ],
     "language": "python",
     "outputs": [
      {
       "output_type": "stream",
       "stream": "stdout",
       "text": [
        "total 52712",
        "drwxr-xr-x 5 3755 5333     4096 2010-08-08 14:25 blast-2.2.24",
        "-rw-r--r-- 1 root root 35780218 2012-06-04 03:11 blast-2.2.24-ia32-linux.tar.gz",
        "drwx------ 2 root root    16384 2010-06-06 13:22 lost+found",
        "-rw-r--r-- 1 root root  9157549 2012-06-04 03:11 mouse.protein.faa.gz",
        "-rw-r--r-- 1 root root  8941188 2012-06-04 03:11 zebrafish.protein.faa.gz",
        ""
       ]
      }
     ],
     "prompt_number": 5
    },
    {
     "cell_type": "code",
     "input": [
      "!gunzip *.faa.gz"
     ],
     "language": "python",
     "outputs": [],
     "prompt_number": 6
    },
    {
     "cell_type": "code",
     "input": [
      "!head mouse.protein.faa"
     ],
     "language": "python",
     "outputs": [
      {
       "output_type": "stream",
       "stream": "stdout",
       "text": [
        ">gi|83029092|ref|XP_357633.3| PREDICTED: similar to Ig kappa chain V-V region L7 precursor [Mus musculus]",
        "MRSLPASELSLPYHQDFRPDSSCPGLTDNHLLCEPTQKPRYPDLGRKRSGENRHRYRDVCISFIRRSFSALCHNPQKLRE",
        "NLKMVSTSQLLGLLLFWTSASRCDIVMTQSPATLSVTPGDRVSLSCRASQSISDYLHWYQQKSHESPRLLIKYASQSISG",
        "IPSRFSGSGSGSDFTLSINSVEPEDVGVYYCQNGHSFPPTMMQTIAKTSRKAEVRG",
        ">gi|70778726|ref|NP_067474.2| WD repeat domain 8 [Mus musculus]",
        "MNFSESFKLSGLLCRFSPDGKYLASCVQYRLVIRDVTTLQILQLYTCLDQIQHIEWSADSLFILCAMYRRGLVQVWSLEQ",
        "PEWHCKIDEGSAGLVASCWSPDGRHILNTTEFHLRITVWSLCTKSVSYIKYPKACQQGLTFTRDGRYLALAERRDCRDYV",
        "SIFVCSDWQLLRHFDTDTQDLTGIEWAPNGCVLAAWDTCLEYKVLLYSLDGRLLSAYCAYEWSLGIKSVAWSPSSQFLAI",
        "GSYDGKVRLLNHVTWKMITEFGHPATINNPKTVVYKEAEKSPLLGLGHLSFPPPRAMAGALSTSESKYEIASGPVSLQTL",
        "KPVADRANPRMGVGMLAFSSDSYFLASRNDNVPNAVWIWDIQKLKLFVVLEHMSPVRSFQWDPQQPRLAICTGGSKVYLW",
        ""
       ]
      }
     ],
     "prompt_number": 7
    },
    {
     "cell_type": "code",
     "input": [
      "!formatdb -i zebrafish.protein.faa -o T -p T",
      "!formatdb -i mouse.protein.faa -o T -p T"
     ],
     "language": "python",
     "outputs": [
      {
       "output_type": "stream",
       "stream": "stdout",
       "text": [
        "/bin/sh: formatdb: not found",
        ""
       ]
      },
      {
       "output_type": "stream",
       "stream": "stdout",
       "text": [
        "/bin/sh: formatdb: not found",
        ""
       ]
      }
     ],
     "prompt_number": 8
    },
    {
     "cell_type": "code",
     "input": [
      "!head mouse.protein.faa > mm-first.fa"
     ],
     "language": "python",
     "outputs": [],
     "prompt_number": 9
    },
    {
     "cell_type": "code",
     "input": [
      "!blastall -i mm-first.fa -d zebrafish.protein.faa -p blastp"
     ],
     "language": "python",
     "outputs": [
      {
       "output_type": "stream",
       "stream": "stdout",
       "text": [
        "/bin/sh: blastall: not found",
        ""
       ]
      }
     ],
     "prompt_number": 10
    },
    {
     "cell_type": "code",
     "input": [
      "!blastall -i mm-first.fa -d zebrafish.protein.faa -p blastp -b 2 -v 2"
     ],
     "language": "python",
     "outputs": [
      {
       "output_type": "stream",
       "stream": "stdout",
       "text": [
        "/bin/sh: blastall: not found",
        ""
       ]
      }
     ],
     "prompt_number": 11
    },
    {
     "cell_type": "code",
     "input": [
      "!blastall -i mm-first.fa -d zebrafish.protein.faa -p blastp -b 2 -v 2 -o out.txt"
     ],
     "language": "python",
     "outputs": [
      {
       "output_type": "stream",
       "stream": "stdout",
       "text": [
        "/bin/sh: blastall: not found",
        ""
       ]
      }
     ],
     "prompt_number": 12
    },
    {
     "cell_type": "code",
     "input": [
      "!cat out.txt"
     ],
     "language": "python",
     "outputs": [
      {
       "output_type": "stream",
       "stream": "stdout",
       "text": [
        "cat: out.txt: No such file or directory",
        ""
       ]
      }
     ],
     "prompt_number": 13
    },
    {
     "cell_type": "code",
     "input": [
      "import csv",
      "import blastparser",
      "",
      "# get the filename as the first argument on the command line",
      "filename = sys.argv[1]",
      "",
      "# open it for reading",
      "fp = open('out.txt')",
      "",
      "# send output as comma-separated values to stdout",
      "output = csv.writer(sys.stdout)",
      "",
      "# parse BLAST records",
      "for record in blastparser.parse_fp(fp):",
      "    for hit in record:",
      "        for match in hit.matches:",
      "            # output each match as a separate row",
      "            row = [record.query_name, hit.subject_name, match.score,",
      "                   match.expect]",
      "            output.writerow(row)"
     ],
     "language": "python",
     "outputs": [
      {
       "ename": "ImportError",
       "evalue": "No module named blastparser",
       "output_type": "pyerr",
       "traceback": [
        "\u001b[1;31m---------------------------------------------------------------------------\u001b[0m\n\u001b[1;31mImportError\u001b[0m                               Traceback (most recent call last)",
        "\u001b[1;32m<ipython-input-14-f3de931a5b9a>\u001b[0m in \u001b[0;36m<module>\u001b[1;34m()\u001b[0m\n\u001b[0;32m      1\u001b[0m \u001b[1;32mimport\u001b[0m \u001b[0mcsv\u001b[0m\u001b[1;33m\u001b[0m\u001b[0m\n\u001b[1;32m----> 2\u001b[1;33m \u001b[1;32mimport\u001b[0m \u001b[0mblastparser\u001b[0m\u001b[1;33m\u001b[0m\u001b[0m\n\u001b[0m\u001b[0;32m      3\u001b[0m \u001b[1;33m\u001b[0m\u001b[0m\n\u001b[0;32m      4\u001b[0m \u001b[1;31m# get the filename as the first argument on the command line\u001b[0m\u001b[1;33m\u001b[0m\u001b[1;33m\u001b[0m\u001b[0m\n\u001b[0;32m      5\u001b[0m \u001b[0mfilename\u001b[0m \u001b[1;33m=\u001b[0m \u001b[0msys\u001b[0m\u001b[1;33m.\u001b[0m\u001b[0margv\u001b[0m\u001b[1;33m[\u001b[0m\u001b[1;36m1\u001b[0m\u001b[1;33m]\u001b[0m\u001b[1;33m\u001b[0m\u001b[0m\n",
        "\u001b[1;31mImportError\u001b[0m: No module named blastparser"
       ]
      }
     ],
     "prompt_number": 14
    },
    {
     "cell_type": "code",
     "input": [
      ""
     ],
     "language": "python",
     "outputs": []
    }
   ]
  }
 ]
}