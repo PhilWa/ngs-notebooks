{
 "metadata": {
  "name": "ngs-10-blast"
 },
 "nbformat": 3,
 "worksheets": [
  {
   "cells": [
    {
     "cell_type": "markdown",
     "source": [
      "**First**, go to the temporary disk space."
     ]
    },
    {
     "cell_type": "code",
     "input": [
      "cd /mnt"
     ],
     "language": "python",
     "outputs": []
    },
    {
     "cell_type": "markdown",
     "source": [
      "**Second**, install BLAST.",
      "",
      "Here, we're using curl to download the BLAST distribution from NCBI; then we're using 'tar' to unpack it into the current directory; and then we're copying the program files into the directory /usr/local/bin, where we can run them from anywhere."
     ]
    },
    {
     "cell_type": "code",
     "input": [
      "!curl -O ftp://ftp.ncbi.nih.gov/blast/executables/release/2.2.24/blast-2.2.24-ia32-linux.tar.gz",
      "!tar xzf blast-2.2.24-ia32-linux.tar.gz",
      "!cp blast-2.2.24/bin/* /usr/local/bin",
      "!cp -r blast-2.2.24/data /usr/local/blast-data"
     ],
     "language": "python",
     "outputs": []
    },
    {
     "cell_type": "markdown",
     "source": [
      "**Once** we have BLAST installed, we can run it to see what options there are."
     ]
    },
    {
     "cell_type": "code",
     "input": [
      "!blastall"
     ],
     "language": "python",
     "outputs": []
    },
    {
     "cell_type": "markdown",
     "source": [
      "So, let's actually do something! Let's try BLASTing the first few sequences of the mouse RefSeq proteome against the zebrafish protein.",
      "",
      "Before we run BLAST, we need to get the FASTA files, then uncompress them."
     ]
    },
    {
     "cell_type": "code",
     "input": [
      "!curl -O ftp://ftp.ncbi.nih.gov/refseq/M_musculus/mRNA_Prot/mouse.protein.faa.gz",
      "!curl -O ftp://ftp.ncbi.nih.gov/refseq/D_rerio/mRNA_Prot/zebrafish.protein.faa.gz"
     ],
     "language": "python",
     "outputs": []
    },
    {
     "cell_type": "markdown",
     "source": [
      "Here, you can see all of the files we've downloaded:"
     ]
    },
    {
     "cell_type": "code",
     "input": [
      "!ls -l"
     ],
     "language": "python",
     "outputs": []
    },
    {
     "cell_type": "markdown",
     "source": [
      "Uncompress 'em."
     ]
    },
    {
     "cell_type": "code",
     "input": [
      "!gunzip *.faa.gz"
     ],
     "language": "python",
     "outputs": []
    },
    {
     "cell_type": "markdown",
     "source": [
      "Let's use the 'head' command to look at the first few sequences.  This takes the first 10 lines of a text file and prints them out.",
      "",
      "Note that you can also specify a specific number of lines using '-' -- e.g. 'head -15 filename.txt' will print out the first 15 lines."
     ]
    },
    {
     "cell_type": "code",
     "input": [
      "!head -11 mouse.protein.faa"
     ],
     "language": "python",
     "outputs": []
    },
    {
     "cell_type": "markdown",
     "source": [
      "Let's take the first 11 lines (through to the end of the second sequence -- I know because I cheated) and put them in a new file.  This way we can play with a subset of the data, which is always a good idea when you have lots of data!"
     ]
    },
    {
     "cell_type": "code",
     "input": [
      "!head -11 mouse.protein.faa > mm-first.fa"
     ],
     "language": "python",
     "outputs": []
    },
    {
     "cell_type": "markdown",
     "source": [
      "Now, format the FASTA files for BLAST.  This makes it easy for BLAST to search them quickly."
     ]
    },
    {
     "cell_type": "code",
     "input": [
      "!formatdb -i zebrafish.protein.faa -o T -p T",
      "!formatdb -i mouse.protein.faa -o T -p T"
     ],
     "language": "python",
     "outputs": []
    },
    {
     "cell_type": "markdown",
     "source": [
      "And now... run a BLAST!"
     ]
    },
    {
     "cell_type": "code",
     "input": [
      "!blastall -i mm-first.fa -d zebrafish.protein.faa -p blastp"
     ],
     "language": "python",
     "outputs": []
    },
    {
     "cell_type": "markdown",
     "source": [
      "Yeah, lots of output, huh?  You can control that with the '-b' and '-v' flags, which set how many matches and alignments are reported."
     ]
    },
    {
     "cell_type": "code",
     "input": [
      "!blastall -i mm-first.fa -d zebrafish.protein.faa -p blastp -b 2 -v 2"
     ],
     "language": "python",
     "outputs": []
    },
    {
     "cell_type": "markdown",
     "source": [
      "Much better, right?",
      "",
      "This is generally how you control UNIX programs -- you specify parameters with '-X' and then arguments to those parameters right after.",
      "",
      "Now, let's dump all that output into a text file using '-o':"
     ]
    },
    {
     "cell_type": "code",
     "input": [
      "!blastall -i mm-first.fa -d zebrafish.protein.faa -p blastp -b 2 -v 2 -o out.txt"
     ],
     "language": "python",
     "outputs": []
    },
    {
     "cell_type": "code",
     "input": [
      "!cat out.txt"
     ],
     "language": "python",
     "outputs": []
    },
    {
     "cell_type": "markdown",
     "source": [
      "OK, and now... we want to do something programmatic.  We're no longer content to look at the BLAST output and drool; we want to ... I dunno, turn it into a spreadsheet.",
      "",
      "Here's some Python code to do exactly that:"
     ]
    },
    {
     "cell_type": "code",
     "input": [
      "import csv",
      "import blastparser",
      "",
      "# open the output file for reading",
      "fp = open('out.txt')",
      "",
      "# send output as comma-separated values to stdout",
      "output = csv.writer(sys.stdout)",
      "",
      "# parse BLAST records",
      "for record in blastparser.parse_fp(fp):",
      "    for hit in record:",
      "        for match in hit.matches:",
      "            # output each match as a separate row",
      "            row = [record.query_name, hit.subject_name, match.score,",
      "                   match.expect]",
      "            output.writerow(row)"
     ],
     "language": "python",
     "outputs": []
    },
    {
     "cell_type": "code",
     "input": [
      ""
     ],
     "language": "python",
     "outputs": []
    }
   ]
  }
 ]
}