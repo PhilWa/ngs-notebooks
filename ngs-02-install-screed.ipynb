{
 "metadata": {
  "name": "ngs-02-install-screed"
 },
 "nbformat": 3,
 "worksheets": [
  {
   "cells": [
    {
     "cell_type": "code",
     "input": [
      "cd /usr/local/src"
     ],
     "language": "python",
     "outputs": []
    },
    {
     "cell_type": "code",
     "input": [
      "!git clone git://github.com/ged-lab/screed.git"
     ],
     "language": "python",
     "outputs": []
    },
    {
     "cell_type": "code",
     "input": [
      "!easy_install screed/"
     ],
     "language": "python",
     "outputs": []
    }
   ]
  }
 ]
}